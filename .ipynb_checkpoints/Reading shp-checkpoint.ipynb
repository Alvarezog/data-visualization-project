{
 "cells": [
  {
   "cell_type": "code",
   "execution_count": 1,
   "id": "fa67d7f0",
   "metadata": {},
   "outputs": [],
   "source": [
    "import os\n",
    "import matplotlib.pyplot as plt\n",
    "import geopandas as gpd\n",
    "import earthpy as et"
   ]
  },
  {
   "cell_type": "code",
   "execution_count": 19,
   "id": "4a32328f",
   "metadata": {},
   "outputs": [
    {
     "data": {
      "text/html": [
       "<div>\n",
       "<style scoped>\n",
       "    .dataframe tbody tr th:only-of-type {\n",
       "        vertical-align: middle;\n",
       "    }\n",
       "\n",
       "    .dataframe tbody tr th {\n",
       "        vertical-align: top;\n",
       "    }\n",
       "\n",
       "    .dataframe thead th {\n",
       "        text-align: right;\n",
       "    }\n",
       "</style>\n",
       "<table border=\"1\" class=\"dataframe\">\n",
       "  <thead>\n",
       "    <tr style=\"text-align: right;\">\n",
       "      <th></th>\n",
       "      <th>ID</th>\n",
       "      <th>fc</th>\n",
       "      <th>tergen</th>\n",
       "      <th>nombre</th>\n",
       "      <th>clase</th>\n",
       "      <th>clavecarta</th>\n",
       "      <th>geometry</th>\n",
       "    </tr>\n",
       "  </thead>\n",
       "  <tbody>\n",
       "    <tr>\n",
       "      <th>0</th>\n",
       "      <td>1</td>\n",
       "      <td>533</td>\n",
       "      <td>Punta</td>\n",
       "      <td>IXTALAHUITE</td>\n",
       "      <td>5</td>\n",
       "      <td>D1403B28</td>\n",
       "      <td>POINT (3091663.514 420314.120)</td>\n",
       "    </tr>\n",
       "    <tr>\n",
       "      <th>1</th>\n",
       "      <td>2</td>\n",
       "      <td>533</td>\n",
       "      <td>Punta</td>\n",
       "      <td>COMETA</td>\n",
       "      <td>5</td>\n",
       "      <td>D1403B28</td>\n",
       "      <td>POINT (3085363.785 419846.423)</td>\n",
       "    </tr>\n",
       "    <tr>\n",
       "      <th>2</th>\n",
       "      <td>3</td>\n",
       "      <td>533</td>\n",
       "      <td>Punta</td>\n",
       "      <td>COMETA</td>\n",
       "      <td>5</td>\n",
       "      <td>D1403B28</td>\n",
       "      <td>POINT (3085639.797 419623.405)</td>\n",
       "    </tr>\n",
       "    <tr>\n",
       "      <th>3</th>\n",
       "      <td>4</td>\n",
       "      <td>533</td>\n",
       "      <td>Punta</td>\n",
       "      <td>IXTALAHUITE</td>\n",
       "      <td>5</td>\n",
       "      <td>D1403B28</td>\n",
       "      <td>POINT (3091625.533 419946.100)</td>\n",
       "    </tr>\n",
       "    <tr>\n",
       "      <th>4</th>\n",
       "      <td>5</td>\n",
       "      <td>504</td>\n",
       "      <td>Bahía</td>\n",
       "      <td>CHAHUE</td>\n",
       "      <td>5</td>\n",
       "      <td>D1403B19</td>\n",
       "      <td>POINT (3132420.696 432154.568)</td>\n",
       "    </tr>\n",
       "  </tbody>\n",
       "</table>\n",
       "</div>"
      ],
      "text/plain": [
       "   ID   fc tergen       nombre clase clavecarta  \\\n",
       "0   1  533  Punta  IXTALAHUITE     5   D1403B28   \n",
       "1   2  533  Punta       COMETA     5   D1403B28   \n",
       "2   3  533  Punta       COMETA     5   D1403B28   \n",
       "3   4  533  Punta  IXTALAHUITE     5   D1403B28   \n",
       "4   5  504  Bahía       CHAHUE     5   D1403B19   \n",
       "\n",
       "                         geometry  \n",
       "0  POINT (3091663.514 420314.120)  \n",
       "1  POINT (3085363.785 419846.423)  \n",
       "2  POINT (3085639.797 419623.405)  \n",
       "3  POINT (3091625.533 419946.100)  \n",
       "4  POINT (3132420.696 432154.568)  "
      ]
     },
     "execution_count": 19,
     "metadata": {},
     "output_type": "execute_result"
    }
   ],
   "source": [
    "mapa = gpd.read_file('mex_nomgeo_i92.shp')\n",
    "mapa.head()"
   ]
  },
  {
   "cell_type": "code",
   "execution_count": 20,
   "id": "097ef678",
   "metadata": {},
   "outputs": [
    {
     "name": "stdout",
     "output_type": "stream",
     "text": [
      "<class 'geopandas.geodataframe.GeoDataFrame'>\n",
      "RangeIndex: 2077 entries, 0 to 2076\n",
      "Data columns (total 7 columns):\n",
      " #   Column      Non-Null Count  Dtype   \n",
      "---  ------      --------------  -----   \n",
      " 0   ID          2077 non-null   int64   \n",
      " 1   fc          1859 non-null   object  \n",
      " 2   tergen      1859 non-null   object  \n",
      " 3   nombre      2077 non-null   object  \n",
      " 4   clase       2077 non-null   object  \n",
      " 5   clavecarta  2077 non-null   object  \n",
      " 6   geometry    2077 non-null   geometry\n",
      "dtypes: geometry(1), int64(1), object(5)\n",
      "memory usage: 113.7+ KB\n"
     ]
    }
   ],
   "source": [
    "mapa.info()"
   ]
  },
  {
   "cell_type": "code",
   "execution_count": 31,
   "id": "8dc45ea7",
   "metadata": {},
   "outputs": [
    {
     "ename": "TypeError",
     "evalue": "unique() takes 1 positional argument but 2 were given",
     "output_type": "error",
     "traceback": [
      "\u001b[1;31m---------------------------------------------------------------------------\u001b[0m",
      "\u001b[1;31mTypeError\u001b[0m                                 Traceback (most recent call last)",
      "\u001b[1;32m<ipython-input-31-3b265cb48882>\u001b[0m in \u001b[0;36m<module>\u001b[1;34m\u001b[0m\n\u001b[1;32m----> 1\u001b[1;33m \u001b[0mmapa\u001b[0m\u001b[1;33m[\u001b[0m\u001b[1;34m\"geometry\"\u001b[0m\u001b[1;33m]\u001b[0m\u001b[1;33m.\u001b[0m\u001b[0munique\u001b[0m\u001b[1;33m(\u001b[0m\u001b[0mtype\u001b[0m\u001b[1;33m)\u001b[0m\u001b[1;33m\u001b[0m\u001b[1;33m\u001b[0m\u001b[0m\n\u001b[0m",
      "\u001b[1;31mTypeError\u001b[0m: unique() takes 1 positional argument but 2 were given"
     ]
    }
   ],
   "source": [
    "mapa[\"geometry\"].unique("
   ]
  }
 ],
 "metadata": {
  "kernelspec": {
   "display_name": "Python 3",
   "language": "python",
   "name": "python3"
  },
  "language_info": {
   "codemirror_mode": {
    "name": "ipython",
    "version": 3
   },
   "file_extension": ".py",
   "mimetype": "text/x-python",
   "name": "python",
   "nbconvert_exporter": "python",
   "pygments_lexer": "ipython3",
   "version": "3.9.5"
  }
 },
 "nbformat": 4,
 "nbformat_minor": 5
}
