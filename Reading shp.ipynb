{
 "cells": [
  {
   "cell_type": "code",
   "execution_count": 16,
   "id": "fa67d7f0",
   "metadata": {},
   "outputs": [],
   "source": [
    "import os\n",
    "import geopandas as gpd\n",
    "import earthpy as et"
   ]
  },
  {
   "cell_type": "code",
   "execution_count": 22,
   "id": "ccbab20a",
   "metadata": {},
   "outputs": [],
   "source": [
    "from shapely.geometry import Point"
   ]
  },
  {
   "cell_type": "code",
   "execution_count": 10,
   "id": "96a8da40",
   "metadata": {
    "scrolled": true
   },
   "outputs": [
    {
     "data": {
      "text/html": [
       "<div>\n",
       "<style scoped>\n",
       "    .dataframe tbody tr th:only-of-type {\n",
       "        vertical-align: middle;\n",
       "    }\n",
       "\n",
       "    .dataframe tbody tr th {\n",
       "        vertical-align: top;\n",
       "    }\n",
       "\n",
       "    .dataframe thead th {\n",
       "        text-align: right;\n",
       "    }\n",
       "</style>\n",
       "<table border=\"1\" class=\"dataframe\">\n",
       "  <thead>\n",
       "    <tr style=\"text-align: right;\">\n",
       "      <th></th>\n",
       "      <th>CODIGO</th>\n",
       "      <th>ESTADO</th>\n",
       "      <th>geometry</th>\n",
       "    </tr>\n",
       "  </thead>\n",
       "  <tbody>\n",
       "    <tr>\n",
       "      <th>0</th>\n",
       "      <td>MX02</td>\n",
       "      <td>Baja California</td>\n",
       "      <td>MULTIPOLYGON (((-113.13972 29.01778, -113.2405...</td>\n",
       "    </tr>\n",
       "    <tr>\n",
       "      <th>1</th>\n",
       "      <td>MX03</td>\n",
       "      <td>Baja California Sur</td>\n",
       "      <td>MULTIPOLYGON (((-111.20612 25.80278, -111.2302...</td>\n",
       "    </tr>\n",
       "    <tr>\n",
       "      <th>2</th>\n",
       "      <td>MX18</td>\n",
       "      <td>Nayarit</td>\n",
       "      <td>MULTIPOLYGON (((-106.62108 21.56531, -106.6475...</td>\n",
       "    </tr>\n",
       "    <tr>\n",
       "      <th>3</th>\n",
       "      <td>MX14</td>\n",
       "      <td>Jalisco</td>\n",
       "      <td>POLYGON ((-101.52490 21.85664, -101.58830 21.7...</td>\n",
       "    </tr>\n",
       "    <tr>\n",
       "      <th>4</th>\n",
       "      <td>MX01</td>\n",
       "      <td>Aguascalientes</td>\n",
       "      <td>POLYGON ((-101.84620 22.01176, -101.96530 21.8...</td>\n",
       "    </tr>\n",
       "    <tr>\n",
       "      <th>5</th>\n",
       "      <td>MX11</td>\n",
       "      <td>Guanajuato</td>\n",
       "      <td>POLYGON ((-100.28030 20.20451, -100.34860 20.0...</td>\n",
       "    </tr>\n",
       "    <tr>\n",
       "      <th>6</th>\n",
       "      <td>MX22</td>\n",
       "      <td>Querétaro</td>\n",
       "      <td>POLYGON ((-100.12280 19.93804, -100.18250 20.0...</td>\n",
       "    </tr>\n",
       "    <tr>\n",
       "      <th>7</th>\n",
       "      <td>MX13</td>\n",
       "      <td>Hidalgo</td>\n",
       "      <td>POLYGON ((-98.65941 19.58540, -98.65556 19.595...</td>\n",
       "    </tr>\n",
       "    <tr>\n",
       "      <th>8</th>\n",
       "      <td>MX16</td>\n",
       "      <td>Michoacán</td>\n",
       "      <td>POLYGON ((-103.47960 18.96722, -103.34830 18.9...</td>\n",
       "    </tr>\n",
       "    <tr>\n",
       "      <th>9</th>\n",
       "      <td>MX15</td>\n",
       "      <td>México</td>\n",
       "      <td>POLYGON ((-98.62798 19.47576, -98.66612 19.405...</td>\n",
       "    </tr>\n",
       "    <tr>\n",
       "      <th>10</th>\n",
       "      <td>MX09</td>\n",
       "      <td>Distrito Federal</td>\n",
       "      <td>POLYGON ((-99.28487 19.14244, -99.34056 19.357...</td>\n",
       "    </tr>\n",
       "    <tr>\n",
       "      <th>11</th>\n",
       "      <td>MX08</td>\n",
       "      <td>Colima</td>\n",
       "      <td>POLYGON ((-103.74548 18.68807, -104.00446 18.8...</td>\n",
       "    </tr>\n",
       "    <tr>\n",
       "      <th>12</th>\n",
       "      <td>MX17</td>\n",
       "      <td>Morelos</td>\n",
       "      <td>POLYGON ((-98.66223 18.99676, -98.65640 18.905...</td>\n",
       "    </tr>\n",
       "    <tr>\n",
       "      <th>13</th>\n",
       "      <td>MX31</td>\n",
       "      <td>Yucatán</td>\n",
       "      <td>POLYGON ((-90.37337 20.84530, -90.33890 20.941...</td>\n",
       "    </tr>\n",
       "    <tr>\n",
       "      <th>14</th>\n",
       "      <td>MX04</td>\n",
       "      <td>Campeche</td>\n",
       "      <td>MULTIPOLYGON (((-91.83446 18.63805, -91.84195 ...</td>\n",
       "    </tr>\n",
       "    <tr>\n",
       "      <th>15</th>\n",
       "      <td>MX21</td>\n",
       "      <td>Puebla</td>\n",
       "      <td>POLYGON ((-96.75063 18.43083, -96.72639 18.385...</td>\n",
       "    </tr>\n",
       "    <tr>\n",
       "      <th>16</th>\n",
       "      <td>MX23</td>\n",
       "      <td>Quintana Roo</td>\n",
       "      <td>MULTIPOLYGON (((-88.29950 18.48293, -88.48395 ...</td>\n",
       "    </tr>\n",
       "    <tr>\n",
       "      <th>17</th>\n",
       "      <td>MX29</td>\n",
       "      <td>Tlaxcala</td>\n",
       "      <td>POLYGON ((-98.14307 19.67278, -98.00111 19.677...</td>\n",
       "    </tr>\n",
       "    <tr>\n",
       "      <th>18</th>\n",
       "      <td>MX12</td>\n",
       "      <td>Guerrero</td>\n",
       "      <td>POLYGON ((-99.05049 18.37079, -99.03140 18.237...</td>\n",
       "    </tr>\n",
       "    <tr>\n",
       "      <th>19</th>\n",
       "      <td>MX20</td>\n",
       "      <td>Oaxaca</td>\n",
       "      <td>POLYGON ((-96.75063 18.43083, -96.63556 18.522...</td>\n",
       "    </tr>\n",
       "    <tr>\n",
       "      <th>20</th>\n",
       "      <td>MX27</td>\n",
       "      <td>Tabasco</td>\n",
       "      <td>POLYGON ((-93.58940 17.37546, -93.66751 17.452...</td>\n",
       "    </tr>\n",
       "    <tr>\n",
       "      <th>21</th>\n",
       "      <td>MX05</td>\n",
       "      <td>Chiapas</td>\n",
       "      <td>POLYGON ((-91.43750 17.24111, -91.35278 17.176...</td>\n",
       "    </tr>\n",
       "    <tr>\n",
       "      <th>22</th>\n",
       "      <td>MX26</td>\n",
       "      <td>Sonora</td>\n",
       "      <td>MULTIPOLYGON (((-112.29640 28.75639, -112.5641...</td>\n",
       "    </tr>\n",
       "    <tr>\n",
       "      <th>23</th>\n",
       "      <td>MX06</td>\n",
       "      <td>Chihuahua</td>\n",
       "      <td>POLYGON ((-108.47130 26.96133, -108.60420 27.0...</td>\n",
       "    </tr>\n",
       "    <tr>\n",
       "      <th>24</th>\n",
       "      <td>MX07</td>\n",
       "      <td>Coahuila</td>\n",
       "      <td>POLYGON ((-103.29015 28.99773, -103.28035 28.9...</td>\n",
       "    </tr>\n",
       "    <tr>\n",
       "      <th>25</th>\n",
       "      <td>MX25</td>\n",
       "      <td>Sinaloa</td>\n",
       "      <td>POLYGON ((-105.40210 23.06746, -105.46280 23.0...</td>\n",
       "    </tr>\n",
       "    <tr>\n",
       "      <th>26</th>\n",
       "      <td>MX10</td>\n",
       "      <td>Durango</td>\n",
       "      <td>POLYGON ((-104.31140 22.31921, -104.34500 22.4...</td>\n",
       "    </tr>\n",
       "    <tr>\n",
       "      <th>27</th>\n",
       "      <td>MX32</td>\n",
       "      <td>Zacatecas</td>\n",
       "      <td>POLYGON ((-101.52490 21.85664, -101.80030 22.0...</td>\n",
       "    </tr>\n",
       "    <tr>\n",
       "      <th>28</th>\n",
       "      <td>MX24</td>\n",
       "      <td>San Luis Potosí</td>\n",
       "      <td>POLYGON ((-100.05720 23.24111, -100.08920 23.1...</td>\n",
       "    </tr>\n",
       "    <tr>\n",
       "      <th>29</th>\n",
       "      <td>MX19</td>\n",
       "      <td>Nuevo León</td>\n",
       "      <td>POLYGON ((-99.71816 27.66586, -99.91585 27.523...</td>\n",
       "    </tr>\n",
       "    <tr>\n",
       "      <th>30</th>\n",
       "      <td>MX28</td>\n",
       "      <td>Tamaulipas</td>\n",
       "      <td>POLYGON ((-97.17222 25.95457, -97.16862 25.707...</td>\n",
       "    </tr>\n",
       "    <tr>\n",
       "      <th>31</th>\n",
       "      <td>MX30</td>\n",
       "      <td>Veracruz</td>\n",
       "      <td>POLYGON ((-93.58940 17.37546, -93.62695 17.307...</td>\n",
       "    </tr>\n",
       "  </tbody>\n",
       "</table>\n",
       "</div>"
      ],
      "text/plain": [
       "   CODIGO               ESTADO  \\\n",
       "0    MX02      Baja California   \n",
       "1    MX03  Baja California Sur   \n",
       "2    MX18              Nayarit   \n",
       "3    MX14              Jalisco   \n",
       "4    MX01       Aguascalientes   \n",
       "5    MX11           Guanajuato   \n",
       "6    MX22            Querétaro   \n",
       "7    MX13              Hidalgo   \n",
       "8    MX16            Michoacán   \n",
       "9    MX15               México   \n",
       "10   MX09     Distrito Federal   \n",
       "11   MX08               Colima   \n",
       "12   MX17              Morelos   \n",
       "13   MX31              Yucatán   \n",
       "14   MX04             Campeche   \n",
       "15   MX21               Puebla   \n",
       "16   MX23         Quintana Roo   \n",
       "17   MX29             Tlaxcala   \n",
       "18   MX12             Guerrero   \n",
       "19   MX20               Oaxaca   \n",
       "20   MX27              Tabasco   \n",
       "21   MX05              Chiapas   \n",
       "22   MX26               Sonora   \n",
       "23   MX06            Chihuahua   \n",
       "24   MX07             Coahuila   \n",
       "25   MX25              Sinaloa   \n",
       "26   MX10              Durango   \n",
       "27   MX32            Zacatecas   \n",
       "28   MX24      San Luis Potosí   \n",
       "29   MX19           Nuevo León   \n",
       "30   MX28           Tamaulipas   \n",
       "31   MX30             Veracruz   \n",
       "\n",
       "                                             geometry  \n",
       "0   MULTIPOLYGON (((-113.13972 29.01778, -113.2405...  \n",
       "1   MULTIPOLYGON (((-111.20612 25.80278, -111.2302...  \n",
       "2   MULTIPOLYGON (((-106.62108 21.56531, -106.6475...  \n",
       "3   POLYGON ((-101.52490 21.85664, -101.58830 21.7...  \n",
       "4   POLYGON ((-101.84620 22.01176, -101.96530 21.8...  \n",
       "5   POLYGON ((-100.28030 20.20451, -100.34860 20.0...  \n",
       "6   POLYGON ((-100.12280 19.93804, -100.18250 20.0...  \n",
       "7   POLYGON ((-98.65941 19.58540, -98.65556 19.595...  \n",
       "8   POLYGON ((-103.47960 18.96722, -103.34830 18.9...  \n",
       "9   POLYGON ((-98.62798 19.47576, -98.66612 19.405...  \n",
       "10  POLYGON ((-99.28487 19.14244, -99.34056 19.357...  \n",
       "11  POLYGON ((-103.74548 18.68807, -104.00446 18.8...  \n",
       "12  POLYGON ((-98.66223 18.99676, -98.65640 18.905...  \n",
       "13  POLYGON ((-90.37337 20.84530, -90.33890 20.941...  \n",
       "14  MULTIPOLYGON (((-91.83446 18.63805, -91.84195 ...  \n",
       "15  POLYGON ((-96.75063 18.43083, -96.72639 18.385...  \n",
       "16  MULTIPOLYGON (((-88.29950 18.48293, -88.48395 ...  \n",
       "17  POLYGON ((-98.14307 19.67278, -98.00111 19.677...  \n",
       "18  POLYGON ((-99.05049 18.37079, -99.03140 18.237...  \n",
       "19  POLYGON ((-96.75063 18.43083, -96.63556 18.522...  \n",
       "20  POLYGON ((-93.58940 17.37546, -93.66751 17.452...  \n",
       "21  POLYGON ((-91.43750 17.24111, -91.35278 17.176...  \n",
       "22  MULTIPOLYGON (((-112.29640 28.75639, -112.5641...  \n",
       "23  POLYGON ((-108.47130 26.96133, -108.60420 27.0...  \n",
       "24  POLYGON ((-103.29015 28.99773, -103.28035 28.9...  \n",
       "25  POLYGON ((-105.40210 23.06746, -105.46280 23.0...  \n",
       "26  POLYGON ((-104.31140 22.31921, -104.34500 22.4...  \n",
       "27  POLYGON ((-101.52490 21.85664, -101.80030 22.0...  \n",
       "28  POLYGON ((-100.05720 23.24111, -100.08920 23.1...  \n",
       "29  POLYGON ((-99.71816 27.66586, -99.91585 27.523...  \n",
       "30  POLYGON ((-97.17222 25.95457, -97.16862 25.707...  \n",
       "31  POLYGON ((-93.58940 17.37546, -93.62695 17.307...  "
      ]
     },
     "execution_count": 10,
     "metadata": {},
     "output_type": "execute_result"
    }
   ],
   "source": [
    "mapa = gpd.read_file('México_Estados.shp')\n",
    "mapa"
   ]
  },
  {
   "cell_type": "code",
   "execution_count": 3,
   "id": "58477c40",
   "metadata": {},
   "outputs": [
    {
     "name": "stdout",
     "output_type": "stream",
     "text": [
      "<class 'geopandas.geodataframe.GeoDataFrame'>\n",
      "RangeIndex: 32 entries, 0 to 31\n",
      "Data columns (total 3 columns):\n",
      " #   Column    Non-Null Count  Dtype   \n",
      "---  ------    --------------  -----   \n",
      " 0   CODIGO    32 non-null     object  \n",
      " 1   ESTADO    32 non-null     object  \n",
      " 2   geometry  32 non-null     geometry\n",
      "dtypes: geometry(1), object(2)\n",
      "memory usage: 896.0+ bytes\n"
     ]
    }
   ],
   "source": [
    "mapa.info()"
   ]
  },
  {
   "cell_type": "code",
   "execution_count": 4,
   "id": "bc551467",
   "metadata": {},
   "outputs": [
    {
     "data": {
      "text/plain": [
       "<AxesSubplot:>"
      ]
     },
     "execution_count": 4,
     "metadata": {},
     "output_type": "execute_result"
    },
    {
     "data": {
      "image/png": "[encoded data removed]",
      "text/plain": [
       "<Figure size 432x288 with 1 Axes>"
      ]
     },
     "metadata": {
      "needs_background": "light"
     },
     "output_type": "display_data"
    }
   ],
   "source": [
    "mapa.plot()"
   ]
  },
  {
   "cell_type": "code",
   "execution_count": 5,
   "id": "a82a0258",
   "metadata": {},
   "outputs": [
    {
     "data": {
      "text/plain": [
       "array([-117.12237549,   14.55054665,  -86.73500061,   32.72080994])"
      ]
     },
     "execution_count": 5,
     "metadata": {},
     "output_type": "execute_result"
    }
   ],
   "source": [
    "mapa.total_bounds"
   ]
  },
  {
   "cell_type": "code",
   "execution_count": 8,
   "id": "d523d611",
   "metadata": {
    "scrolled": true
   },
   "outputs": [
    {
     "data": {
      "text/plain": [
       "[(-101.52490234375, 21.856639862060547),\n",
       " (-101.58830261230469, 21.77277946472168),\n",
       " (-101.5436019897461, 21.656940460205078),\n",
       " (-101.63200378417969, 21.5333309173584),\n",
       " (-101.57640075683594, 21.32666015625),\n",
       " (-101.6583023071289, 21.24304962158203),\n",
       " (-101.83999633789062, 21.150550842285156),\n",
       " (-101.84829711914062, 21.10222053527832),\n",
       " (-102.07469940185547, 20.81389045715332),\n",
       " (-102.09190368652344, 20.773609161376953),\n",
       " (-101.97830200195312, 20.591110229492188),\n",
       " (-102.08920288085938, 20.464439392089844),\n",
       " (-102.10880279541016, 20.389080047607422),\n",
       " (-102.21170043945312, 20.343050003051758),\n",
       " (-102.443603515625, 20.338050842285156),\n",
       " (-102.62220001220703, 20.22916030883789),\n",
       " (-102.77239990234375, 20.196889877319336),\n",
       " (-102.88809967041016, 20.163909912109375),\n",
       " (-103.04889678955078, 20.092220306396484),\n",
       " (-103.09639739990234, 20.023889541625977),\n",
       " (-103.0864028930664, 19.98917007446289),\n",
       " (-103.03890228271484, 19.98138999938965),\n",
       " (-103.02200317382812, 19.89971923828125),\n",
       " (-102.92900085449219, 19.952449798583984),\n",
       " (-102.91510009765625, 19.931379318237305),\n",
       " (-102.80760192871094, 19.89958953857422),\n",
       " (-102.78970336914062, 19.89974021911621),\n",
       " (-102.74150085449219, 19.882400512695312),\n",
       " (-102.72699737548828, 19.8186092376709),\n",
       " (-102.83000183105469, 19.757049560546875),\n",
       " (-102.82379913330078, 19.706680297851562),\n",
       " (-102.76309967041016, 19.592500686645508),\n",
       " (-102.74810028076172, 19.473609924316406),\n",
       " (-102.60919952392578, 19.491390228271484),\n",
       " (-102.5730972290039, 19.406940460205078),\n",
       " (-102.67449951171875, 19.22443962097168),\n",
       " (-102.76809692382812, 19.2549991607666),\n",
       " (-102.96890258789062, 19.17527961730957),\n",
       " (-102.97560119628906, 19.096660614013672),\n",
       " (-103.09500122070312, 19.036109924316406),\n",
       " (-103.13279724121094, 18.954999923706055),\n",
       " (-103.2853012084961, 19.066669464111328),\n",
       " (-103.34829711914062, 18.97443962097168),\n",
       " (-103.47959899902344, 18.967220306396484),\n",
       " (-103.52469635009766, 19.07278060913086),\n",
       " (-103.49199676513672, 19.325279235839844),\n",
       " (-103.64420318603516, 19.480270385742188),\n",
       " (-103.82279968261719, 19.392499923706055),\n",
       " (-104.06780242919922, 19.518329620361328),\n",
       " (-104.14669799804688, 19.463890075683594),\n",
       " (-104.12920379638672, 19.3830509185791),\n",
       " (-104.25559997558594, 19.31916046142578),\n",
       " (-104.38690185546875, 19.27111053466797),\n",
       " (-104.42949676513672, 19.284719467163086),\n",
       " (-104.47309875488281, 19.230270385742188),\n",
       " (-104.54000091552734, 19.253889083862305),\n",
       " (-104.59459686279297, 19.14349937438965),\n",
       " (-104.66278076171875, 19.168052673339844),\n",
       " (-104.73500061035156, 19.229999542236328),\n",
       " (-104.80972290039062, 19.22083282470703),\n",
       " (-104.79695129394531, 19.28860855102539),\n",
       " (-104.8852767944336, 19.280277252197266),\n",
       " (-104.99250793457031, 19.34499740600586),\n",
       " (-105.06973266601562, 19.44832992553711),\n",
       " (-105.10250854492188, 19.564998626708984),\n",
       " (-105.2699966430664, 19.67972183227539),\n",
       " (-105.51862335205078, 20.026107788085938),\n",
       " (-105.56195068359375, 20.219165802001953),\n",
       " (-105.67472839355469, 20.371665954589844),\n",
       " (-105.67696380615234, 20.424163818359375),\n",
       " (-105.56028747558594, 20.48999786376953),\n",
       " (-105.35195922851562, 20.51305389404297),\n",
       " (-105.24417114257812, 20.57416534423828),\n",
       " (-105.23806762695312, 20.64444351196289),\n",
       " (-105.27159118652344, 20.693254470825195),\n",
       " (-105.08329772949219, 20.92527961730957),\n",
       " (-104.94889831542969, 20.92555046081543),\n",
       " (-104.7699966430664, 21.020549774169922),\n",
       " (-104.7219009399414, 21.012779235839844),\n",
       " (-104.625, 20.92361068725586),\n",
       " (-104.53500366210938, 20.916109085083008),\n",
       " (-104.46720123291016, 20.82971954345703),\n",
       " (-104.28559875488281, 20.708049774169922),\n",
       " (-104.2750015258789, 20.860830307006836),\n",
       " (-104.20999908447266, 20.978050231933594),\n",
       " (-104.22769927978516, 21.177730560302734),\n",
       " (-104.0425033569336, 21.211389541625977),\n",
       " (-103.9614028930664, 21.28778076171875),\n",
       " (-103.94490051269531, 21.374969482421875),\n",
       " (-104.20719909667969, 21.54722023010254),\n",
       " (-104.15280151367188, 21.59804916381836),\n",
       " (-104.09359741210938, 21.785829544067383),\n",
       " (-104.40280151367188, 22.07638931274414),\n",
       " (-104.32959747314453, 22.26453971862793),\n",
       " (-104.14420318603516, 22.342220306396484),\n",
       " (-103.95030212402344, 22.36804962158203),\n",
       " (-103.92169952392578, 22.51082992553711),\n",
       " (-104.02940368652344, 22.581939697265625),\n",
       " (-103.99420166015625, 22.65860939025879),\n",
       " (-104.00700378417969, 22.764720916748047),\n",
       " (-103.802001953125, 22.72304916381836),\n",
       " (-103.77059936523438, 22.636669158935547),\n",
       " (-103.87079620361328, 22.577220916748047),\n",
       " (-103.83360290527344, 22.48944091796875),\n",
       " (-103.88390350341797, 22.461109161376953),\n",
       " (-103.86859893798828, 22.183889389038086),\n",
       " (-103.74140167236328, 22.57638931274414),\n",
       " (-103.65889739990234, 22.57332992553711),\n",
       " (-103.61499786376953, 22.52471923828125),\n",
       " (-103.70089721679688, 22.1459903717041),\n",
       " (-103.68250274658203, 22.11277961730957),\n",
       " (-103.63829803466797, 22.0816707611084),\n",
       " (-103.52230072021484, 22.117290496826172),\n",
       " (-103.37169647216797, 22.327499389648438),\n",
       " (-103.4092025756836, 22.435550689697266),\n",
       " (-103.37249755859375, 22.505830764770508),\n",
       " (-103.17949676513672, 22.368610382080078),\n",
       " (-103.20140075683594, 22.30777931213379),\n",
       " (-103.05560302734375, 22.286109924316406),\n",
       " (-103.12779998779297, 22.14777946472168),\n",
       " (-103.09110260009766, 22.090269088745117),\n",
       " (-103.1707992553711, 21.97528076171875),\n",
       " (-103.29309844970703, 21.982500076293945),\n",
       " (-103.39420318603516, 21.933330535888672),\n",
       " (-103.4469985961914, 21.84804916381836),\n",
       " (-103.54779815673828, 21.78554916381836),\n",
       " (-103.5094985961914, 21.7319393157959),\n",
       " (-103.51419830322266, 21.593050003051758),\n",
       " (-103.65029907226562, 21.461389541625977),\n",
       " (-103.73359680175781, 21.516389846801758),\n",
       " (-103.70279693603516, 21.386940002441406),\n",
       " (-103.75309753417969, 21.251659393310547),\n",
       " (-103.7656021118164, 21.22389030456543),\n",
       " (-103.73699951171875, 21.20332908630371),\n",
       " (-103.64610290527344, 21.241939544677734),\n",
       " (-103.60169982910156, 21.18804931640625),\n",
       " (-103.54280090332031, 21.19805908203125),\n",
       " (-103.05580139160156, 21.054439544677734),\n",
       " (-103.08560180664062, 21.1875),\n",
       " (-103.0344009399414, 21.306659698486328),\n",
       " (-102.96219635009766, 21.284719467163086),\n",
       " (-102.90670013427734, 21.328609466552734),\n",
       " (-102.83360290527344, 21.3205509185791),\n",
       " (-102.68720245361328, 21.381940841674805),\n",
       " (-102.63919830322266, 21.546939849853516),\n",
       " (-102.76969909667969, 21.617769241333008),\n",
       " (-102.74140167236328, 21.724170684814453),\n",
       " (-102.6449966430664, 21.76388931274414),\n",
       " (-102.49310302734375, 21.687219619750977),\n",
       " (-102.24030303955078, 21.655550003051758),\n",
       " (-102.08329772949219, 21.76861000061035),\n",
       " (-102.04609680175781, 21.851669311523438),\n",
       " (-101.96530151367188, 21.8830509185791),\n",
       " (-101.84619903564453, 22.011760711669922),\n",
       " (-101.80030059814453, 22.015270233154297),\n",
       " (-101.52490234375, 21.856639862060547)]"
      ]
     },
     "execution_count": 8,
     "metadata": {},
     "output_type": "execute_result"
    }
   ],
   "source": [
    "list(mapa.exterior[3].coords)"
   ]
  },
  {
   "cell_type": "code",
   "execution_count": null,
   "id": "4eb23fed",
   "metadata": {},
   "outputs": [],
   "source": [
    "type(mapa.exterior[3])"
   ]
  },
  {
   "cell_type": "code",
   "execution_count": null,
   "id": "2364d181",
   "metadata": {
    "scrolled": true
   },
   "outputs": [],
   "source": [
    "mapa.loc[0:0,\"geometry\"].area"
   ]
  },
  {
   "cell_type": "code",
   "execution_count": null,
   "id": "2d62db8a",
   "metadata": {},
   "outputs": [],
   "source": [
    "mapa[\"geometry\"][4]"
   ]
  },
  {
   "cell_type": "code",
   "execution_count": null,
   "id": "6295d631",
   "metadata": {},
   "outputs": [],
   "source": [
    "coordenadas"
   ]
  },
  {
   "cell_type": "code",
   "execution_count": 41,
   "id": "f96244e7",
   "metadata": {},
   "outputs": [],
   "source": [
    "punto = Point(-99.16755375262784, 19.42714201512711)"
   ]
  },
  {
   "cell_type": "code",
   "execution_count": 42,
   "id": "0e1c5ad5",
   "metadata": {
    "scrolled": true
   },
   "outputs": [
    {
     "data": {
      "text/plain": [
       "True"
      ]
     },
     "execution_count": 42,
     "metadata": {},
     "output_type": "execute_result"
    }
   ],
   "source": [
    "punto.within(mapa.iloc[10][2])"
   ]
  },
  {
   "cell_type": "code",
   "execution_count": 40,
   "id": "88d3ff68",
   "metadata": {
    "scrolled": true
   },
   "outputs": [
    {
     "data": {
      "text/plain": [
       "'Distrito Federal'"
      ]
     },
     "execution_count": 40,
     "metadata": {},
     "output_type": "execute_result"
    }
   ],
   "source": [
    "mapa.iloc[10][1]"
   ]
  },
  {
   "cell_type": "code",
   "execution_count": 43,
   "id": "0d09661d",
   "metadata": {},
   "outputs": [
    {
     "data": {
      "text/plain": [
       "False"
      ]
     },
     "execution_count": 43,
     "metadata": {},
     "output_type": "execute_result"
    }
   ],
   "source": [
    "punto.within(mapa.iloc[0][2])"
   ]
  }
 ],
 "metadata": {
  "kernelspec": {
   "display_name": "Python 3",
   "language": "python",
   "name": "python3"
  },
  "language_info": {
   "codemirror_mode": {
    "name": "ipython",
    "version": 3
   },
   "file_extension": ".py",
   "mimetype": "text/x-python",
   "name": "python",
   "nbconvert_exporter": "python",
   "pygments_lexer": "ipython3",
   "version": "3.9.5"
  }
 },
 "nbformat": 4,
 "nbformat_minor": 5
}
