{
 "cells": [
  {
   "cell_type": "code",
   "execution_count": 1,
   "id": "3920d9b5",
   "metadata": {},
   "outputs": [],
   "source": [
    "import pandas as pd\n",
    "import numpy as np\n",
    "import geopandas as gpd\n",
    "import matplotlib.pyplot as plt\n",
    "import earthpy as et\n",
    "import seaborn as sns\n",
    "import plotly.express as px\n",
    "from shapely.geometry import Point, Polygon"
   ]
  },
  {
   "cell_type": "code",
   "execution_count": 2,
   "id": "1d2a70c1",
   "metadata": {},
   "outputs": [],
   "source": [
    "#Function that checks if the coordinates of the radiation data are located inside the\n",
    "#selected polygon.\n",
    "def evaluate_point(polygon,global_radiation):\n",
    "    points_inside_polygon = []\n",
    "    for i in range(len(global_radiation)):\n",
    "        point = Point(global_radiation.iloc[i,1],global_radiation.iloc[i,0])\n",
    "        if point.within(polygon) == True:\n",
    "            points_inside_polygon.append(point)\n",
    "    \n",
    "    return points_inside_polygon"
   ]
  },
  {
   "cell_type": "code",
   "execution_count": 3,
   "id": "216e57de",
   "metadata": {},
   "outputs": [],
   "source": [
    "#Function that gets the average radiation for each state.\n",
    "def average_radiation(points,global_radiation):\n",
    "    radiation_points = []\n",
    "    average_radiation =[]\n",
    "    for i in range(len(points)):\n",
    "        for point in points[i]:\n",
    "            LON = point.x\n",
    "            LAT = point.y\n",
    "            row = global_radiation.loc[(global_radiation['LON'] == LON) & (global_radiation['LAT'] == LAT)]\n",
    "            radiation = row[\"ANN\"]\n",
    "            radiation_points.append(float(radiation))\n",
    "        average_radiation.append(sum(radiation_points) / len(radiation_points))\n",
    "    \n",
    "    return average_radiation\n",
    "            "
   ]
  },
  {
   "cell_type": "code",
   "execution_count": 4,
   "id": "63dc915e",
   "metadata": {},
   "outputs": [],
   "source": [
    "#Function that computes the global radiation per month per state\n",
    "def average_radiation_month(points,global_radiation):\n",
    "    radiation_points = []\n",
    "    average_radiation =[]\n",
    "    radiation = []\n",
    "    for i in range(len(points)):\n",
    "        for point in points[i]:\n",
    "            LON = point.x\n",
    "            LAT = point.y\n",
    "            row = global_radiation.loc[(global_radiation['LON'] == LON) & (global_radiation['LAT'] == LAT)]\n",
    "            radiation = [row.iloc[0,rad] for rad in range(3,16)]         \n",
    "            radiation_points.append((radiation))\n",
    "            radiation_array = np.array(radiation_points)\n",
    "        average_radiation.append(np.average(radiation_array,axis=0))\n",
    "    \n",
    "    return average_radiation"
   ]
  },
  {
   "cell_type": "code",
   "execution_count": 5,
   "id": "08d882e0",
   "metadata": {},
   "outputs": [],
   "source": [
    "#Read the shp files.\n",
    "mapa = gpd.read_file('México_Estados.shp')"
   ]
  },
  {
   "cell_type": "code",
   "execution_count": 6,
   "id": "f7740b41",
   "metadata": {},
   "outputs": [],
   "source": [
    "#Read NASA's file that contains the global average radiations\n",
    "global_radiation = pd.read_csv(\"POWER_Global_Climatology_8fd627aa_mexico.csv\")"
   ]
  },
  {
   "cell_type": "code",
   "execution_count": 7,
   "id": "6431b30f",
   "metadata": {},
   "outputs": [],
   "source": [
    "#Apply the average radiation per month funtion to all the polygons inside the \"mapa\" geopandas dataframe\n",
    "radiation = []\n",
    "state_list = []\n",
    "for state in range(len(mapa)):\n",
    "    state_list.append(str(mapa[\"ESTADO\"][state]))\n",
    "    points_inside_polygon = evaluate_point(mapa[\"geometry\"][state],global_radiation)\n",
    "    radiation.append(points_inside_polygon)\n",
    "avg_radiations = average_radiation_month(radiation,global_radiation)"
   ]
  },
  {
   "cell_type": "code",
   "execution_count": 8,
   "id": "33a96225",
   "metadata": {},
   "outputs": [],
   "source": [
    "#Covert the list of lists with the average radiations to a dataframe and add the month name to the columns.\n",
    "months = [\"Ene\",\"Feb\",\"Mar\",\"Abr\",\"May\",\"Jun\",\"Jul\",\"Ago\",\"Sep\",\"Oct\",\"Nov\",\"Dic\",\"Anual\"]\n",
    "df_rad_avg_day = pd.DataFrame(avg_radiations,index=state_list,columns=months)"
   ]
  },
  {
   "cell_type": "code",
   "execution_count": 14,
   "id": "b2a8ef32",
   "metadata": {},
   "outputs": [
    {
     "data": {
      "text/plain": [
       "5.582480024585347"
      ]
     },
     "execution_count": 14,
     "metadata": {},
     "output_type": "execute_result"
    }
   ],
   "source": [
    "df_rad_avg_day.loc[:,'Anual'].mean()"
   ]
  },
  {
   "cell_type": "code",
   "execution_count": 9,
   "id": "bd61da2a",
   "metadata": {
    "scrolled": false
   },
   "outputs": [
    {
     "data": {
      "text/html": [
       "<div>\n",
       "<style scoped>\n",
       "    .dataframe tbody tr th:only-of-type {\n",
       "        vertical-align: middle;\n",
       "    }\n",
       "\n",
       "    .dataframe tbody tr th {\n",
       "        vertical-align: top;\n",
       "    }\n",
       "\n",
       "    .dataframe thead th {\n",
       "        text-align: right;\n",
       "    }\n",
       "</style>\n",
       "<table border=\"1\" class=\"dataframe\">\n",
       "  <thead>\n",
       "    <tr style=\"text-align: right;\">\n",
       "      <th></th>\n",
       "      <th>Ene</th>\n",
       "      <th>Feb</th>\n",
       "      <th>Mar</th>\n",
       "      <th>Abr</th>\n",
       "      <th>May</th>\n",
       "      <th>Jun</th>\n",
       "      <th>Jul</th>\n",
       "      <th>Ago</th>\n",
       "      <th>Sep</th>\n",
       "      <th>Oct</th>\n",
       "      <th>Nov</th>\n",
       "      <th>Dic</th>\n",
       "      <th>Anual</th>\n",
       "    </tr>\n",
       "  </thead>\n",
       "  <tbody>\n",
       "    <tr>\n",
       "      <th>Baja California</th>\n",
       "      <td>3.529310</td>\n",
       "      <td>4.352069</td>\n",
       "      <td>5.547241</td>\n",
       "      <td>6.668621</td>\n",
       "      <td>7.005862</td>\n",
       "      <td>6.980690</td>\n",
       "      <td>6.688276</td>\n",
       "      <td>6.209655</td>\n",
       "      <td>5.608621</td>\n",
       "      <td>4.633793</td>\n",
       "      <td>3.828966</td>\n",
       "      <td>3.265517</td>\n",
       "      <td>5.360690</td>\n",
       "    </tr>\n",
       "    <tr>\n",
       "      <th>Baja California Sur</th>\n",
       "      <td>3.751964</td>\n",
       "      <td>4.568929</td>\n",
       "      <td>5.766250</td>\n",
       "      <td>6.735893</td>\n",
       "      <td>7.124107</td>\n",
       "      <td>7.083929</td>\n",
       "      <td>6.740714</td>\n",
       "      <td>6.254821</td>\n",
       "      <td>5.653750</td>\n",
       "      <td>4.833036</td>\n",
       "      <td>4.031250</td>\n",
       "      <td>3.463393</td>\n",
       "      <td>5.500357</td>\n",
       "    </tr>\n",
       "    <tr>\n",
       "      <th>Nayarit</th>\n",
       "      <td>3.870769</td>\n",
       "      <td>4.710462</td>\n",
       "      <td>5.909846</td>\n",
       "      <td>6.825846</td>\n",
       "      <td>7.206000</td>\n",
       "      <td>7.050308</td>\n",
       "      <td>6.645538</td>\n",
       "      <td>6.202000</td>\n",
       "      <td>5.615692</td>\n",
       "      <td>4.919538</td>\n",
       "      <td>4.166615</td>\n",
       "      <td>3.584769</td>\n",
       "      <td>5.558615</td>\n",
       "    </tr>\n",
       "    <tr>\n",
       "      <th>Jalisco</th>\n",
       "      <td>4.146882</td>\n",
       "      <td>5.028280</td>\n",
       "      <td>6.204086</td>\n",
       "      <td>6.958710</td>\n",
       "      <td>7.202366</td>\n",
       "      <td>6.811290</td>\n",
       "      <td>6.378495</td>\n",
       "      <td>6.035054</td>\n",
       "      <td>5.497419</td>\n",
       "      <td>5.035806</td>\n",
       "      <td>4.455591</td>\n",
       "      <td>3.880215</td>\n",
       "      <td>5.635484</td>\n",
       "    </tr>\n",
       "    <tr>\n",
       "      <th>Aguascalientes</th>\n",
       "      <td>4.163438</td>\n",
       "      <td>5.047708</td>\n",
       "      <td>6.221875</td>\n",
       "      <td>6.963646</td>\n",
       "      <td>7.199792</td>\n",
       "      <td>6.798229</td>\n",
       "      <td>6.368333</td>\n",
       "      <td>6.033438</td>\n",
       "      <td>5.496563</td>\n",
       "      <td>5.048437</td>\n",
       "      <td>4.476771</td>\n",
       "      <td>3.900938</td>\n",
       "      <td>5.642500</td>\n",
       "    </tr>\n",
       "    <tr>\n",
       "      <th>Guanajuato</th>\n",
       "      <td>4.217290</td>\n",
       "      <td>5.109533</td>\n",
       "      <td>6.263738</td>\n",
       "      <td>6.957290</td>\n",
       "      <td>7.155514</td>\n",
       "      <td>6.742804</td>\n",
       "      <td>6.329533</td>\n",
       "      <td>6.025514</td>\n",
       "      <td>5.480187</td>\n",
       "      <td>5.063832</td>\n",
       "      <td>4.530280</td>\n",
       "      <td>3.962150</td>\n",
       "      <td>5.652523</td>\n",
       "    </tr>\n",
       "    <tr>\n",
       "      <th>Querétaro</th>\n",
       "      <td>4.230360</td>\n",
       "      <td>5.125766</td>\n",
       "      <td>6.271892</td>\n",
       "      <td>6.950090</td>\n",
       "      <td>7.137477</td>\n",
       "      <td>6.724144</td>\n",
       "      <td>6.316757</td>\n",
       "      <td>6.023063</td>\n",
       "      <td>5.470631</td>\n",
       "      <td>5.062342</td>\n",
       "      <td>4.540721</td>\n",
       "      <td>3.975135</td>\n",
       "      <td>5.651712</td>\n",
       "    </tr>\n",
       "    <tr>\n",
       "      <th>Hidalgo</th>\n",
       "      <td>4.242458</td>\n",
       "      <td>5.137797</td>\n",
       "      <td>6.265847</td>\n",
       "      <td>6.916356</td>\n",
       "      <td>7.092203</td>\n",
       "      <td>6.675085</td>\n",
       "      <td>6.283983</td>\n",
       "      <td>6.004831</td>\n",
       "      <td>5.440254</td>\n",
       "      <td>5.044153</td>\n",
       "      <td>4.543305</td>\n",
       "      <td>3.988644</td>\n",
       "      <td>5.635763</td>\n",
       "    </tr>\n",
       "    <tr>\n",
       "      <th>Michoacán</th>\n",
       "      <td>4.333529</td>\n",
       "      <td>5.240588</td>\n",
       "      <td>6.353971</td>\n",
       "      <td>6.943015</td>\n",
       "      <td>7.043750</td>\n",
       "      <td>6.556250</td>\n",
       "      <td>6.183382</td>\n",
       "      <td>5.927132</td>\n",
       "      <td>5.379191</td>\n",
       "      <td>5.044191</td>\n",
       "      <td>4.614265</td>\n",
       "      <td>4.080294</td>\n",
       "      <td>5.641029</td>\n",
       "    </tr>\n",
       "    <tr>\n",
       "      <th>México</th>\n",
       "      <td>4.364236</td>\n",
       "      <td>5.271528</td>\n",
       "      <td>6.368681</td>\n",
       "      <td>6.926528</td>\n",
       "      <td>7.007222</td>\n",
       "      <td>6.512569</td>\n",
       "      <td>6.160486</td>\n",
       "      <td>5.911111</td>\n",
       "      <td>5.364444</td>\n",
       "      <td>5.045556</td>\n",
       "      <td>4.633125</td>\n",
       "      <td>4.110069</td>\n",
       "      <td>5.638958</td>\n",
       "    </tr>\n",
       "    <tr>\n",
       "      <th>Distrito Federal</th>\n",
       "      <td>4.367103</td>\n",
       "      <td>5.274690</td>\n",
       "      <td>6.369931</td>\n",
       "      <td>6.923586</td>\n",
       "      <td>7.001931</td>\n",
       "      <td>6.506276</td>\n",
       "      <td>6.156000</td>\n",
       "      <td>5.907724</td>\n",
       "      <td>5.361586</td>\n",
       "      <td>5.044690</td>\n",
       "      <td>4.634345</td>\n",
       "      <td>4.112690</td>\n",
       "      <td>5.637724</td>\n",
       "    </tr>\n",
       "    <tr>\n",
       "      <th>Colima</th>\n",
       "      <td>4.378243</td>\n",
       "      <td>5.287568</td>\n",
       "      <td>6.382095</td>\n",
       "      <td>6.930811</td>\n",
       "      <td>7.001014</td>\n",
       "      <td>6.496959</td>\n",
       "      <td>6.145743</td>\n",
       "      <td>5.899932</td>\n",
       "      <td>5.355743</td>\n",
       "      <td>5.047703</td>\n",
       "      <td>4.644392</td>\n",
       "      <td>4.123041</td>\n",
       "      <td>5.640473</td>\n",
       "    </tr>\n",
       "    <tr>\n",
       "      <th>Morelos</th>\n",
       "      <td>4.389000</td>\n",
       "      <td>5.297933</td>\n",
       "      <td>6.389067</td>\n",
       "      <td>6.932267</td>\n",
       "      <td>6.997200</td>\n",
       "      <td>6.492067</td>\n",
       "      <td>6.149667</td>\n",
       "      <td>5.903600</td>\n",
       "      <td>5.358600</td>\n",
       "      <td>5.053533</td>\n",
       "      <td>4.653333</td>\n",
       "      <td>4.133467</td>\n",
       "      <td>5.645133</td>\n",
       "    </tr>\n",
       "    <tr>\n",
       "      <th>Yucatán</th>\n",
       "      <td>4.382378</td>\n",
       "      <td>5.280061</td>\n",
       "      <td>6.347073</td>\n",
       "      <td>6.897134</td>\n",
       "      <td>6.962256</td>\n",
       "      <td>6.461402</td>\n",
       "      <td>6.152378</td>\n",
       "      <td>5.915061</td>\n",
       "      <td>5.375488</td>\n",
       "      <td>5.045610</td>\n",
       "      <td>4.633720</td>\n",
       "      <td>4.121768</td>\n",
       "      <td>5.630488</td>\n",
       "    </tr>\n",
       "    <tr>\n",
       "      <th>Campeche</th>\n",
       "      <td>4.381341</td>\n",
       "      <td>5.271173</td>\n",
       "      <td>6.314860</td>\n",
       "      <td>6.863128</td>\n",
       "      <td>6.924190</td>\n",
       "      <td>6.438492</td>\n",
       "      <td>6.154916</td>\n",
       "      <td>5.925531</td>\n",
       "      <td>5.393296</td>\n",
       "      <td>5.039497</td>\n",
       "      <td>4.626145</td>\n",
       "      <td>4.118659</td>\n",
       "      <td>5.620168</td>\n",
       "    </tr>\n",
       "    <tr>\n",
       "      <th>Puebla</th>\n",
       "      <td>4.391640</td>\n",
       "      <td>5.272116</td>\n",
       "      <td>6.301376</td>\n",
       "      <td>6.834709</td>\n",
       "      <td>6.893598</td>\n",
       "      <td>6.407989</td>\n",
       "      <td>6.145873</td>\n",
       "      <td>5.918889</td>\n",
       "      <td>5.383439</td>\n",
       "      <td>5.040688</td>\n",
       "      <td>4.636190</td>\n",
       "      <td>4.134762</td>\n",
       "      <td>5.612646</td>\n",
       "    </tr>\n",
       "    <tr>\n",
       "      <th>Quintana Roo</th>\n",
       "      <td>4.371884</td>\n",
       "      <td>5.243671</td>\n",
       "      <td>6.242126</td>\n",
       "      <td>6.778116</td>\n",
       "      <td>6.819855</td>\n",
       "      <td>6.330338</td>\n",
       "      <td>6.093237</td>\n",
       "      <td>5.875990</td>\n",
       "      <td>5.354638</td>\n",
       "      <td>5.010821</td>\n",
       "      <td>4.604879</td>\n",
       "      <td>4.117778</td>\n",
       "      <td>5.569469</td>\n",
       "    </tr>\n",
       "    <tr>\n",
       "      <th>Tlaxcala</th>\n",
       "      <td>4.373606</td>\n",
       "      <td>5.244904</td>\n",
       "      <td>6.241923</td>\n",
       "      <td>6.775385</td>\n",
       "      <td>6.816683</td>\n",
       "      <td>6.327019</td>\n",
       "      <td>6.091202</td>\n",
       "      <td>5.874519</td>\n",
       "      <td>5.352692</td>\n",
       "      <td>5.010481</td>\n",
       "      <td>4.605769</td>\n",
       "      <td>4.119567</td>\n",
       "      <td>5.568654</td>\n",
       "    </tr>\n",
       "    <tr>\n",
       "      <th>Guerrero</th>\n",
       "      <td>4.452739</td>\n",
       "      <td>5.325522</td>\n",
       "      <td>6.309130</td>\n",
       "      <td>6.803000</td>\n",
       "      <td>6.791696</td>\n",
       "      <td>6.273043</td>\n",
       "      <td>6.079609</td>\n",
       "      <td>5.865522</td>\n",
       "      <td>5.338957</td>\n",
       "      <td>5.040913</td>\n",
       "      <td>4.667391</td>\n",
       "      <td>4.198130</td>\n",
       "      <td>5.594870</td>\n",
       "    </tr>\n",
       "    <tr>\n",
       "      <th>Oaxaca</th>\n",
       "      <td>4.515551</td>\n",
       "      <td>5.361445</td>\n",
       "      <td>6.315932</td>\n",
       "      <td>6.778365</td>\n",
       "      <td>6.716084</td>\n",
       "      <td>6.166768</td>\n",
       "      <td>6.025627</td>\n",
       "      <td>5.821255</td>\n",
       "      <td>5.289011</td>\n",
       "      <td>5.039202</td>\n",
       "      <td>4.705665</td>\n",
       "      <td>4.270076</td>\n",
       "      <td>5.583194</td>\n",
       "    </tr>\n",
       "    <tr>\n",
       "      <th>Tabasco</th>\n",
       "      <td>4.498088</td>\n",
       "      <td>5.340588</td>\n",
       "      <td>6.295257</td>\n",
       "      <td>6.760551</td>\n",
       "      <td>6.700147</td>\n",
       "      <td>6.159926</td>\n",
       "      <td>6.030147</td>\n",
       "      <td>5.826654</td>\n",
       "      <td>5.286471</td>\n",
       "      <td>5.025147</td>\n",
       "      <td>4.690000</td>\n",
       "      <td>4.251471</td>\n",
       "      <td>5.571471</td>\n",
       "    </tr>\n",
       "    <tr>\n",
       "      <th>Chiapas</th>\n",
       "      <td>4.494530</td>\n",
       "      <td>5.324497</td>\n",
       "      <td>6.267349</td>\n",
       "      <td>6.716242</td>\n",
       "      <td>6.633456</td>\n",
       "      <td>6.099631</td>\n",
       "      <td>6.002416</td>\n",
       "      <td>5.807349</td>\n",
       "      <td>5.257450</td>\n",
       "      <td>4.993624</td>\n",
       "      <td>4.674329</td>\n",
       "      <td>4.253255</td>\n",
       "      <td>5.543121</td>\n",
       "    </tr>\n",
       "    <tr>\n",
       "      <th>Sonora</th>\n",
       "      <td>4.353035</td>\n",
       "      <td>5.186179</td>\n",
       "      <td>6.236612</td>\n",
       "      <td>6.810976</td>\n",
       "      <td>6.852114</td>\n",
       "      <td>6.399729</td>\n",
       "      <td>6.123333</td>\n",
       "      <td>5.864607</td>\n",
       "      <td>5.355203</td>\n",
       "      <td>4.988211</td>\n",
       "      <td>4.561057</td>\n",
       "      <td>4.104201</td>\n",
       "      <td>5.569295</td>\n",
       "    </tr>\n",
       "    <tr>\n",
       "      <th>Chihuahua</th>\n",
       "      <td>4.263636</td>\n",
       "      <td>5.097749</td>\n",
       "      <td>6.228571</td>\n",
       "      <td>6.862100</td>\n",
       "      <td>6.983701</td>\n",
       "      <td>6.534524</td>\n",
       "      <td>6.147338</td>\n",
       "      <td>5.869545</td>\n",
       "      <td>5.390887</td>\n",
       "      <td>5.000195</td>\n",
       "      <td>4.496169</td>\n",
       "      <td>4.004459</td>\n",
       "      <td>5.573074</td>\n",
       "    </tr>\n",
       "    <tr>\n",
       "      <th>Coahuila</th>\n",
       "      <td>4.204128</td>\n",
       "      <td>5.033217</td>\n",
       "      <td>6.168643</td>\n",
       "      <td>6.789632</td>\n",
       "      <td>6.937248</td>\n",
       "      <td>6.537597</td>\n",
       "      <td>6.163663</td>\n",
       "      <td>5.868915</td>\n",
       "      <td>5.371434</td>\n",
       "      <td>4.964709</td>\n",
       "      <td>4.445775</td>\n",
       "      <td>3.947655</td>\n",
       "      <td>5.536047</td>\n",
       "    </tr>\n",
       "    <tr>\n",
       "      <th>Sinaloa</th>\n",
       "      <td>4.209143</td>\n",
       "      <td>5.040540</td>\n",
       "      <td>6.183277</td>\n",
       "      <td>6.810279</td>\n",
       "      <td>6.973408</td>\n",
       "      <td>6.569870</td>\n",
       "      <td>6.168547</td>\n",
       "      <td>5.873464</td>\n",
       "      <td>5.380093</td>\n",
       "      <td>4.981453</td>\n",
       "      <td>4.453352</td>\n",
       "      <td>3.949125</td>\n",
       "      <td>5.549441</td>\n",
       "    </tr>\n",
       "    <tr>\n",
       "      <th>Durango</th>\n",
       "      <td>4.220725</td>\n",
       "      <td>5.057617</td>\n",
       "      <td>6.213731</td>\n",
       "      <td>6.834750</td>\n",
       "      <td>7.005959</td>\n",
       "      <td>6.583575</td>\n",
       "      <td>6.151969</td>\n",
       "      <td>5.866459</td>\n",
       "      <td>5.377427</td>\n",
       "      <td>5.009206</td>\n",
       "      <td>4.474370</td>\n",
       "      <td>3.958584</td>\n",
       "      <td>5.562988</td>\n",
       "    </tr>\n",
       "    <tr>\n",
       "      <th>Zacatecas</th>\n",
       "      <td>4.230844</td>\n",
       "      <td>5.071788</td>\n",
       "      <td>6.228659</td>\n",
       "      <td>6.839536</td>\n",
       "      <td>7.009023</td>\n",
       "      <td>6.584801</td>\n",
       "      <td>6.152185</td>\n",
       "      <td>5.872897</td>\n",
       "      <td>5.380480</td>\n",
       "      <td>5.022881</td>\n",
       "      <td>4.492533</td>\n",
       "      <td>3.971871</td>\n",
       "      <td>5.571507</td>\n",
       "    </tr>\n",
       "    <tr>\n",
       "      <th>San Luis Potosí</th>\n",
       "      <td>4.228724</td>\n",
       "      <td>5.070510</td>\n",
       "      <td>6.221340</td>\n",
       "      <td>6.823190</td>\n",
       "      <td>6.994274</td>\n",
       "      <td>6.576571</td>\n",
       "      <td>6.148820</td>\n",
       "      <td>5.878134</td>\n",
       "      <td>5.372648</td>\n",
       "      <td>5.020478</td>\n",
       "      <td>4.495582</td>\n",
       "      <td>3.973014</td>\n",
       "      <td>5.566922</td>\n",
       "    </tr>\n",
       "    <tr>\n",
       "      <th>Nuevo León</th>\n",
       "      <td>4.202389</td>\n",
       "      <td>5.040521</td>\n",
       "      <td>6.188897</td>\n",
       "      <td>6.781149</td>\n",
       "      <td>6.960184</td>\n",
       "      <td>6.566646</td>\n",
       "      <td>6.156003</td>\n",
       "      <td>5.881485</td>\n",
       "      <td>5.362328</td>\n",
       "      <td>5.002297</td>\n",
       "      <td>4.474135</td>\n",
       "      <td>3.950965</td>\n",
       "      <td>5.547243</td>\n",
       "    </tr>\n",
       "    <tr>\n",
       "      <th>Tamaulipas</th>\n",
       "      <td>4.174485</td>\n",
       "      <td>5.008794</td>\n",
       "      <td>6.150824</td>\n",
       "      <td>6.737176</td>\n",
       "      <td>6.926221</td>\n",
       "      <td>6.554441</td>\n",
       "      <td>6.161103</td>\n",
       "      <td>5.886868</td>\n",
       "      <td>5.352926</td>\n",
       "      <td>4.987926</td>\n",
       "      <td>4.453779</td>\n",
       "      <td>3.928265</td>\n",
       "      <td>5.526868</td>\n",
       "    </tr>\n",
       "    <tr>\n",
       "      <th>Veracruz</th>\n",
       "      <td>4.155901</td>\n",
       "      <td>4.984695</td>\n",
       "      <td>6.117461</td>\n",
       "      <td>6.703191</td>\n",
       "      <td>6.889830</td>\n",
       "      <td>6.516752</td>\n",
       "      <td>6.133716</td>\n",
       "      <td>5.866610</td>\n",
       "      <td>5.329021</td>\n",
       "      <td>4.964752</td>\n",
       "      <td>4.436014</td>\n",
       "      <td>3.913589</td>\n",
       "      <td>5.500936</td>\n",
       "    </tr>\n",
       "  </tbody>\n",
       "</table>\n",
       "</div>"
      ],
      "text/plain": [
       "                          Ene       Feb       Mar       Abr       May  \\\n",
       "Baja California      3.529310  4.352069  5.547241  6.668621  7.005862   \n",
       "Baja California Sur  3.751964  4.568929  5.766250  6.735893  7.124107   \n",
       "Nayarit              3.870769  4.710462  5.909846  6.825846  7.206000   \n",
       "Jalisco              4.146882  5.028280  6.204086  6.958710  7.202366   \n",
       "Aguascalientes       4.163438  5.047708  6.221875  6.963646  7.199792   \n",
       "Guanajuato           4.217290  5.109533  6.263738  6.957290  7.155514   \n",
       "Querétaro            4.230360  5.125766  6.271892  6.950090  7.137477   \n",
       "Hidalgo              4.242458  5.137797  6.265847  6.916356  7.092203   \n",
       "Michoacán            4.333529  5.240588  6.353971  6.943015  7.043750   \n",
       "México               4.364236  5.271528  6.368681  6.926528  7.007222   \n",
       "Distrito Federal     4.367103  5.274690  6.369931  6.923586  7.001931   \n",
       "Colima               4.378243  5.287568  6.382095  6.930811  7.001014   \n",
       "Morelos              4.389000  5.297933  6.389067  6.932267  6.997200   \n",
       "Yucatán              4.382378  5.280061  6.347073  6.897134  6.962256   \n",
       "Campeche             4.381341  5.271173  6.314860  6.863128  6.924190   \n",
       "Puebla               4.391640  5.272116  6.301376  6.834709  6.893598   \n",
       "Quintana Roo         4.371884  5.243671  6.242126  6.778116  6.819855   \n",
       "Tlaxcala             4.373606  5.244904  6.241923  6.775385  6.816683   \n",
       "Guerrero             4.452739  5.325522  6.309130  6.803000  6.791696   \n",
       "Oaxaca               4.515551  5.361445  6.315932  6.778365  6.716084   \n",
       "Tabasco              4.498088  5.340588  6.295257  6.760551  6.700147   \n",
       "Chiapas              4.494530  5.324497  6.267349  6.716242  6.633456   \n",
       "Sonora               4.353035  5.186179  6.236612  6.810976  6.852114   \n",
       "Chihuahua            4.263636  5.097749  6.228571  6.862100  6.983701   \n",
       "Coahuila             4.204128  5.033217  6.168643  6.789632  6.937248   \n",
       "Sinaloa              4.209143  5.040540  6.183277  6.810279  6.973408   \n",
       "Durango              4.220725  5.057617  6.213731  6.834750  7.005959   \n",
       "Zacatecas            4.230844  5.071788  6.228659  6.839536  7.009023   \n",
       "San Luis Potosí      4.228724  5.070510  6.221340  6.823190  6.994274   \n",
       "Nuevo León           4.202389  5.040521  6.188897  6.781149  6.960184   \n",
       "Tamaulipas           4.174485  5.008794  6.150824  6.737176  6.926221   \n",
       "Veracruz             4.155901  4.984695  6.117461  6.703191  6.889830   \n",
       "\n",
       "                          Jun       Jul       Ago       Sep       Oct  \\\n",
       "Baja California      6.980690  6.688276  6.209655  5.608621  4.633793   \n",
       "Baja California Sur  7.083929  6.740714  6.254821  5.653750  4.833036   \n",
       "Nayarit              7.050308  6.645538  6.202000  5.615692  4.919538   \n",
       "Jalisco              6.811290  6.378495  6.035054  5.497419  5.035806   \n",
       "Aguascalientes       6.798229  6.368333  6.033438  5.496563  5.048437   \n",
       "Guanajuato           6.742804  6.329533  6.025514  5.480187  5.063832   \n",
       "Querétaro            6.724144  6.316757  6.023063  5.470631  5.062342   \n",
       "Hidalgo              6.675085  6.283983  6.004831  5.440254  5.044153   \n",
       "Michoacán            6.556250  6.183382  5.927132  5.379191  5.044191   \n",
       "México               6.512569  6.160486  5.911111  5.364444  5.045556   \n",
       "Distrito Federal     6.506276  6.156000  5.907724  5.361586  5.044690   \n",
       "Colima               6.496959  6.145743  5.899932  5.355743  5.047703   \n",
       "Morelos              6.492067  6.149667  5.903600  5.358600  5.053533   \n",
       "Yucatán              6.461402  6.152378  5.915061  5.375488  5.045610   \n",
       "Campeche             6.438492  6.154916  5.925531  5.393296  5.039497   \n",
       "Puebla               6.407989  6.145873  5.918889  5.383439  5.040688   \n",
       "Quintana Roo         6.330338  6.093237  5.875990  5.354638  5.010821   \n",
       "Tlaxcala             6.327019  6.091202  5.874519  5.352692  5.010481   \n",
       "Guerrero             6.273043  6.079609  5.865522  5.338957  5.040913   \n",
       "Oaxaca               6.166768  6.025627  5.821255  5.289011  5.039202   \n",
       "Tabasco              6.159926  6.030147  5.826654  5.286471  5.025147   \n",
       "Chiapas              6.099631  6.002416  5.807349  5.257450  4.993624   \n",
       "Sonora               6.399729  6.123333  5.864607  5.355203  4.988211   \n",
       "Chihuahua            6.534524  6.147338  5.869545  5.390887  5.000195   \n",
       "Coahuila             6.537597  6.163663  5.868915  5.371434  4.964709   \n",
       "Sinaloa              6.569870  6.168547  5.873464  5.380093  4.981453   \n",
       "Durango              6.583575  6.151969  5.866459  5.377427  5.009206   \n",
       "Zacatecas            6.584801  6.152185  5.872897  5.380480  5.022881   \n",
       "San Luis Potosí      6.576571  6.148820  5.878134  5.372648  5.020478   \n",
       "Nuevo León           6.566646  6.156003  5.881485  5.362328  5.002297   \n",
       "Tamaulipas           6.554441  6.161103  5.886868  5.352926  4.987926   \n",
       "Veracruz             6.516752  6.133716  5.866610  5.329021  4.964752   \n",
       "\n",
       "                          Nov       Dic     Anual  \n",
       "Baja California      3.828966  3.265517  5.360690  \n",
       "Baja California Sur  4.031250  3.463393  5.500357  \n",
       "Nayarit              4.166615  3.584769  5.558615  \n",
       "Jalisco              4.455591  3.880215  5.635484  \n",
       "Aguascalientes       4.476771  3.900938  5.642500  \n",
       "Guanajuato           4.530280  3.962150  5.652523  \n",
       "Querétaro            4.540721  3.975135  5.651712  \n",
       "Hidalgo              4.543305  3.988644  5.635763  \n",
       "Michoacán            4.614265  4.080294  5.641029  \n",
       "México               4.633125  4.110069  5.638958  \n",
       "Distrito Federal     4.634345  4.112690  5.637724  \n",
       "Colima               4.644392  4.123041  5.640473  \n",
       "Morelos              4.653333  4.133467  5.645133  \n",
       "Yucatán              4.633720  4.121768  5.630488  \n",
       "Campeche             4.626145  4.118659  5.620168  \n",
       "Puebla               4.636190  4.134762  5.612646  \n",
       "Quintana Roo         4.604879  4.117778  5.569469  \n",
       "Tlaxcala             4.605769  4.119567  5.568654  \n",
       "Guerrero             4.667391  4.198130  5.594870  \n",
       "Oaxaca               4.705665  4.270076  5.583194  \n",
       "Tabasco              4.690000  4.251471  5.571471  \n",
       "Chiapas              4.674329  4.253255  5.543121  \n",
       "Sonora               4.561057  4.104201  5.569295  \n",
       "Chihuahua            4.496169  4.004459  5.573074  \n",
       "Coahuila             4.445775  3.947655  5.536047  \n",
       "Sinaloa              4.453352  3.949125  5.549441  \n",
       "Durango              4.474370  3.958584  5.562988  \n",
       "Zacatecas            4.492533  3.971871  5.571507  \n",
       "San Luis Potosí      4.495582  3.973014  5.566922  \n",
       "Nuevo León           4.474135  3.950965  5.547243  \n",
       "Tamaulipas           4.453779  3.928265  5.526868  \n",
       "Veracruz             4.436014  3.913589  5.500936  "
      ]
     },
     "execution_count": 9,
     "metadata": {},
     "output_type": "execute_result"
    }
   ],
   "source": [
    "df_rad_avg_day"
   ]
  },
  {
   "cell_type": "code",
   "execution_count": 10,
   "id": "5c63b9f2",
   "metadata": {},
   "outputs": [],
   "source": [
    "#Read the csv file with the area of each state\n",
    "state_area = pd.read_csv('Areas_Estados.csv')\n",
    "state_area.set_index('Estado',inplace=True)"
   ]
  },
  {
   "cell_type": "code",
   "execution_count": 11,
   "id": "3916e06b",
   "metadata": {
    "scrolled": true
   },
   "outputs": [
    {
     "data": {
      "text/html": [
       "<div>\n",
       "<style scoped>\n",
       "    .dataframe tbody tr th:only-of-type {\n",
       "        vertical-align: middle;\n",
       "    }\n",
       "\n",
       "    .dataframe tbody tr th {\n",
       "        vertical-align: top;\n",
       "    }\n",
       "\n",
       "    .dataframe thead th {\n",
       "        text-align: right;\n",
       "    }\n",
       "</style>\n",
       "<table border=\"1\" class=\"dataframe\">\n",
       "  <thead>\n",
       "    <tr style=\"text-align: right;\">\n",
       "      <th></th>\n",
       "      <th>Superficie km2</th>\n",
       "      <th>Superficie_m2</th>\n",
       "    </tr>\n",
       "    <tr>\n",
       "      <th>Estado</th>\n",
       "      <th></th>\n",
       "      <th></th>\n",
       "    </tr>\n",
       "  </thead>\n",
       "  <tbody>\n",
       "    <tr>\n",
       "      <th>Aguascalientes</th>\n",
       "      <td>5616</td>\n",
       "      <td>5.616000e+09</td>\n",
       "    </tr>\n",
       "    <tr>\n",
       "      <th>Baja California</th>\n",
       "      <td>71450</td>\n",
       "      <td>7.145000e+10</td>\n",
       "    </tr>\n",
       "    <tr>\n",
       "      <th>Baja California Sur</th>\n",
       "      <td>73909</td>\n",
       "      <td>7.390900e+10</td>\n",
       "    </tr>\n",
       "    <tr>\n",
       "      <th>Campeche</th>\n",
       "      <td>57507</td>\n",
       "      <td>5.750700e+10</td>\n",
       "    </tr>\n",
       "    <tr>\n",
       "      <th>Chiapas</th>\n",
       "      <td>73311</td>\n",
       "      <td>7.331100e+10</td>\n",
       "    </tr>\n",
       "  </tbody>\n",
       "</table>\n",
       "</div>"
      ],
      "text/plain": [
       "                     Superficie km2  Superficie_m2\n",
       "Estado                                            \n",
       "Aguascalientes                 5616   5.616000e+09\n",
       "Baja California               71450   7.145000e+10\n",
       "Baja California Sur           73909   7.390900e+10\n",
       "Campeche                      57507   5.750700e+10\n",
       "Chiapas                       73311   7.331100e+10"
      ]
     },
     "execution_count": 11,
     "metadata": {},
     "output_type": "execute_result"
    }
   ],
   "source": [
    "state_area.head()"
   ]
  },
  {
   "cell_type": "code",
   "execution_count": 12,
   "id": "9023d096",
   "metadata": {
    "scrolled": true
   },
   "outputs": [
    {
     "data": {
      "text/html": [
       "<div>\n",
       "<style scoped>\n",
       "    .dataframe tbody tr th:only-of-type {\n",
       "        vertical-align: middle;\n",
       "    }\n",
       "\n",
       "    .dataframe tbody tr th {\n",
       "        vertical-align: top;\n",
       "    }\n",
       "\n",
       "    .dataframe thead th {\n",
       "        text-align: right;\n",
       "    }\n",
       "</style>\n",
       "<table border=\"1\" class=\"dataframe\">\n",
       "  <thead>\n",
       "    <tr style=\"text-align: right;\">\n",
       "      <th></th>\n",
       "      <th>Ene</th>\n",
       "      <th>Feb</th>\n",
       "      <th>Mar</th>\n",
       "      <th>Abr</th>\n",
       "      <th>May</th>\n",
       "      <th>Jun</th>\n",
       "      <th>Jul</th>\n",
       "      <th>Ago</th>\n",
       "      <th>Sep</th>\n",
       "      <th>Oct</th>\n",
       "      <th>Nov</th>\n",
       "      <th>Dic</th>\n",
       "      <th>Anual</th>\n",
       "    </tr>\n",
       "  </thead>\n",
       "  <tbody>\n",
       "    <tr>\n",
       "      <th>Baja California</th>\n",
       "      <td>7817.245948</td>\n",
       "      <td>8706.749172</td>\n",
       "      <td>12286.862293</td>\n",
       "      <td>14294.188448</td>\n",
       "      <td>15517.634190</td>\n",
       "      <td>14963.108276</td>\n",
       "      <td>14814.196621</td>\n",
       "      <td>13754.075724</td>\n",
       "      <td>12022.078448</td>\n",
       "      <td>10263.620034</td>\n",
       "      <td>8207.387586</td>\n",
       "      <td>7232.957414</td>\n",
       "      <td>139802.765690</td>\n",
       "    </tr>\n",
       "    <tr>\n",
       "      <th>Baja California Sur</th>\n",
       "      <td>8596.421780</td>\n",
       "      <td>9455.178370</td>\n",
       "      <td>13211.510909</td>\n",
       "      <td>14935.293155</td>\n",
       "      <td>16322.604679</td>\n",
       "      <td>15706.982304</td>\n",
       "      <td>15444.183016</td>\n",
       "      <td>14330.915506</td>\n",
       "      <td>12535.890263</td>\n",
       "      <td>11073.349935</td>\n",
       "      <td>8938.369687</td>\n",
       "      <td>7935.252983</td>\n",
       "      <td>148381.952066</td>\n",
       "    </tr>\n",
       "    <tr>\n",
       "      <th>Nayarit</th>\n",
       "      <td>3342.668572</td>\n",
       "      <td>3674.141158</td>\n",
       "      <td>5103.548114</td>\n",
       "      <td>5704.427889</td>\n",
       "      <td>6222.863802</td>\n",
       "      <td>5892.012642</td>\n",
       "      <td>5738.867713</td>\n",
       "      <td>5355.842534</td>\n",
       "      <td>4693.090218</td>\n",
       "      <td>4248.351071</td>\n",
       "      <td>3482.082143</td>\n",
       "      <td>3095.688410</td>\n",
       "      <td>56518.917301</td>\n",
       "    </tr>\n",
       "    <tr>\n",
       "      <th>Jalisco</th>\n",
       "      <td>10102.749360</td>\n",
       "      <td>11064.548175</td>\n",
       "      <td>15114.568080</td>\n",
       "      <td>16406.132284</td>\n",
       "      <td>17546.604720</td>\n",
       "      <td>16058.570516</td>\n",
       "      <td>15539.467200</td>\n",
       "      <td>14702.766960</td>\n",
       "      <td>12960.935768</td>\n",
       "      <td>12268.372680</td>\n",
       "      <td>10504.680503</td>\n",
       "      <td>9453.088560</td>\n",
       "      <td>161651.713355</td>\n",
       "    </tr>\n",
       "    <tr>\n",
       "      <th>Aguascalientes</th>\n",
       "      <td>724.837815</td>\n",
       "      <td>793.742040</td>\n",
       "      <td>1083.203550</td>\n",
       "      <td>1173.235050</td>\n",
       "      <td>1253.454930</td>\n",
       "      <td>1145.365650</td>\n",
       "      <td>1108.701360</td>\n",
       "      <td>1050.397335</td>\n",
       "      <td>926.060850</td>\n",
       "      <td>878.912775</td>\n",
       "      <td>754.246350</td>\n",
       "      <td>679.137615</td>\n",
       "      <td>11566.222200</td>\n",
       "    </tr>\n",
       "  </tbody>\n",
       "</table>\n",
       "</div>"
      ],
      "text/plain": [
       "                              Ene           Feb           Mar           Abr  \\\n",
       "Baja California       7817.245948   8706.749172  12286.862293  14294.188448   \n",
       "Baja California Sur   8596.421780   9455.178370  13211.510909  14935.293155   \n",
       "Nayarit               3342.668572   3674.141158   5103.548114   5704.427889   \n",
       "Jalisco              10102.749360  11064.548175  15114.568080  16406.132284   \n",
       "Aguascalientes         724.837815    793.742040   1083.203550   1173.235050   \n",
       "\n",
       "                              May           Jun           Jul           Ago  \\\n",
       "Baja California      15517.634190  14963.108276  14814.196621  13754.075724   \n",
       "Baja California Sur  16322.604679  15706.982304  15444.183016  14330.915506   \n",
       "Nayarit               6222.863802   5892.012642   5738.867713   5355.842534   \n",
       "Jalisco              17546.604720  16058.570516  15539.467200  14702.766960   \n",
       "Aguascalientes        1253.454930   1145.365650   1108.701360   1050.397335   \n",
       "\n",
       "                              Sep           Oct           Nov          Dic  \\\n",
       "Baja California      12022.078448  10263.620034   8207.387586  7232.957414   \n",
       "Baja California Sur  12535.890263  11073.349935   8938.369687  7935.252983   \n",
       "Nayarit               4693.090218   4248.351071   3482.082143  3095.688410   \n",
       "Jalisco              12960.935768  12268.372680  10504.680503  9453.088560   \n",
       "Aguascalientes         926.060850    878.912775    754.246350   679.137615   \n",
       "\n",
       "                             Anual  \n",
       "Baja California      139802.765690  \n",
       "Baja California Sur  148381.952066  \n",
       "Nayarit               56518.917301  \n",
       "Jalisco              161651.713355  \n",
       "Aguascalientes        11566.222200  "
      ]
     },
     "execution_count": 12,
     "metadata": {},
     "output_type": "execute_result"
    }
   ],
   "source": [
    "# Compute the total radiation for each state by multiplying the average radiation per day (kW-hr/m^2/day)\n",
    "# by the area of each state to obtain the total radiation per state per day (kW-hr/day), then multiplying that quantity\n",
    "# by the number of days in each month to obtain the total radiation per month and annually.(kW-hr)\n",
    "# The final step is to divide the value by 1000M to obtain the value in TW-hr.\n",
    "total_radiation = df_rad_avg_day.copy()\n",
    "days_month = {'Ene': 31, 'Feb': 28, 'Mar': 31, 'Abr': 30, 'May': 31, 'Jun': 30,\n",
    "              'Jul': 31, 'Ago': 31, 'Sep': 30, 'Oct': 31, 'Nov': 30, 'Dic': 31, 'Anual': 365}\n",
    "for state in state_area.index:\n",
    "    for key,value in days_month.items():\n",
    "            total_radiation.loc[state][key] = (total_radiation.loc[state][key] * state_area.loc[state][1] * value) / 1000000000\n",
    "\n",
    "total_radiation.head()"
   ]
  },
  {
   "cell_type": "code",
   "execution_count": 13,
   "id": "32aafbfd",
   "metadata": {},
   "outputs": [],
   "source": [
    "# Reading the monthly energy consumption file.\n",
    "yearly_consumption = pd.read_csv('energy_consumption_2018_2020.csv')"
   ]
  },
  {
   "cell_type": "code",
   "execution_count": 14,
   "id": "fb4939f6",
   "metadata": {},
   "outputs": [],
   "source": [
    "# Melting data frame to graph yearly energy consumption vs solar radiation in scatter plot\n",
    "yearly_consumption = yearly_consumption.melt(id_vars=['Estado'],var_name='Year',value_name='Consumption')\n",
    "yearly_consumption.set_index('Estado',inplace=True)\n",
    "yearly_consumption.drop('Total',inplace=True)"
   ]
  },
  {
   "cell_type": "code",
   "execution_count": 15,
   "id": "f144cc56",
   "metadata": {
    "scrolled": true
   },
   "outputs": [],
   "source": [
    "# Adding yearly average radiation to all rows\n",
    "yearly_consumption = yearly_consumption.assign(Radiation= lambda x: round(total_radiation.loc[x.index]['Anual'],2))"
   ]
  },
  {
   "cell_type": "code",
   "execution_count": 16,
   "id": "d68ac902",
   "metadata": {
    "scrolled": true
   },
   "outputs": [
    {
     "data": {
      "text/html": [
       "<div>\n",
       "<style scoped>\n",
       "    .dataframe tbody tr th:only-of-type {\n",
       "        vertical-align: middle;\n",
       "    }\n",
       "\n",
       "    .dataframe tbody tr th {\n",
       "        vertical-align: top;\n",
       "    }\n",
       "\n",
       "    .dataframe thead th {\n",
       "        text-align: right;\n",
       "    }\n",
       "</style>\n",
       "<table border=\"1\" class=\"dataframe\">\n",
       "  <thead>\n",
       "    <tr style=\"text-align: right;\">\n",
       "      <th></th>\n",
       "      <th>Year</th>\n",
       "      <th>Consumption</th>\n",
       "      <th>Radiation</th>\n",
       "    </tr>\n",
       "    <tr>\n",
       "      <th>Estado</th>\n",
       "      <th></th>\n",
       "      <th></th>\n",
       "      <th></th>\n",
       "    </tr>\n",
       "  </thead>\n",
       "  <tbody>\n",
       "    <tr>\n",
       "      <th>Aguascalientes</th>\n",
       "      <td>2018</td>\n",
       "      <td>2855500</td>\n",
       "      <td>11566.22</td>\n",
       "    </tr>\n",
       "    <tr>\n",
       "      <th>Baja California</th>\n",
       "      <td>2018</td>\n",
       "      <td>10823800</td>\n",
       "      <td>139802.77</td>\n",
       "    </tr>\n",
       "    <tr>\n",
       "      <th>Baja California Sur</th>\n",
       "      <td>2018</td>\n",
       "      <td>2561200</td>\n",
       "      <td>148381.95</td>\n",
       "    </tr>\n",
       "    <tr>\n",
       "      <th>Campeche</th>\n",
       "      <td>2018</td>\n",
       "      <td>1315600</td>\n",
       "      <td>117967.63</td>\n",
       "    </tr>\n",
       "    <tr>\n",
       "      <th>Chiapas</th>\n",
       "      <td>2018</td>\n",
       "      <td>3096400</td>\n",
       "      <td>148325.68</td>\n",
       "    </tr>\n",
       "  </tbody>\n",
       "</table>\n",
       "</div>"
      ],
      "text/plain": [
       "                     Year  Consumption  Radiation\n",
       "Estado                                           \n",
       "Aguascalientes       2018      2855500   11566.22\n",
       "Baja California      2018     10823800  139802.77\n",
       "Baja California Sur  2018      2561200  148381.95\n",
       "Campeche             2018      1315600  117967.63\n",
       "Chiapas              2018      3096400  148325.68"
      ]
     },
     "execution_count": 16,
     "metadata": {},
     "output_type": "execute_result"
    }
   ],
   "source": [
    "yearly_consumption.head()"
   ]
  },
  {
   "cell_type": "code",
   "execution_count": 23,
   "id": "fa3f4c78",
   "metadata": {},
   "outputs": [
    {
     "data": {
      "application/vnd.plotly.v1+json": {
       "config": {
        "plotlyServerURL": "https://plot.ly"
       },
       "data": [
        {
         "hovertemplate": "<b>%{hovertext}</b><br><br>Estado=Aguascalientes<br>Year=2018<br>Consumption kWhr/year=%{marker.size}<br>Radiation TWhr/year=%{y}<extra></extra>",
         "hovertext": [
          "Aguascalientes"
         ],
         "ids": [
          "Aguascalientes"
         ],
         "legendgroup": "Aguascalientes",
         "marker": {
          "color": "#636efa",
          "size": [
           2855500
          ],
          "sizemode": "area",
          "sizeref": 5980.165289256199,
          "symbol": "circle"
         },
         "mode": "markers",
         "name": "Aguascalientes",
         "orientation": "v",
         "showlegend": true,
         "type": "scatter",
         "x": [
          2855500
         ],
         "xaxis": "x",
         "y": [
          11566.22
         ],
         "yaxis": "y"
        },
        {
         "hovertemplate": "<b>%{hovertext}</b><br><br>Estado=Baja California<br>Year=2018<br>Consumption kWhr/year=%{marker.size}<br>Radiation TWhr/year=%{y}<extra></extra>",
         "hovertext": [
          "Baja California"
         ],
         "ids": [
          "Baja California"
         ],
         "legendgroup": "Baja California",
         "marker": {
          "color": "#EF553B",
          "size": [
           10823800
          ],
          "sizemode": "area",
          "sizeref": 5980.165289256199,
          "symbol": "circle"
         },
         "mode": "markers",
         "name": "Baja California",
         "orientation": "v",
         "showlegend": true,
         "type": "scatter",
         "x": [
          10823800
         ],
         "xaxis": "x",
         "y": [
          139802.77
         ],
         "yaxis": "y"
        },
        {
         "hovertemplate": "<b>%{hovertext}</b><br><br>Estado=Baja California Sur<br>Year=2018<br>Consumption kWhr/year=%{marker.size}<br>Radiation TWhr/year=%{y}<extra></extra>",
         "hovertext": [
          "Baja California Sur"
         ],
         "ids": [
          "Baja California Sur"
         ],
         "legendgroup": "Baja California Sur",
         "marker": {
          "color": "#00cc96",
          "size": [
           2561200
          ],
          "sizemode": "area",
          "sizeref": 5980.165289256199,
          "symbol": "circle"
         },
         "mode": "markers",
         "name": "Baja California Sur",
         "orientation": "v",
         "showlegend": true,
         "type": "scatter",
         "x": [
          2561200
         ],
         "xaxis": "x",
         "y": [
          148381.95
         ],
         "yaxis": "y"
        },
        {
         "hovertemplate": "<b>%{hovertext}</b><br><br>Estado=Campeche<br>Year=2018<br>Consumption kWhr/year=%{marker.size}<br>Radiation TWhr/year=%{y}<extra></extra>",
         "hovertext": [
          "Campeche"
         ],
         "ids": [
          "Campeche"
         ],
         "legendgroup": "Campeche",
         "marker": {
          "color": "#ab63fa",
          "size": [
           1315600
          ],
          "sizemode": "area",
          "sizeref": 5980.165289256199,
          "symbol": "circle"
         },
         "mode": "markers",
         "name": "Campeche",
         "orientation": "v",
         "showlegend": true,
         "type": "scatter",
         "x": [
          1315600
         ],
         "xaxis": "x",
         "y": [
          117967.63
         ],
         "yaxis": "y"
        },
        {
         "hovertemplate": "<b>%{hovertext}</b><br><br>Estado=Chiapas<br>Year=2018<br>Consumption kWhr/year=%{marker.size}<br>Radiation TWhr/year=%{y}<extra></extra>",
         "hovertext": [
          "Chiapas"
         ],
         "ids": [
          "Chiapas"
         ],
         "legendgroup": "Chiapas",
         "marker": {
          "color": "#FFA15A",
          "size": [
           3096400
          ],
          "sizemode": "area",
          "sizeref": 5980.165289256199,
          "symbol": "circle"
         },
         "mode": "markers",
         "name": "Chiapas",
         "orientation": "v",
         "showlegend": true,
         "type": "scatter",
         "x": [
          3096400
         ],
         "xaxis": "x",
         "y": [
          148325.68
         ],
         "yaxis": "y"
        },
        {
         "hovertemplate": "<b>%{hovertext}</b><br><br>Estado=Chihuahua<br>Year=2018<br>Consumption kWhr/year=%{marker.size}<br>Radiation TWhr/year=%{y}<extra></extra>",
         "hovertext": [
          "Chihuahua"
         ],
         "ids": [
          "Chihuahua"
         ],
         "legendgroup": "Chihuahua",
         "marker": {
          "color": "#19d3f3",
          "size": [
           12699400
          ],
          "sizemode": "area",
          "sizeref": 5980.165289256199,
          "symbol": "circle"
         },
         "mode": "markers",
         "name": "Chihuahua",
         "orientation": "v",
         "showlegend": true,
         "type": "scatter",
         "x": [
          12699400
         ],
         "xaxis": "x",
         "y": [
          502440.45
         ],
         "yaxis": "y"
        },
        {
         "hovertemplate": "<b>%{hovertext}</b><br><br>Estado=Coahuila<br>Year=2018<br>Consumption kWhr/year=%{marker.size}<br>Radiation TWhr/year=%{y}<extra></extra>",
         "hovertext": [
          "Coahuila"
         ],
         "ids": [
          "Coahuila"
         ],
         "legendgroup": "Coahuila",
         "marker": {
          "color": "#FF6692",
          "size": [
           10601900
          ],
          "sizemode": "area",
          "sizeref": 5980.165289256199,
          "symbol": "circle"
         },
         "mode": "markers",
         "name": "Coahuila",
         "orientation": "v",
         "showlegend": true,
         "type": "scatter",
         "x": [
          10601900
         ],
         "xaxis": "x",
         "y": [
          307139.86
         ],
         "yaxis": "y"
        },
        {
         "hovertemplate": "<b>%{hovertext}</b><br><br>Estado=Colima<br>Year=2018<br>Consumption kWhr/year=%{marker.size}<br>Radiation TWhr/year=%{y}<extra></extra>",
         "hovertext": [
          "Colima"
         ],
         "ids": [
          "Colima"
         ],
         "legendgroup": "Colima",
         "marker": {
          "color": "#B6E880",
          "size": [
           2025400
          ],
          "sizemode": "area",
          "sizeref": 5980.165289256199,
          "symbol": "circle"
         },
         "mode": "markers",
         "name": "Colima",
         "orientation": "v",
         "showlegend": true,
         "type": "scatter",
         "x": [
          2025400
         ],
         "xaxis": "x",
         "y": [
          11584.71
         ],
         "yaxis": "y"
        },
        {
         "hovertemplate": "<b>%{hovertext}</b><br><br>Estado=Distrito Federal<br>Year=2018<br>Consumption kWhr/year=%{marker.size}<br>Radiation TWhr/year=%{y}<extra></extra>",
         "hovertext": [
          "Distrito Federal"
         ],
         "ids": [
          "Distrito Federal"
         ],
         "legendgroup": "Distrito Federal",
         "marker": {
          "color": "#FF97FF",
          "size": [
           13432400
          ],
          "sizemode": "area",
          "sizeref": 5980.165289256199,
          "symbol": "circle"
         },
         "mode": "markers",
         "name": "Distrito Federal",
         "orientation": "v",
         "showlegend": true,
         "type": "scatter",
         "x": [
          13432400
         ],
         "xaxis": "x",
         "y": [
          3076.37
         ],
         "yaxis": "y"
        },
        {
         "hovertemplate": "<b>%{hovertext}</b><br><br>Estado=Durango<br>Year=2018<br>Consumption kWhr/year=%{marker.size}<br>Radiation TWhr/year=%{y}<extra></extra>",
         "hovertext": [
          "Durango"
         ],
         "ids": [
          "Durango"
         ],
         "legendgroup": "Durango",
         "marker": {
          "color": "#FECB52",
          "size": [
           3237700
          ],
          "sizemode": "area",
          "sizeref": 5980.165289256199,
          "symbol": "circle"
         },
         "mode": "markers",
         "name": "Durango",
         "orientation": "v",
         "showlegend": true,
         "type": "scatter",
         "x": [
          3237700
         ],
         "xaxis": "x",
         "y": [
          249750.34
         ],
         "yaxis": "y"
        },
        {
         "hovertemplate": "<b>%{hovertext}</b><br><br>Estado=México<br>Year=2018<br>Consumption kWhr/year=%{marker.size}<br>Radiation TWhr/year=%{y}<extra></extra>",
         "hovertext": [
          "México"
         ],
         "ids": [
          "México"
         ],
         "legendgroup": "México",
         "marker": {
          "color": "#636efa",
          "size": [
           17846900
          ],
          "sizemode": "area",
          "sizeref": 5980.165289256199,
          "symbol": "circle"
         },
         "mode": "markers",
         "name": "México",
         "orientation": "v",
         "showlegend": true,
         "type": "scatter",
         "x": [
          17846900
         ],
         "xaxis": "x",
         "y": [
          46003.27
         ],
         "yaxis": "y"
        },
        {
         "hovertemplate": "<b>%{hovertext}</b><br><br>Estado=Guanajuato<br>Year=2018<br>Consumption kWhr/year=%{marker.size}<br>Radiation TWhr/year=%{y}<extra></extra>",
         "hovertext": [
          "Guanajuato"
         ],
         "ids": [
          "Guanajuato"
         ],
         "legendgroup": "Guanajuato",
         "marker": {
          "color": "#EF553B",
          "size": [
           12003100
          ],
          "sizemode": "area",
          "sizeref": 5980.165289256199,
          "symbol": "circle"
         },
         "mode": "markers",
         "name": "Guanajuato",
         "orientation": "v",
         "showlegend": true,
         "type": "scatter",
         "x": [
          12003100
         ],
         "xaxis": "x",
         "y": [
          63149.54
         ],
         "yaxis": "y"
        },
        {
         "hovertemplate": "<b>%{hovertext}</b><br><br>Estado=Guerrero<br>Year=2018<br>Consumption kWhr/year=%{marker.size}<br>Radiation TWhr/year=%{y}<extra></extra>",
         "hovertext": [
          "Guerrero"
         ],
         "ids": [
          "Guerrero"
         ],
         "legendgroup": "Guerrero",
         "marker": {
          "color": "#00cc96",
          "size": [
           3099300
          ],
          "sizemode": "area",
          "sizeref": 5980.165289256199,
          "symbol": "circle"
         },
         "mode": "markers",
         "name": "Guerrero",
         "orientation": "v",
         "showlegend": true,
         "type": "scatter",
         "x": [
          3099300
         ],
         "xaxis": "x",
         "y": [
          129871.13
         ],
         "yaxis": "y"
        },
        {
         "hovertemplate": "<b>%{hovertext}</b><br><br>Estado=Hidalgo<br>Year=2018<br>Consumption kWhr/year=%{marker.size}<br>Radiation TWhr/year=%{y}<extra></extra>",
         "hovertext": [
          "Hidalgo"
         ],
         "ids": [
          "Hidalgo"
         ],
         "legendgroup": "Hidalgo",
         "marker": {
          "color": "#ab63fa",
          "size": [
           3913500
          ],
          "sizemode": "area",
          "sizeref": 5980.165289256199,
          "symbol": "circle"
         },
         "mode": "markers",
         "name": "Hidalgo",
         "orientation": "v",
         "showlegend": true,
         "type": "scatter",
         "x": [
          3913500
         ],
         "xaxis": "x",
         "y": [
          42813.45
         ],
         "yaxis": "y"
        },
        {
         "hovertemplate": "<b>%{hovertext}</b><br><br>Estado=Jalisco<br>Year=2018<br>Consumption kWhr/year=%{marker.size}<br>Radiation TWhr/year=%{y}<extra></extra>",
         "hovertext": [
          "Jalisco"
         ],
         "ids": [
          "Jalisco"
         ],
         "legendgroup": "Jalisco",
         "marker": {
          "color": "#FFA15A",
          "size": [
           13476200
          ],
          "sizemode": "area",
          "sizeref": 5980.165289256199,
          "symbol": "circle"
         },
         "mode": "markers",
         "name": "Jalisco",
         "orientation": "v",
         "showlegend": true,
         "type": "scatter",
         "x": [
          13476200
         ],
         "xaxis": "x",
         "y": [
          161651.71
         ],
         "yaxis": "y"
        },
        {
         "hovertemplate": "<b>%{hovertext}</b><br><br>Estado=Michoacán<br>Year=2018<br>Consumption kWhr/year=%{marker.size}<br>Radiation TWhr/year=%{y}<extra></extra>",
         "hovertext": [
          "Michoacán"
         ],
         "ids": [
          "Michoacán"
         ],
         "legendgroup": "Michoacán",
         "marker": {
          "color": "#19d3f3",
          "size": [
           7819200
          ],
          "sizemode": "area",
          "sizeref": 5980.165289256199,
          "symbol": "circle"
         },
         "mode": "markers",
         "name": "Michoacán",
         "orientation": "v",
         "showlegend": true,
         "type": "scatter",
         "x": [
          7819200
         ],
         "xaxis": "x",
         "y": [
          120653.92
         ],
         "yaxis": "y"
        },
        {
         "hovertemplate": "<b>%{hovertext}</b><br><br>Estado=Morelos<br>Year=2018<br>Consumption kWhr/year=%{marker.size}<br>Radiation TWhr/year=%{y}<extra></extra>",
         "hovertext": [
          "Morelos"
         ],
         "ids": [
          "Morelos"
         ],
         "legendgroup": "Morelos",
         "marker": {
          "color": "#FF6692",
          "size": [
           2788300
          ],
          "sizemode": "area",
          "sizeref": 5980.165289256199,
          "symbol": "circle"
         },
         "mode": "markers",
         "name": "Morelos",
         "orientation": "v",
         "showlegend": true,
         "type": "scatter",
         "x": [
          2788300
         ],
         "xaxis": "x",
         "y": [
          10053.05
         ],
         "yaxis": "y"
        },
        {
         "hovertemplate": "<b>%{hovertext}</b><br><br>Estado=Nayarit<br>Year=2018<br>Consumption kWhr/year=%{marker.size}<br>Radiation TWhr/year=%{y}<extra></extra>",
         "hovertext": [
          "Nayarit"
         ],
         "ids": [
          "Nayarit"
         ],
         "legendgroup": "Nayarit",
         "marker": {
          "color": "#B6E880",
          "size": [
           1589400
          ],
          "sizemode": "area",
          "sizeref": 5980.165289256199,
          "symbol": "circle"
         },
         "mode": "markers",
         "name": "Nayarit",
         "orientation": "v",
         "showlegend": true,
         "type": "scatter",
         "x": [
          1589400
         ],
         "xaxis": "x",
         "y": [
          56518.92
         ],
         "yaxis": "y"
        },
        {
         "hovertemplate": "<b>%{hovertext}</b><br><br>Estado=Nuevo León<br>Year=2018<br>Consumption kWhr/year=%{marker.size}<br>Radiation TWhr/year=%{y}<extra></extra>",
         "hovertext": [
          "Nuevo León"
         ],
         "ids": [
          "Nuevo León"
         ],
         "legendgroup": "Nuevo León",
         "marker": {
          "color": "#FF97FF",
          "size": [
           18090000
          ],
          "sizemode": "area",
          "sizeref": 5980.165289256199,
          "symbol": "circle"
         },
         "mode": "markers",
         "name": "Nuevo León",
         "orientation": "v",
         "showlegend": true,
         "type": "scatter",
         "x": [
          18090000
         ],
         "xaxis": "x",
         "y": [
          129899.47
         ],
         "yaxis": "y"
        },
        {
         "hovertemplate": "<b>%{hovertext}</b><br><br>Estado=Oaxaca<br>Year=2018<br>Consumption kWhr/year=%{marker.size}<br>Radiation TWhr/year=%{y}<extra></extra>",
         "hovertext": [
          "Oaxaca"
         ],
         "ids": [
          "Oaxaca"
         ],
         "legendgroup": "Oaxaca",
         "marker": {
          "color": "#FECB52",
          "size": [
           2747400
          ],
          "sizemode": "area",
          "sizeref": 5980.165289256199,
          "symbol": "circle"
         },
         "mode": "markers",
         "name": "Oaxaca",
         "orientation": "v",
         "showlegend": true,
         "type": "scatter",
         "x": [
          2747400
         ],
         "xaxis": "x",
         "y": [
          191064.18
         ],
         "yaxis": "y"
        },
        {
         "hovertemplate": "<b>%{hovertext}</b><br><br>Estado=Puebla<br>Year=2018<br>Consumption kWhr/year=%{marker.size}<br>Radiation TWhr/year=%{y}<extra></extra>",
         "hovertext": [
          "Puebla"
         ],
         "ids": [
          "Puebla"
         ],
         "legendgroup": "Puebla",
         "marker": {
          "color": "#636efa",
          "size": [
           7817000
          ],
          "sizemode": "area",
          "sizeref": 5980.165289256199,
          "symbol": "circle"
         },
         "mode": "markers",
         "name": "Puebla",
         "orientation": "v",
         "showlegend": true,
         "type": "scatter",
         "x": [
          7817000
         ],
         "xaxis": "x",
         "y": [
          70279.81
         ],
         "yaxis": "y"
        },
        {
         "hovertemplate": "<b>%{hovertext}</b><br><br>Estado=Querétaro<br>Year=2018<br>Consumption kWhr/year=%{marker.size}<br>Radiation TWhr/year=%{y}<extra></extra>",
         "hovertext": [
          "Querétaro"
         ],
         "ids": [
          "Querétaro"
         ],
         "legendgroup": "Querétaro",
         "marker": {
          "color": "#EF553B",
          "size": [
           5458800
          ],
          "sizemode": "area",
          "sizeref": 5980.165289256199,
          "symbol": "circle"
         },
         "mode": "markers",
         "name": "Querétaro",
         "orientation": "v",
         "showlegend": true,
         "type": "scatter",
         "x": [
          5458800
         ],
         "xaxis": "x",
         "y": [
          24133.57
         ],
         "yaxis": "y"
        },
        {
         "hovertemplate": "<b>%{hovertext}</b><br><br>Estado=Quintana Roo<br>Year=2018<br>Consumption kWhr/year=%{marker.size}<br>Radiation TWhr/year=%{y}<extra></extra>",
         "hovertext": [
          "Quintana Roo"
         ],
         "ids": [
          "Quintana Roo"
         ],
         "legendgroup": "Quintana Roo",
         "marker": {
          "color": "#00cc96",
          "size": [
           5012400
          ],
          "sizemode": "area",
          "sizeref": 5980.165289256199,
          "symbol": "circle"
         },
         "mode": "markers",
         "name": "Quintana Roo",
         "orientation": "v",
         "showlegend": true,
         "type": "scatter",
         "x": [
          5012400
         ],
         "xaxis": "x",
         "y": [
          90878.83
         ],
         "yaxis": "y"
        },
        {
         "hovertemplate": "<b>%{hovertext}</b><br><br>Estado=San Luis Potosí<br>Year=2018<br>Consumption kWhr/year=%{marker.size}<br>Radiation TWhr/year=%{y}<extra></extra>",
         "hovertext": [
          "San Luis Potosí"
         ],
         "ids": [
          "San Luis Potosí"
         ],
         "legendgroup": "San Luis Potosí",
         "marker": {
          "color": "#ab63fa",
          "size": [
           5921700
          ],
          "sizemode": "area",
          "sizeref": 5980.165289256199,
          "symbol": "circle"
         },
         "mode": "markers",
         "name": "San Luis Potosí",
         "orientation": "v",
         "showlegend": true,
         "type": "scatter",
         "x": [
          5921700
         ],
         "xaxis": "x",
         "y": [
          124225.89
         ],
         "yaxis": "y"
        },
        {
         "hovertemplate": "<b>%{hovertext}</b><br><br>Estado=Sinaloa<br>Year=2018<br>Consumption kWhr/year=%{marker.size}<br>Radiation TWhr/year=%{y}<extra></extra>",
         "hovertext": [
          "Sinaloa"
         ],
         "ids": [
          "Sinaloa"
         ],
         "legendgroup": "Sinaloa",
         "marker": {
          "color": "#FFA15A",
          "size": [
           7127800
          ],
          "sizemode": "area",
          "sizeref": 5980.165289256199,
          "symbol": "circle"
         },
         "mode": "markers",
         "name": "Sinaloa",
         "orientation": "v",
         "showlegend": true,
         "type": "scatter",
         "x": [
          7127800
         ],
         "xaxis": "x",
         "y": [
          117886.78
         ],
         "yaxis": "y"
        },
        {
         "hovertemplate": "<b>%{hovertext}</b><br><br>Estado=Sonora<br>Year=2018<br>Consumption kWhr/year=%{marker.size}<br>Radiation TWhr/year=%{y}<extra></extra>",
         "hovertext": [
          "Sonora"
         ],
         "ids": [
          "Sonora"
         ],
         "legendgroup": "Sonora",
         "marker": {
          "color": "#19d3f3",
          "size": [
           10458400
          ],
          "sizemode": "area",
          "sizeref": 5980.165289256199,
          "symbol": "circle"
         },
         "mode": "markers",
         "name": "Sonora",
         "orientation": "v",
         "showlegend": true,
         "type": "scatter",
         "x": [
          10458400
         ],
         "xaxis": "x",
         "y": [
          363869.91
         ],
         "yaxis": "y"
        },
        {
         "hovertemplate": "<b>%{hovertext}</b><br><br>Estado=Tabasco<br>Year=2018<br>Consumption kWhr/year=%{marker.size}<br>Radiation TWhr/year=%{y}<extra></extra>",
         "hovertext": [
          "Tabasco"
         ],
         "ids": [
          "Tabasco"
         ],
         "legendgroup": "Tabasco",
         "marker": {
          "color": "#FF6692",
          "size": [
           3292500
          ],
          "sizemode": "area",
          "sizeref": 5980.165289256199,
          "symbol": "circle"
         },
         "mode": "markers",
         "name": "Tabasco",
         "orientation": "v",
         "showlegend": true,
         "type": "scatter",
         "x": [
          3292500
         ],
         "xaxis": "x",
         "y": [
          50292.63
         ],
         "yaxis": "y"
        },
        {
         "hovertemplate": "<b>%{hovertext}</b><br><br>Estado=Tamaulipas<br>Year=2018<br>Consumption kWhr/year=%{marker.size}<br>Radiation TWhr/year=%{y}<extra></extra>",
         "hovertext": [
          "Tamaulipas"
         ],
         "ids": [
          "Tamaulipas"
         ],
         "legendgroup": "Tamaulipas",
         "marker": {
          "color": "#B6E880",
          "size": [
           8941900
          ],
          "sizemode": "area",
          "sizeref": 5980.165289256199,
          "symbol": "circle"
         },
         "mode": "markers",
         "name": "Tamaulipas",
         "orientation": "v",
         "showlegend": true,
         "type": "scatter",
         "x": [
          8941900
         ],
         "xaxis": "x",
         "y": [
          161886.84
         ],
         "yaxis": "y"
        },
        {
         "hovertemplate": "<b>%{hovertext}</b><br><br>Estado=Tlaxcala<br>Year=2018<br>Consumption kWhr/year=%{marker.size}<br>Radiation TWhr/year=%{y}<extra></extra>",
         "hovertext": [
          "Tlaxcala"
         ],
         "ids": [
          "Tlaxcala"
         ],
         "legendgroup": "Tlaxcala",
         "marker": {
          "color": "#FF97FF",
          "size": [
           1774500
          ],
          "sizemode": "area",
          "sizeref": 5980.165289256199,
          "symbol": "circle"
         },
         "mode": "markers",
         "name": "Tlaxcala",
         "orientation": "v",
         "showlegend": true,
         "type": "scatter",
         "x": [
          1774500
         ],
         "xaxis": "x",
         "y": [
          8162.76
         ],
         "yaxis": "y"
        },
        {
         "hovertemplate": "<b>%{hovertext}</b><br><br>Estado=Veracruz<br>Year=2018<br>Consumption kWhr/year=%{marker.size}<br>Radiation TWhr/year=%{y}<extra></extra>",
         "hovertext": [
          "Veracruz"
         ],
         "ids": [
          "Veracruz"
         ],
         "legendgroup": "Veracruz",
         "marker": {
          "color": "#FECB52",
          "size": [
           10323400
          ],
          "sizemode": "area",
          "sizeref": 5980.165289256199,
          "symbol": "circle"
         },
         "mode": "markers",
         "name": "Veracruz",
         "orientation": "v",
         "showlegend": true,
         "type": "scatter",
         "x": [
          10323400
         ],
         "xaxis": "x",
         "y": [
          144215.24
         ],
         "yaxis": "y"
        },
        {
         "hovertemplate": "<b>%{hovertext}</b><br><br>Estado=Yucatán<br>Year=2018<br>Consumption kWhr/year=%{marker.size}<br>Radiation TWhr/year=%{y}<extra></extra>",
         "hovertext": [
          "Yucatán"
         ],
         "ids": [
          "Yucatán"
         ],
         "legendgroup": "Yucatán",
         "marker": {
          "color": "#636efa",
          "size": [
           3811500
          ],
          "sizemode": "area",
          "sizeref": 5980.165289256199,
          "symbol": "circle"
         },
         "mode": "markers",
         "name": "Yucatán",
         "orientation": "v",
         "showlegend": true,
         "type": "scatter",
         "x": [
          3811500
         ],
         "xaxis": "x",
         "y": [
          81226.88
         ],
         "yaxis": "y"
        },
        {
         "hovertemplate": "<b>%{hovertext}</b><br><br>Estado=Zacatecas<br>Year=2018<br>Consumption kWhr/year=%{marker.size}<br>Radiation TWhr/year=%{y}<extra></extra>",
         "hovertext": [
          "Zacatecas"
         ],
         "ids": [
          "Zacatecas"
         ],
         "legendgroup": "Zacatecas",
         "marker": {
          "color": "#EF553B",
          "size": [
           2120700
          ],
          "sizemode": "area",
          "sizeref": 5980.165289256199,
          "symbol": "circle"
         },
         "mode": "markers",
         "name": "Zacatecas",
         "orientation": "v",
         "showlegend": true,
         "type": "scatter",
         "x": [
          2120700
         ],
         "xaxis": "x",
         "y": [
          153097.54
         ],
         "yaxis": "y"
        }
       ],
       "frames": [
        {
         "data": [
          {
           "hovertemplate": "<b>%{hovertext}</b><br><br>Estado=Aguascalientes<br>Year=2018<br>Consumption kWhr/year=%{marker.size}<br>Radiation TWhr/year=%{y}<extra></extra>",
           "hovertext": [
            "Aguascalientes"
           ],
           "ids": [
            "Aguascalientes"
           ],
           "legendgroup": "Aguascalientes",
           "marker": {
            "color": "#636efa",
            "size": [
             2855500
            ],
            "sizemode": "area",
            "sizeref": 5980.165289256199,
            "symbol": "circle"
           },
           "mode": "markers",
           "name": "Aguascalientes",
           "orientation": "v",
           "showlegend": true,
           "type": "scatter",
           "x": [
            2855500
           ],
           "xaxis": "x",
           "y": [
            11566.22
           ],
           "yaxis": "y"
          },
          {
           "hovertemplate": "<b>%{hovertext}</b><br><br>Estado=Baja California<br>Year=2018<br>Consumption kWhr/year=%{marker.size}<br>Radiation TWhr/year=%{y}<extra></extra>",
           "hovertext": [
            "Baja California"
           ],
           "ids": [
            "Baja California"
           ],
           "legendgroup": "Baja California",
           "marker": {
            "color": "#EF553B",
            "size": [
             10823800
            ],
            "sizemode": "area",
            "sizeref": 5980.165289256199,
            "symbol": "circle"
           },
           "mode": "markers",
           "name": "Baja California",
           "orientation": "v",
           "showlegend": true,
           "type": "scatter",
           "x": [
            10823800
           ],
           "xaxis": "x",
           "y": [
            139802.77
           ],
           "yaxis": "y"
          },
          {
           "hovertemplate": "<b>%{hovertext}</b><br><br>Estado=Baja California Sur<br>Year=2018<br>Consumption kWhr/year=%{marker.size}<br>Radiation TWhr/year=%{y}<extra></extra>",
           "hovertext": [
            "Baja California Sur"
           ],
           "ids": [
            "Baja California Sur"
           ],
           "legendgroup": "Baja California Sur",
           "marker": {
            "color": "#00cc96",
            "size": [
             2561200
            ],
            "sizemode": "area",
            "sizeref": 5980.165289256199,
            "symbol": "circle"
           },
           "mode": "markers",
           "name": "Baja California Sur",
           "orientation": "v",
           "showlegend": true,
           "type": "scatter",
           "x": [
            2561200
           ],
           "xaxis": "x",
           "y": [
            148381.95
           ],
           "yaxis": "y"
          },
          {
           "hovertemplate": "<b>%{hovertext}</b><br><br>Estado=Campeche<br>Year=2018<br>Consumption kWhr/year=%{marker.size}<br>Radiation TWhr/year=%{y}<extra></extra>",
           "hovertext": [
            "Campeche"
           ],
           "ids": [
            "Campeche"
           ],
           "legendgroup": "Campeche",
           "marker": {
            "color": "#ab63fa",
            "size": [
             1315600
            ],
            "sizemode": "area",
            "sizeref": 5980.165289256199,
            "symbol": "circle"
           },
           "mode": "markers",
           "name": "Campeche",
           "orientation": "v",
           "showlegend": true,
           "type": "scatter",
           "x": [
            1315600
           ],
           "xaxis": "x",
           "y": [
            117967.63
           ],
           "yaxis": "y"
          },
          {
           "hovertemplate": "<b>%{hovertext}</b><br><br>Estado=Chiapas<br>Year=2018<br>Consumption kWhr/year=%{marker.size}<br>Radiation TWhr/year=%{y}<extra></extra>",
           "hovertext": [
            "Chiapas"
           ],
           "ids": [
            "Chiapas"
           ],
           "legendgroup": "Chiapas",
           "marker": {
            "color": "#FFA15A",
            "size": [
             3096400
            ],
            "sizemode": "area",
            "sizeref": 5980.165289256199,
            "symbol": "circle"
           },
           "mode": "markers",
           "name": "Chiapas",
           "orientation": "v",
           "showlegend": true,
           "type": "scatter",
           "x": [
            3096400
           ],
           "xaxis": "x",
           "y": [
            148325.68
           ],
           "yaxis": "y"
          },
          {
           "hovertemplate": "<b>%{hovertext}</b><br><br>Estado=Chihuahua<br>Year=2018<br>Consumption kWhr/year=%{marker.size}<br>Radiation TWhr/year=%{y}<extra></extra>",
           "hovertext": [
            "Chihuahua"
           ],
           "ids": [
            "Chihuahua"
           ],
           "legendgroup": "Chihuahua",
           "marker": {
            "color": "#19d3f3",
            "size": [
             12699400
            ],
            "sizemode": "area",
            "sizeref": 5980.165289256199,
            "symbol": "circle"
           },
           "mode": "markers",
           "name": "Chihuahua",
           "orientation": "v",
           "showlegend": true,
           "type": "scatter",
           "x": [
            12699400
           ],
           "xaxis": "x",
           "y": [
            502440.45
           ],
           "yaxis": "y"
          },
          {
           "hovertemplate": "<b>%{hovertext}</b><br><br>Estado=Coahuila<br>Year=2018<br>Consumption kWhr/year=%{marker.size}<br>Radiation TWhr/year=%{y}<extra></extra>",
           "hovertext": [
            "Coahuila"
           ],
           "ids": [
            "Coahuila"
           ],
           "legendgroup": "Coahuila",
           "marker": {
            "color": "#FF6692",
            "size": [
             10601900
            ],
            "sizemode": "area",
            "sizeref": 5980.165289256199,
            "symbol": "circle"
           },
           "mode": "markers",
           "name": "Coahuila",
           "orientation": "v",
           "showlegend": true,
           "type": "scatter",
           "x": [
            10601900
           ],
           "xaxis": "x",
           "y": [
            307139.86
           ],
           "yaxis": "y"
          },
          {
           "hovertemplate": "<b>%{hovertext}</b><br><br>Estado=Colima<br>Year=2018<br>Consumption kWhr/year=%{marker.size}<br>Radiation TWhr/year=%{y}<extra></extra>",
           "hovertext": [
            "Colima"
           ],
           "ids": [
            "Colima"
           ],
           "legendgroup": "Colima",
           "marker": {
            "color": "#B6E880",
            "size": [
             2025400
            ],
            "sizemode": "area",
            "sizeref": 5980.165289256199,
            "symbol": "circle"
           },
           "mode": "markers",
           "name": "Colima",
           "orientation": "v",
           "showlegend": true,
           "type": "scatter",
           "x": [
            2025400
           ],
           "xaxis": "x",
           "y": [
            11584.71
           ],
           "yaxis": "y"
          },
          {
           "hovertemplate": "<b>%{hovertext}</b><br><br>Estado=Distrito Federal<br>Year=2018<br>Consumption kWhr/year=%{marker.size}<br>Radiation TWhr/year=%{y}<extra></extra>",
           "hovertext": [
            "Distrito Federal"
           ],
           "ids": [
            "Distrito Federal"
           ],
           "legendgroup": "Distrito Federal",
           "marker": {
            "color": "#FF97FF",
            "size": [
             13432400
            ],
            "sizemode": "area",
            "sizeref": 5980.165289256199,
            "symbol": "circle"
           },
           "mode": "markers",
           "name": "Distrito Federal",
           "orientation": "v",
           "showlegend": true,
           "type": "scatter",
           "x": [
            13432400
           ],
           "xaxis": "x",
           "y": [
            3076.37
           ],
           "yaxis": "y"
          },
          {
           "hovertemplate": "<b>%{hovertext}</b><br><br>Estado=Durango<br>Year=2018<br>Consumption kWhr/year=%{marker.size}<br>Radiation TWhr/year=%{y}<extra></extra>",
           "hovertext": [
            "Durango"
           ],
           "ids": [
            "Durango"
           ],
           "legendgroup": "Durango",
           "marker": {
            "color": "#FECB52",
            "size": [
             3237700
            ],
            "sizemode": "area",
            "sizeref": 5980.165289256199,
            "symbol": "circle"
           },
           "mode": "markers",
           "name": "Durango",
           "orientation": "v",
           "showlegend": true,
           "type": "scatter",
           "x": [
            3237700
           ],
           "xaxis": "x",
           "y": [
            249750.34
           ],
           "yaxis": "y"
          },
          {
           "hovertemplate": "<b>%{hovertext}</b><br><br>Estado=México<br>Year=2018<br>Consumption kWhr/year=%{marker.size}<br>Radiation TWhr/year=%{y}<extra></extra>",
           "hovertext": [
            "México"
           ],
           "ids": [
            "México"
           ],
           "legendgroup": "México",
           "marker": {
            "color": "#636efa",
            "size": [
             17846900
            ],
            "sizemode": "area",
            "sizeref": 5980.165289256199,
            "symbol": "circle"
           },
           "mode": "markers",
           "name": "México",
           "orientation": "v",
           "showlegend": true,
           "type": "scatter",
           "x": [
            17846900
           ],
           "xaxis": "x",
           "y": [
            46003.27
           ],
           "yaxis": "y"
          },
          {
           "hovertemplate": "<b>%{hovertext}</b><br><br>Estado=Guanajuato<br>Year=2018<br>Consumption kWhr/year=%{marker.size}<br>Radiation TWhr/year=%{y}<extra></extra>",
           "hovertext": [
            "Guanajuato"
           ],
           "ids": [
            "Guanajuato"
           ],
           "legendgroup": "Guanajuato",
           "marker": {
            "color": "#EF553B",
            "size": [
             12003100
            ],
            "sizemode": "area",
            "sizeref": 5980.165289256199,
            "symbol": "circle"
           },
           "mode": "markers",
           "name": "Guanajuato",
           "orientation": "v",
           "showlegend": true,
           "type": "scatter",
           "x": [
            12003100
           ],
           "xaxis": "x",
           "y": [
            63149.54
           ],
           "yaxis": "y"
          },
          {
           "hovertemplate": "<b>%{hovertext}</b><br><br>Estado=Guerrero<br>Year=2018<br>Consumption kWhr/year=%{marker.size}<br>Radiation TWhr/year=%{y}<extra></extra>",
           "hovertext": [
            "Guerrero"
           ],
           "ids": [
            "Guerrero"
           ],
           "legendgroup": "Guerrero",
           "marker": {
            "color": "#00cc96",
            "size": [
             3099300
            ],
            "sizemode": "area",
            "sizeref": 5980.165289256199,
            "symbol": "circle"
           },
           "mode": "markers",
           "name": "Guerrero",
           "orientation": "v",
           "showlegend": true,
           "type": "scatter",
           "x": [
            3099300
           ],
           "xaxis": "x",
           "y": [
            129871.13
           ],
           "yaxis": "y"
          },
          {
           "hovertemplate": "<b>%{hovertext}</b><br><br>Estado=Hidalgo<br>Year=2018<br>Consumption kWhr/year=%{marker.size}<br>Radiation TWhr/year=%{y}<extra></extra>",
           "hovertext": [
            "Hidalgo"
           ],
           "ids": [
            "Hidalgo"
           ],
           "legendgroup": "Hidalgo",
           "marker": {
            "color": "#ab63fa",
            "size": [
             3913500
            ],
            "sizemode": "area",
            "sizeref": 5980.165289256199,
            "symbol": "circle"
           },
           "mode": "markers",
           "name": "Hidalgo",
           "orientation": "v",
           "showlegend": true,
           "type": "scatter",
           "x": [
            3913500
           ],
           "xaxis": "x",
           "y": [
            42813.45
           ],
           "yaxis": "y"
          },
          {
           "hovertemplate": "<b>%{hovertext}</b><br><br>Estado=Jalisco<br>Year=2018<br>Consumption kWhr/year=%{marker.size}<br>Radiation TWhr/year=%{y}<extra></extra>",
           "hovertext": [
            "Jalisco"
           ],
           "ids": [
            "Jalisco"
           ],
           "legendgroup": "Jalisco",
           "marker": {
            "color": "#FFA15A",
            "size": [
             13476200
            ],
            "sizemode": "area",
            "sizeref": 5980.165289256199,
            "symbol": "circle"
           },
           "mode": "markers",
           "name": "Jalisco",
           "orientation": "v",
           "showlegend": true,
           "type": "scatter",
           "x": [
            13476200
           ],
           "xaxis": "x",
           "y": [
            161651.71
           ],
           "yaxis": "y"
          },
          {
           "hovertemplate": "<b>%{hovertext}</b><br><br>Estado=Michoacán<br>Year=2018<br>Consumption kWhr/year=%{marker.size}<br>Radiation TWhr/year=%{y}<extra></extra>",
           "hovertext": [
            "Michoacán"
           ],
           "ids": [
            "Michoacán"
           ],
           "legendgroup": "Michoacán",
           "marker": {
            "color": "#19d3f3",
            "size": [
             7819200
            ],
            "sizemode": "area",
            "sizeref": 5980.165289256199,
            "symbol": "circle"
           },
           "mode": "markers",
           "name": "Michoacán",
           "orientation": "v",
           "showlegend": true,
           "type": "scatter",
           "x": [
            7819200
           ],
           "xaxis": "x",
           "y": [
            120653.92
           ],
           "yaxis": "y"
          },
          {
           "hovertemplate": "<b>%{hovertext}</b><br><br>Estado=Morelos<br>Year=2018<br>Consumption kWhr/year=%{marker.size}<br>Radiation TWhr/year=%{y}<extra></extra>",
           "hovertext": [
            "Morelos"
           ],
           "ids": [
            "Morelos"
           ],
           "legendgroup": "Morelos",
           "marker": {
            "color": "#FF6692",
            "size": [
             2788300
            ],
            "sizemode": "area",
            "sizeref": 5980.165289256199,
            "symbol": "circle"
           },
           "mode": "markers",
           "name": "Morelos",
           "orientation": "v",
           "showlegend": true,
           "type": "scatter",
           "x": [
            2788300
           ],
           "xaxis": "x",
           "y": [
            10053.05
           ],
           "yaxis": "y"
          },
          {
           "hovertemplate": "<b>%{hovertext}</b><br><br>Estado=Nayarit<br>Year=2018<br>Consumption kWhr/year=%{marker.size}<br>Radiation TWhr/year=%{y}<extra></extra>",
           "hovertext": [
            "Nayarit"
           ],
           "ids": [
            "Nayarit"
           ],
           "legendgroup": "Nayarit",
           "marker": {
            "color": "#B6E880",
            "size": [
             1589400
            ],
            "sizemode": "area",
            "sizeref": 5980.165289256199,
            "symbol": "circle"
           },
           "mode": "markers",
           "name": "Nayarit",
           "orientation": "v",
           "showlegend": true,
           "type": "scatter",
           "x": [
            1589400
           ],
           "xaxis": "x",
           "y": [
            56518.92
           ],
           "yaxis": "y"
          },
          {
           "hovertemplate": "<b>%{hovertext}</b><br><br>Estado=Nuevo León<br>Year=2018<br>Consumption kWhr/year=%{marker.size}<br>Radiation TWhr/year=%{y}<extra></extra>",
           "hovertext": [
            "Nuevo León"
           ],
           "ids": [
            "Nuevo León"
           ],
           "legendgroup": "Nuevo León",
           "marker": {
            "color": "#FF97FF",
            "size": [
             18090000
            ],
            "sizemode": "area",
            "sizeref": 5980.165289256199,
            "symbol": "circle"
           },
           "mode": "markers",
           "name": "Nuevo León",
           "orientation": "v",
           "showlegend": true,
           "type": "scatter",
           "x": [
            18090000
           ],
           "xaxis": "x",
           "y": [
            129899.47
           ],
           "yaxis": "y"
          },
          {
           "hovertemplate": "<b>%{hovertext}</b><br><br>Estado=Oaxaca<br>Year=2018<br>Consumption kWhr/year=%{marker.size}<br>Radiation TWhr/year=%{y}<extra></extra>",
           "hovertext": [
            "Oaxaca"
           ],
           "ids": [
            "Oaxaca"
           ],
           "legendgroup": "Oaxaca",
           "marker": {
            "color": "#FECB52",
            "size": [
             2747400
            ],
            "sizemode": "area",
            "sizeref": 5980.165289256199,
            "symbol": "circle"
           },
           "mode": "markers",
           "name": "Oaxaca",
           "orientation": "v",
           "showlegend": true,
           "type": "scatter",
           "x": [
            2747400
           ],
           "xaxis": "x",
           "y": [
            191064.18
           ],
           "yaxis": "y"
          },
          {
           "hovertemplate": "<b>%{hovertext}</b><br><br>Estado=Puebla<br>Year=2018<br>Consumption kWhr/year=%{marker.size}<br>Radiation TWhr/year=%{y}<extra></extra>",
           "hovertext": [
            "Puebla"
           ],
           "ids": [
            "Puebla"
           ],
           "legendgroup": "Puebla",
           "marker": {
            "color": "#636efa",
            "size": [
             7817000
            ],
            "sizemode": "area",
            "sizeref": 5980.165289256199,
            "symbol": "circle"
           },
           "mode": "markers",
           "name": "Puebla",
           "orientation": "v",
           "showlegend": true,
           "type": "scatter",
           "x": [
            7817000
           ],
           "xaxis": "x",
           "y": [
            70279.81
           ],
           "yaxis": "y"
          },
          {
           "hovertemplate": "<b>%{hovertext}</b><br><br>Estado=Querétaro<br>Year=2018<br>Consumption kWhr/year=%{marker.size}<br>Radiation TWhr/year=%{y}<extra></extra>",
           "hovertext": [
            "Querétaro"
           ],
           "ids": [
            "Querétaro"
           ],
           "legendgroup": "Querétaro",
           "marker": {
            "color": "#EF553B",
            "size": [
             5458800
            ],
            "sizemode": "area",
            "sizeref": 5980.165289256199,
            "symbol": "circle"
           },
           "mode": "markers",
           "name": "Querétaro",
           "orientation": "v",
           "showlegend": true,
           "type": "scatter",
           "x": [
            5458800
           ],
           "xaxis": "x",
           "y": [
            24133.57
           ],
           "yaxis": "y"
          },
          {
           "hovertemplate": "<b>%{hovertext}</b><br><br>Estado=Quintana Roo<br>Year=2018<br>Consumption kWhr/year=%{marker.size}<br>Radiation TWhr/year=%{y}<extra></extra>",
           "hovertext": [
            "Quintana Roo"
           ],
           "ids": [
            "Quintana Roo"
           ],
           "legendgroup": "Quintana Roo",
           "marker": {
            "color": "#00cc96",
            "size": [
             5012400
            ],
            "sizemode": "area",
            "sizeref": 5980.165289256199,
            "symbol": "circle"
           },
           "mode": "markers",
           "name": "Quintana Roo",
           "orientation": "v",
           "showlegend": true,
           "type": "scatter",
           "x": [
            5012400
           ],
           "xaxis": "x",
           "y": [
            90878.83
           ],
           "yaxis": "y"
          },
          {
           "hovertemplate": "<b>%{hovertext}</b><br><br>Estado=San Luis Potosí<br>Year=2018<br>Consumption kWhr/year=%{marker.size}<br>Radiation TWhr/year=%{y}<extra></extra>",
           "hovertext": [
            "San Luis Potosí"
           ],
           "ids": [
            "San Luis Potosí"
           ],
           "legendgroup": "San Luis Potosí",
           "marker": {
            "color": "#ab63fa",
            "size": [
             5921700
            ],
            "sizemode": "area",
            "sizeref": 5980.165289256199,
            "symbol": "circle"
           },
           "mode": "markers",
           "name": "San Luis Potosí",
           "orientation": "v",
           "showlegend": true,
           "type": "scatter",
           "x": [
            5921700
           ],
           "xaxis": "x",
           "y": [
            124225.89
           ],
           "yaxis": "y"
          },
          {
           "hovertemplate": "<b>%{hovertext}</b><br><br>Estado=Sinaloa<br>Year=2018<br>Consumption kWhr/year=%{marker.size}<br>Radiation TWhr/year=%{y}<extra></extra>",
           "hovertext": [
            "Sinaloa"
           ],
           "ids": [
            "Sinaloa"
           ],
           "legendgroup": "Sinaloa",
           "marker": {
            "color": "#FFA15A",
            "size": [
             7127800
            ],
            "sizemode": "area",
            "sizeref": 5980.165289256199,
            "symbol": "circle"
           },
           "mode": "markers",
           "name": "Sinaloa",
           "orientation": "v",
           "showlegend": true,
           "type": "scatter",
           "x": [
            7127800
           ],
           "xaxis": "x",
           "y": [
            117886.78
           ],
           "yaxis": "y"
          },
          {
           "hovertemplate": "<b>%{hovertext}</b><br><br>Estado=Sonora<br>Year=2018<br>Consumption kWhr/year=%{marker.size}<br>Radiation TWhr/year=%{y}<extra></extra>",
           "hovertext": [
            "Sonora"
           ],
           "ids": [
            "Sonora"
           ],
           "legendgroup": "Sonora",
           "marker": {
            "color": "#19d3f3",
            "size": [
             10458400
            ],
            "sizemode": "area",
            "sizeref": 5980.165289256199,
            "symbol": "circle"
           },
           "mode": "markers",
           "name": "Sonora",
           "orientation": "v",
           "showlegend": true,
           "type": "scatter",
           "x": [
            10458400
           ],
           "xaxis": "x",
           "y": [
            363869.91
           ],
           "yaxis": "y"
          },
          {
           "hovertemplate": "<b>%{hovertext}</b><br><br>Estado=Tabasco<br>Year=2018<br>Consumption kWhr/year=%{marker.size}<br>Radiation TWhr/year=%{y}<extra></extra>",
           "hovertext": [
            "Tabasco"
           ],
           "ids": [
            "Tabasco"
           ],
           "legendgroup": "Tabasco",
           "marker": {
            "color": "#FF6692",
            "size": [
             3292500
            ],
            "sizemode": "area",
            "sizeref": 5980.165289256199,
            "symbol": "circle"
           },
           "mode": "markers",
           "name": "Tabasco",
           "orientation": "v",
           "showlegend": true,
           "type": "scatter",
           "x": [
            3292500
           ],
           "xaxis": "x",
           "y": [
            50292.63
           ],
           "yaxis": "y"
          },
          {
           "hovertemplate": "<b>%{hovertext}</b><br><br>Estado=Tamaulipas<br>Year=2018<br>Consumption kWhr/year=%{marker.size}<br>Radiation TWhr/year=%{y}<extra></extra>",
           "hovertext": [
            "Tamaulipas"
           ],
           "ids": [
            "Tamaulipas"
           ],
           "legendgroup": "Tamaulipas",
           "marker": {
            "color": "#B6E880",
            "size": [
             8941900
            ],
            "sizemode": "area",
            "sizeref": 5980.165289256199,
            "symbol": "circle"
           },
           "mode": "markers",
           "name": "Tamaulipas",
           "orientation": "v",
           "showlegend": true,
           "type": "scatter",
           "x": [
            8941900
           ],
           "xaxis": "x",
           "y": [
            161886.84
           ],
           "yaxis": "y"
          },
          {
           "hovertemplate": "<b>%{hovertext}</b><br><br>Estado=Tlaxcala<br>Year=2018<br>Consumption kWhr/year=%{marker.size}<br>Radiation TWhr/year=%{y}<extra></extra>",
           "hovertext": [
            "Tlaxcala"
           ],
           "ids": [
            "Tlaxcala"
           ],
           "legendgroup": "Tlaxcala",
           "marker": {
            "color": "#FF97FF",
            "size": [
             1774500
            ],
            "sizemode": "area",
            "sizeref": 5980.165289256199,
            "symbol": "circle"
           },
           "mode": "markers",
           "name": "Tlaxcala",
           "orientation": "v",
           "showlegend": true,
           "type": "scatter",
           "x": [
            1774500
           ],
           "xaxis": "x",
           "y": [
            8162.76
           ],
           "yaxis": "y"
          },
          {
           "hovertemplate": "<b>%{hovertext}</b><br><br>Estado=Veracruz<br>Year=2018<br>Consumption kWhr/year=%{marker.size}<br>Radiation TWhr/year=%{y}<extra></extra>",
           "hovertext": [
            "Veracruz"
           ],
           "ids": [
            "Veracruz"
           ],
           "legendgroup": "Veracruz",
           "marker": {
            "color": "#FECB52",
            "size": [
             10323400
            ],
            "sizemode": "area",
            "sizeref": 5980.165289256199,
            "symbol": "circle"
           },
           "mode": "markers",
           "name": "Veracruz",
           "orientation": "v",
           "showlegend": true,
           "type": "scatter",
           "x": [
            10323400
           ],
           "xaxis": "x",
           "y": [
            144215.24
           ],
           "yaxis": "y"
          },
          {
           "hovertemplate": "<b>%{hovertext}</b><br><br>Estado=Yucatán<br>Year=2018<br>Consumption kWhr/year=%{marker.size}<br>Radiation TWhr/year=%{y}<extra></extra>",
           "hovertext": [
            "Yucatán"
           ],
           "ids": [
            "Yucatán"
           ],
           "legendgroup": "Yucatán",
           "marker": {
            "color": "#636efa",
            "size": [
             3811500
            ],
            "sizemode": "area",
            "sizeref": 5980.165289256199,
            "symbol": "circle"
           },
           "mode": "markers",
           "name": "Yucatán",
           "orientation": "v",
           "showlegend": true,
           "type": "scatter",
           "x": [
            3811500
           ],
           "xaxis": "x",
           "y": [
            81226.88
           ],
           "yaxis": "y"
          },
          {
           "hovertemplate": "<b>%{hovertext}</b><br><br>Estado=Zacatecas<br>Year=2018<br>Consumption kWhr/year=%{marker.size}<br>Radiation TWhr/year=%{y}<extra></extra>",
           "hovertext": [
            "Zacatecas"
           ],
           "ids": [
            "Zacatecas"
           ],
           "legendgroup": "Zacatecas",
           "marker": {
            "color": "#EF553B",
            "size": [
             2120700
            ],
            "sizemode": "area",
            "sizeref": 5980.165289256199,
            "symbol": "circle"
           },
           "mode": "markers",
           "name": "Zacatecas",
           "orientation": "v",
           "showlegend": true,
           "type": "scatter",
           "x": [
            2120700
           ],
           "xaxis": "x",
           "y": [
            153097.54
           ],
           "yaxis": "y"
          }
         ],
         "name": "2018"
        },
        {
         "data": [
          {
           "hovertemplate": "<b>%{hovertext}</b><br><br>Estado=Aguascalientes<br>Year=2019<br>Consumption kWhr/year=%{marker.size}<br>Radiation TWhr/year=%{y}<extra></extra>",
           "hovertext": [
            "Aguascalientes"
           ],
           "ids": [
            "Aguascalientes"
           ],
           "legendgroup": "Aguascalientes",
           "marker": {
            "color": "#636efa",
            "size": [
             2911300
            ],
            "sizemode": "area",
            "sizeref": 5980.165289256199,
            "symbol": "circle"
           },
           "mode": "markers",
           "name": "Aguascalientes",
           "orientation": "v",
           "showlegend": true,
           "type": "scatter",
           "x": [
            2911300
           ],
           "xaxis": "x",
           "y": [
            11566.22
           ],
           "yaxis": "y"
          },
          {
           "hovertemplate": "<b>%{hovertext}</b><br><br>Estado=Baja California<br>Year=2019<br>Consumption kWhr/year=%{marker.size}<br>Radiation TWhr/year=%{y}<extra></extra>",
           "hovertext": [
            "Baja California"
           ],
           "ids": [
            "Baja California"
           ],
           "legendgroup": "Baja California",
           "marker": {
            "color": "#EF553B",
            "size": [
             10489800
            ],
            "sizemode": "area",
            "sizeref": 5980.165289256199,
            "symbol": "circle"
           },
           "mode": "markers",
           "name": "Baja California",
           "orientation": "v",
           "showlegend": true,
           "type": "scatter",
           "x": [
            10489800
           ],
           "xaxis": "x",
           "y": [
            139802.77
           ],
           "yaxis": "y"
          },
          {
           "hovertemplate": "<b>%{hovertext}</b><br><br>Estado=Baja California Sur<br>Year=2019<br>Consumption kWhr/year=%{marker.size}<br>Radiation TWhr/year=%{y}<extra></extra>",
           "hovertext": [
            "Baja California Sur"
           ],
           "ids": [
            "Baja California Sur"
           ],
           "legendgroup": "Baja California Sur",
           "marker": {
            "color": "#00cc96",
            "size": [
             2595900
            ],
            "sizemode": "area",
            "sizeref": 5980.165289256199,
            "symbol": "circle"
           },
           "mode": "markers",
           "name": "Baja California Sur",
           "orientation": "v",
           "showlegend": true,
           "type": "scatter",
           "x": [
            2595900
           ],
           "xaxis": "x",
           "y": [
            148381.95
           ],
           "yaxis": "y"
          },
          {
           "hovertemplate": "<b>%{hovertext}</b><br><br>Estado=Campeche<br>Year=2019<br>Consumption kWhr/year=%{marker.size}<br>Radiation TWhr/year=%{y}<extra></extra>",
           "hovertext": [
            "Campeche"
           ],
           "ids": [
            "Campeche"
           ],
           "legendgroup": "Campeche",
           "marker": {
            "color": "#ab63fa",
            "size": [
             1388300
            ],
            "sizemode": "area",
            "sizeref": 5980.165289256199,
            "symbol": "circle"
           },
           "mode": "markers",
           "name": "Campeche",
           "orientation": "v",
           "showlegend": true,
           "type": "scatter",
           "x": [
            1388300
           ],
           "xaxis": "x",
           "y": [
            117967.63
           ],
           "yaxis": "y"
          },
          {
           "hovertemplate": "<b>%{hovertext}</b><br><br>Estado=Chiapas<br>Year=2019<br>Consumption kWhr/year=%{marker.size}<br>Radiation TWhr/year=%{y}<extra></extra>",
           "hovertext": [
            "Chiapas"
           ],
           "ids": [
            "Chiapas"
           ],
           "legendgroup": "Chiapas",
           "marker": {
            "color": "#FFA15A",
            "size": [
             3339700
            ],
            "sizemode": "area",
            "sizeref": 5980.165289256199,
            "symbol": "circle"
           },
           "mode": "markers",
           "name": "Chiapas",
           "orientation": "v",
           "showlegend": true,
           "type": "scatter",
           "x": [
            3339700
           ],
           "xaxis": "x",
           "y": [
            148325.68
           ],
           "yaxis": "y"
          },
          {
           "hovertemplate": "<b>%{hovertext}</b><br><br>Estado=Chihuahua<br>Year=2019<br>Consumption kWhr/year=%{marker.size}<br>Radiation TWhr/year=%{y}<extra></extra>",
           "hovertext": [
            "Chihuahua"
           ],
           "ids": [
            "Chihuahua"
           ],
           "legendgroup": "Chihuahua",
           "marker": {
            "color": "#19d3f3",
            "size": [
             12949700
            ],
            "sizemode": "area",
            "sizeref": 5980.165289256199,
            "symbol": "circle"
           },
           "mode": "markers",
           "name": "Chihuahua",
           "orientation": "v",
           "showlegend": true,
           "type": "scatter",
           "x": [
            12949700
           ],
           "xaxis": "x",
           "y": [
            502440.45
           ],
           "yaxis": "y"
          },
          {
           "hovertemplate": "<b>%{hovertext}</b><br><br>Estado=Coahuila<br>Year=2019<br>Consumption kWhr/year=%{marker.size}<br>Radiation TWhr/year=%{y}<extra></extra>",
           "hovertext": [
            "Coahuila"
           ],
           "ids": [
            "Coahuila"
           ],
           "legendgroup": "Coahuila",
           "marker": {
            "color": "#FF6692",
            "size": [
             10920200
            ],
            "sizemode": "area",
            "sizeref": 5980.165289256199,
            "symbol": "circle"
           },
           "mode": "markers",
           "name": "Coahuila",
           "orientation": "v",
           "showlegend": true,
           "type": "scatter",
           "x": [
            10920200
           ],
           "xaxis": "x",
           "y": [
            307139.86
           ],
           "yaxis": "y"
          },
          {
           "hovertemplate": "<b>%{hovertext}</b><br><br>Estado=Colima<br>Year=2019<br>Consumption kWhr/year=%{marker.size}<br>Radiation TWhr/year=%{y}<extra></extra>",
           "hovertext": [
            "Colima"
           ],
           "ids": [
            "Colima"
           ],
           "legendgroup": "Colima",
           "marker": {
            "color": "#B6E880",
            "size": [
             2058500
            ],
            "sizemode": "area",
            "sizeref": 5980.165289256199,
            "symbol": "circle"
           },
           "mode": "markers",
           "name": "Colima",
           "orientation": "v",
           "showlegend": true,
           "type": "scatter",
           "x": [
            2058500
           ],
           "xaxis": "x",
           "y": [
            11584.71
           ],
           "yaxis": "y"
          },
          {
           "hovertemplate": "<b>%{hovertext}</b><br><br>Estado=Distrito Federal<br>Year=2019<br>Consumption kWhr/year=%{marker.size}<br>Radiation TWhr/year=%{y}<extra></extra>",
           "hovertext": [
            "Distrito Federal"
           ],
           "ids": [
            "Distrito Federal"
           ],
           "legendgroup": "Distrito Federal",
           "marker": {
            "color": "#FF97FF",
            "size": [
             12910500
            ],
            "sizemode": "area",
            "sizeref": 5980.165289256199,
            "symbol": "circle"
           },
           "mode": "markers",
           "name": "Distrito Federal",
           "orientation": "v",
           "showlegend": true,
           "type": "scatter",
           "x": [
            12910500
           ],
           "xaxis": "x",
           "y": [
            3076.37
           ],
           "yaxis": "y"
          },
          {
           "hovertemplate": "<b>%{hovertext}</b><br><br>Estado=Durango<br>Year=2019<br>Consumption kWhr/year=%{marker.size}<br>Radiation TWhr/year=%{y}<extra></extra>",
           "hovertext": [
            "Durango"
           ],
           "ids": [
            "Durango"
           ],
           "legendgroup": "Durango",
           "marker": {
            "color": "#FECB52",
            "size": [
             3383100
            ],
            "sizemode": "area",
            "sizeref": 5980.165289256199,
            "symbol": "circle"
           },
           "mode": "markers",
           "name": "Durango",
           "orientation": "v",
           "showlegend": true,
           "type": "scatter",
           "x": [
            3383100
           ],
           "xaxis": "x",
           "y": [
            249750.34
           ],
           "yaxis": "y"
          },
          {
           "hovertemplate": "<b>%{hovertext}</b><br><br>Estado=México<br>Year=2019<br>Consumption kWhr/year=%{marker.size}<br>Radiation TWhr/year=%{y}<extra></extra>",
           "hovertext": [
            "México"
           ],
           "ids": [
            "México"
           ],
           "legendgroup": "México",
           "marker": {
            "color": "#636efa",
            "size": [
             17489400
            ],
            "sizemode": "area",
            "sizeref": 5980.165289256199,
            "symbol": "circle"
           },
           "mode": "markers",
           "name": "México",
           "orientation": "v",
           "showlegend": true,
           "type": "scatter",
           "x": [
            17489400
           ],
           "xaxis": "x",
           "y": [
            46003.27
           ],
           "yaxis": "y"
          },
          {
           "hovertemplate": "<b>%{hovertext}</b><br><br>Estado=Guanajuato<br>Year=2019<br>Consumption kWhr/year=%{marker.size}<br>Radiation TWhr/year=%{y}<extra></extra>",
           "hovertext": [
            "Guanajuato"
           ],
           "ids": [
            "Guanajuato"
           ],
           "legendgroup": "Guanajuato",
           "marker": {
            "color": "#EF553B",
            "size": [
             12033900
            ],
            "sizemode": "area",
            "sizeref": 5980.165289256199,
            "symbol": "circle"
           },
           "mode": "markers",
           "name": "Guanajuato",
           "orientation": "v",
           "showlegend": true,
           "type": "scatter",
           "x": [
            12033900
           ],
           "xaxis": "x",
           "y": [
            63149.54
           ],
           "yaxis": "y"
          },
          {
           "hovertemplate": "<b>%{hovertext}</b><br><br>Estado=Guerrero<br>Year=2019<br>Consumption kWhr/year=%{marker.size}<br>Radiation TWhr/year=%{y}<extra></extra>",
           "hovertext": [
            "Guerrero"
           ],
           "ids": [
            "Guerrero"
           ],
           "legendgroup": "Guerrero",
           "marker": {
            "color": "#00cc96",
            "size": [
             3177000
            ],
            "sizemode": "area",
            "sizeref": 5980.165289256199,
            "symbol": "circle"
           },
           "mode": "markers",
           "name": "Guerrero",
           "orientation": "v",
           "showlegend": true,
           "type": "scatter",
           "x": [
            3177000
           ],
           "xaxis": "x",
           "y": [
            129871.13
           ],
           "yaxis": "y"
          },
          {
           "hovertemplate": "<b>%{hovertext}</b><br><br>Estado=Hidalgo<br>Year=2019<br>Consumption kWhr/year=%{marker.size}<br>Radiation TWhr/year=%{y}<extra></extra>",
           "hovertext": [
            "Hidalgo"
           ],
           "ids": [
            "Hidalgo"
           ],
           "legendgroup": "Hidalgo",
           "marker": {
            "color": "#ab63fa",
            "size": [
             3919800
            ],
            "sizemode": "area",
            "sizeref": 5980.165289256199,
            "symbol": "circle"
           },
           "mode": "markers",
           "name": "Hidalgo",
           "orientation": "v",
           "showlegend": true,
           "type": "scatter",
           "x": [
            3919800
           ],
           "xaxis": "x",
           "y": [
            42813.45
           ],
           "yaxis": "y"
          },
          {
           "hovertemplate": "<b>%{hovertext}</b><br><br>Estado=Jalisco<br>Year=2019<br>Consumption kWhr/year=%{marker.size}<br>Radiation TWhr/year=%{y}<extra></extra>",
           "hovertext": [
            "Jalisco"
           ],
           "ids": [
            "Jalisco"
           ],
           "legendgroup": "Jalisco",
           "marker": {
            "color": "#FFA15A",
            "size": [
             13851200
            ],
            "sizemode": "area",
            "sizeref": 5980.165289256199,
            "symbol": "circle"
           },
           "mode": "markers",
           "name": "Jalisco",
           "orientation": "v",
           "showlegend": true,
           "type": "scatter",
           "x": [
            13851200
           ],
           "xaxis": "x",
           "y": [
            161651.71
           ],
           "yaxis": "y"
          },
          {
           "hovertemplate": "<b>%{hovertext}</b><br><br>Estado=Michoacán<br>Year=2019<br>Consumption kWhr/year=%{marker.size}<br>Radiation TWhr/year=%{y}<extra></extra>",
           "hovertext": [
            "Michoacán"
           ],
           "ids": [
            "Michoacán"
           ],
           "legendgroup": "Michoacán",
           "marker": {
            "color": "#19d3f3",
            "size": [
             7807700
            ],
            "sizemode": "area",
            "sizeref": 5980.165289256199,
            "symbol": "circle"
           },
           "mode": "markers",
           "name": "Michoacán",
           "orientation": "v",
           "showlegend": true,
           "type": "scatter",
           "x": [
            7807700
           ],
           "xaxis": "x",
           "y": [
            120653.92
           ],
           "yaxis": "y"
          },
          {
           "hovertemplate": "<b>%{hovertext}</b><br><br>Estado=Morelos<br>Year=2019<br>Consumption kWhr/year=%{marker.size}<br>Radiation TWhr/year=%{y}<extra></extra>",
           "hovertext": [
            "Morelos"
           ],
           "ids": [
            "Morelos"
           ],
           "legendgroup": "Morelos",
           "marker": {
            "color": "#FF6692",
            "size": [
             2553200
            ],
            "sizemode": "area",
            "sizeref": 5980.165289256199,
            "symbol": "circle"
           },
           "mode": "markers",
           "name": "Morelos",
           "orientation": "v",
           "showlegend": true,
           "type": "scatter",
           "x": [
            2553200
           ],
           "xaxis": "x",
           "y": [
            10053.05
           ],
           "yaxis": "y"
          },
          {
           "hovertemplate": "<b>%{hovertext}</b><br><br>Estado=Nayarit<br>Year=2019<br>Consumption kWhr/year=%{marker.size}<br>Radiation TWhr/year=%{y}<extra></extra>",
           "hovertext": [
            "Nayarit"
           ],
           "ids": [
            "Nayarit"
           ],
           "legendgroup": "Nayarit",
           "marker": {
            "color": "#B6E880",
            "size": [
             1656000
            ],
            "sizemode": "area",
            "sizeref": 5980.165289256199,
            "symbol": "circle"
           },
           "mode": "markers",
           "name": "Nayarit",
           "orientation": "v",
           "showlegend": true,
           "type": "scatter",
           "x": [
            1656000
           ],
           "xaxis": "x",
           "y": [
            56518.92
           ],
           "yaxis": "y"
          },
          {
           "hovertemplate": "<b>%{hovertext}</b><br><br>Estado=Nuevo León<br>Year=2019<br>Consumption kWhr/year=%{marker.size}<br>Radiation TWhr/year=%{y}<extra></extra>",
           "hovertext": [
            "Nuevo León"
           ],
           "ids": [
            "Nuevo León"
           ],
           "legendgroup": "Nuevo León",
           "marker": {
            "color": "#FF97FF",
            "size": [
             17655400
            ],
            "sizemode": "area",
            "sizeref": 5980.165289256199,
            "symbol": "circle"
           },
           "mode": "markers",
           "name": "Nuevo León",
           "orientation": "v",
           "showlegend": true,
           "type": "scatter",
           "x": [
            17655400
           ],
           "xaxis": "x",
           "y": [
            129899.47
           ],
           "yaxis": "y"
          },
          {
           "hovertemplate": "<b>%{hovertext}</b><br><br>Estado=Oaxaca<br>Year=2019<br>Consumption kWhr/year=%{marker.size}<br>Radiation TWhr/year=%{y}<extra></extra>",
           "hovertext": [
            "Oaxaca"
           ],
           "ids": [
            "Oaxaca"
           ],
           "legendgroup": "Oaxaca",
           "marker": {
            "color": "#FECB52",
            "size": [
             2900100
            ],
            "sizemode": "area",
            "sizeref": 5980.165289256199,
            "symbol": "circle"
           },
           "mode": "markers",
           "name": "Oaxaca",
           "orientation": "v",
           "showlegend": true,
           "type": "scatter",
           "x": [
            2900100
           ],
           "xaxis": "x",
           "y": [
            191064.18
           ],
           "yaxis": "y"
          },
          {
           "hovertemplate": "<b>%{hovertext}</b><br><br>Estado=Puebla<br>Year=2019<br>Consumption kWhr/year=%{marker.size}<br>Radiation TWhr/year=%{y}<extra></extra>",
           "hovertext": [
            "Puebla"
           ],
           "ids": [
            "Puebla"
           ],
           "legendgroup": "Puebla",
           "marker": {
            "color": "#636efa",
            "size": [
             7610500
            ],
            "sizemode": "area",
            "sizeref": 5980.165289256199,
            "symbol": "circle"
           },
           "mode": "markers",
           "name": "Puebla",
           "orientation": "v",
           "showlegend": true,
           "type": "scatter",
           "x": [
            7610500
           ],
           "xaxis": "x",
           "y": [
            70279.81
           ],
           "yaxis": "y"
          },
          {
           "hovertemplate": "<b>%{hovertext}</b><br><br>Estado=Querétaro<br>Year=2019<br>Consumption kWhr/year=%{marker.size}<br>Radiation TWhr/year=%{y}<extra></extra>",
           "hovertext": [
            "Querétaro"
           ],
           "ids": [
            "Querétaro"
           ],
           "legendgroup": "Querétaro",
           "marker": {
            "color": "#EF553B",
            "size": [
             5543900
            ],
            "sizemode": "area",
            "sizeref": 5980.165289256199,
            "symbol": "circle"
           },
           "mode": "markers",
           "name": "Querétaro",
           "orientation": "v",
           "showlegend": true,
           "type": "scatter",
           "x": [
            5543900
           ],
           "xaxis": "x",
           "y": [
            24133.57
           ],
           "yaxis": "y"
          },
          {
           "hovertemplate": "<b>%{hovertext}</b><br><br>Estado=Quintana Roo<br>Year=2019<br>Consumption kWhr/year=%{marker.size}<br>Radiation TWhr/year=%{y}<extra></extra>",
           "hovertext": [
            "Quintana Roo"
           ],
           "ids": [
            "Quintana Roo"
           ],
           "legendgroup": "Quintana Roo",
           "marker": {
            "color": "#00cc96",
            "size": [
             5297400
            ],
            "sizemode": "area",
            "sizeref": 5980.165289256199,
            "symbol": "circle"
           },
           "mode": "markers",
           "name": "Quintana Roo",
           "orientation": "v",
           "showlegend": true,
           "type": "scatter",
           "x": [
            5297400
           ],
           "xaxis": "x",
           "y": [
            90878.83
           ],
           "yaxis": "y"
          },
          {
           "hovertemplate": "<b>%{hovertext}</b><br><br>Estado=San Luis Potosí<br>Year=2019<br>Consumption kWhr/year=%{marker.size}<br>Radiation TWhr/year=%{y}<extra></extra>",
           "hovertext": [
            "San Luis Potosí"
           ],
           "ids": [
            "San Luis Potosí"
           ],
           "legendgroup": "San Luis Potosí",
           "marker": {
            "color": "#ab63fa",
            "size": [
             5982900
            ],
            "sizemode": "area",
            "sizeref": 5980.165289256199,
            "symbol": "circle"
           },
           "mode": "markers",
           "name": "San Luis Potosí",
           "orientation": "v",
           "showlegend": true,
           "type": "scatter",
           "x": [
            5982900
           ],
           "xaxis": "x",
           "y": [
            124225.89
           ],
           "yaxis": "y"
          },
          {
           "hovertemplate": "<b>%{hovertext}</b><br><br>Estado=Sinaloa<br>Year=2019<br>Consumption kWhr/year=%{marker.size}<br>Radiation TWhr/year=%{y}<extra></extra>",
           "hovertext": [
            "Sinaloa"
           ],
           "ids": [
            "Sinaloa"
           ],
           "legendgroup": "Sinaloa",
           "marker": {
            "color": "#FFA15A",
            "size": [
             7256100
            ],
            "sizemode": "area",
            "sizeref": 5980.165289256199,
            "symbol": "circle"
           },
           "mode": "markers",
           "name": "Sinaloa",
           "orientation": "v",
           "showlegend": true,
           "type": "scatter",
           "x": [
            7256100
           ],
           "xaxis": "x",
           "y": [
            117886.78
           ],
           "yaxis": "y"
          },
          {
           "hovertemplate": "<b>%{hovertext}</b><br><br>Estado=Sonora<br>Year=2019<br>Consumption kWhr/year=%{marker.size}<br>Radiation TWhr/year=%{y}<extra></extra>",
           "hovertext": [
            "Sonora"
           ],
           "ids": [
            "Sonora"
           ],
           "legendgroup": "Sonora",
           "marker": {
            "color": "#19d3f3",
            "size": [
             10553500
            ],
            "sizemode": "area",
            "sizeref": 5980.165289256199,
            "symbol": "circle"
           },
           "mode": "markers",
           "name": "Sonora",
           "orientation": "v",
           "showlegend": true,
           "type": "scatter",
           "x": [
            10553500
           ],
           "xaxis": "x",
           "y": [
            363869.91
           ],
           "yaxis": "y"
          },
          {
           "hovertemplate": "<b>%{hovertext}</b><br><br>Estado=Tabasco<br>Year=2019<br>Consumption kWhr/year=%{marker.size}<br>Radiation TWhr/year=%{y}<extra></extra>",
           "hovertext": [
            "Tabasco"
           ],
           "ids": [
            "Tabasco"
           ],
           "legendgroup": "Tabasco",
           "marker": {
            "color": "#FF6692",
            "size": [
             3336100
            ],
            "sizemode": "area",
            "sizeref": 5980.165289256199,
            "symbol": "circle"
           },
           "mode": "markers",
           "name": "Tabasco",
           "orientation": "v",
           "showlegend": true,
           "type": "scatter",
           "x": [
            3336100
           ],
           "xaxis": "x",
           "y": [
            50292.63
           ],
           "yaxis": "y"
          },
          {
           "hovertemplate": "<b>%{hovertext}</b><br><br>Estado=Tamaulipas<br>Year=2019<br>Consumption kWhr/year=%{marker.size}<br>Radiation TWhr/year=%{y}<extra></extra>",
           "hovertext": [
            "Tamaulipas"
           ],
           "ids": [
            "Tamaulipas"
           ],
           "legendgroup": "Tamaulipas",
           "marker": {
            "color": "#B6E880",
            "size": [
             9100700
            ],
            "sizemode": "area",
            "sizeref": 5980.165289256199,
            "symbol": "circle"
           },
           "mode": "markers",
           "name": "Tamaulipas",
           "orientation": "v",
           "showlegend": true,
           "type": "scatter",
           "x": [
            9100700
           ],
           "xaxis": "x",
           "y": [
            161886.84
           ],
           "yaxis": "y"
          },
          {
           "hovertemplate": "<b>%{hovertext}</b><br><br>Estado=Tlaxcala<br>Year=2019<br>Consumption kWhr/year=%{marker.size}<br>Radiation TWhr/year=%{y}<extra></extra>",
           "hovertext": [
            "Tlaxcala"
           ],
           "ids": [
            "Tlaxcala"
           ],
           "legendgroup": "Tlaxcala",
           "marker": {
            "color": "#FF97FF",
            "size": [
             1625400
            ],
            "sizemode": "area",
            "sizeref": 5980.165289256199,
            "symbol": "circle"
           },
           "mode": "markers",
           "name": "Tlaxcala",
           "orientation": "v",
           "showlegend": true,
           "type": "scatter",
           "x": [
            1625400
           ],
           "xaxis": "x",
           "y": [
            8162.76
           ],
           "yaxis": "y"
          },
          {
           "hovertemplate": "<b>%{hovertext}</b><br><br>Estado=Veracruz<br>Year=2019<br>Consumption kWhr/year=%{marker.size}<br>Radiation TWhr/year=%{y}<extra></extra>",
           "hovertext": [
            "Veracruz"
           ],
           "ids": [
            "Veracruz"
           ],
           "legendgroup": "Veracruz",
           "marker": {
            "color": "#FECB52",
            "size": [
             10112000
            ],
            "sizemode": "area",
            "sizeref": 5980.165289256199,
            "symbol": "circle"
           },
           "mode": "markers",
           "name": "Veracruz",
           "orientation": "v",
           "showlegend": true,
           "type": "scatter",
           "x": [
            10112000
           ],
           "xaxis": "x",
           "y": [
            144215.24
           ],
           "yaxis": "y"
          },
          {
           "hovertemplate": "<b>%{hovertext}</b><br><br>Estado=Yucatán<br>Year=2019<br>Consumption kWhr/year=%{marker.size}<br>Radiation TWhr/year=%{y}<extra></extra>",
           "hovertext": [
            "Yucatán"
           ],
           "ids": [
            "Yucatán"
           ],
           "legendgroup": "Yucatán",
           "marker": {
            "color": "#636efa",
            "size": [
             4107800
            ],
            "sizemode": "area",
            "sizeref": 5980.165289256199,
            "symbol": "circle"
           },
           "mode": "markers",
           "name": "Yucatán",
           "orientation": "v",
           "showlegend": true,
           "type": "scatter",
           "x": [
            4107800
           ],
           "xaxis": "x",
           "y": [
            81226.88
           ],
           "yaxis": "y"
          },
          {
           "hovertemplate": "<b>%{hovertext}</b><br><br>Estado=Zacatecas<br>Year=2019<br>Consumption kWhr/year=%{marker.size}<br>Radiation TWhr/year=%{y}<extra></extra>",
           "hovertext": [
            "Zacatecas"
           ],
           "ids": [
            "Zacatecas"
           ],
           "legendgroup": "Zacatecas",
           "marker": {
            "color": "#EF553B",
            "size": [
             2418600
            ],
            "sizemode": "area",
            "sizeref": 5980.165289256199,
            "symbol": "circle"
           },
           "mode": "markers",
           "name": "Zacatecas",
           "orientation": "v",
           "showlegend": true,
           "type": "scatter",
           "x": [
            2418600
           ],
           "xaxis": "x",
           "y": [
            153097.54
           ],
           "yaxis": "y"
          }
         ],
         "name": "2019"
        },
        {
         "data": [
          {
           "hovertemplate": "<b>%{hovertext}</b><br><br>Estado=Aguascalientes<br>Year=2020<br>Consumption kWhr/year=%{marker.size}<br>Radiation TWhr/year=%{y}<extra></extra>",
           "hovertext": [
            "Aguascalientes"
           ],
           "ids": [
            "Aguascalientes"
           ],
           "legendgroup": "Aguascalientes",
           "marker": {
            "color": "#636efa",
            "size": [
             1302600
            ],
            "sizemode": "area",
            "sizeref": 5980.165289256199,
            "symbol": "circle"
           },
           "mode": "markers",
           "name": "Aguascalientes",
           "orientation": "v",
           "showlegend": true,
           "type": "scatter",
           "x": [
            1302600
           ],
           "xaxis": "x",
           "y": [
            11566.22
           ],
           "yaxis": "y"
          },
          {
           "hovertemplate": "<b>%{hovertext}</b><br><br>Estado=Baja California<br>Year=2020<br>Consumption kWhr/year=%{marker.size}<br>Radiation TWhr/year=%{y}<extra></extra>",
           "hovertext": [
            "Baja California"
           ],
           "ids": [
            "Baja California"
           ],
           "legendgroup": "Baja California",
           "marker": {
            "color": "#EF553B",
            "size": [
             4469800
            ],
            "sizemode": "area",
            "sizeref": 5980.165289256199,
            "symbol": "circle"
           },
           "mode": "markers",
           "name": "Baja California",
           "orientation": "v",
           "showlegend": true,
           "type": "scatter",
           "x": [
            4469800
           ],
           "xaxis": "x",
           "y": [
            139802.77
           ],
           "yaxis": "y"
          },
          {
           "hovertemplate": "<b>%{hovertext}</b><br><br>Estado=Baja California Sur<br>Year=2020<br>Consumption kWhr/year=%{marker.size}<br>Radiation TWhr/year=%{y}<extra></extra>",
           "hovertext": [
            "Baja California Sur"
           ],
           "ids": [
            "Baja California Sur"
           ],
           "legendgroup": "Baja California Sur",
           "marker": {
            "color": "#00cc96",
            "size": [
             1010600
            ],
            "sizemode": "area",
            "sizeref": 5980.165289256199,
            "symbol": "circle"
           },
           "mode": "markers",
           "name": "Baja California Sur",
           "orientation": "v",
           "showlegend": true,
           "type": "scatter",
           "x": [
            1010600
           ],
           "xaxis": "x",
           "y": [
            148381.95
           ],
           "yaxis": "y"
          },
          {
           "hovertemplate": "<b>%{hovertext}</b><br><br>Estado=Campeche<br>Year=2020<br>Consumption kWhr/year=%{marker.size}<br>Radiation TWhr/year=%{y}<extra></extra>",
           "hovertext": [
            "Campeche"
           ],
           "ids": [
            "Campeche"
           ],
           "legendgroup": "Campeche",
           "marker": {
            "color": "#ab63fa",
            "size": [
             650000
            ],
            "sizemode": "area",
            "sizeref": 5980.165289256199,
            "symbol": "circle"
           },
           "mode": "markers",
           "name": "Campeche",
           "orientation": "v",
           "showlegend": true,
           "type": "scatter",
           "x": [
            650000
           ],
           "xaxis": "x",
           "y": [
            117967.63
           ],
           "yaxis": "y"
          },
          {
           "hovertemplate": "<b>%{hovertext}</b><br><br>Estado=Chiapas<br>Year=2020<br>Consumption kWhr/year=%{marker.size}<br>Radiation TWhr/year=%{y}<extra></extra>",
           "hovertext": [
            "Chiapas"
           ],
           "ids": [
            "Chiapas"
           ],
           "legendgroup": "Chiapas",
           "marker": {
            "color": "#FFA15A",
            "size": [
             1636100
            ],
            "sizemode": "area",
            "sizeref": 5980.165289256199,
            "symbol": "circle"
           },
           "mode": "markers",
           "name": "Chiapas",
           "orientation": "v",
           "showlegend": true,
           "type": "scatter",
           "x": [
            1636100
           ],
           "xaxis": "x",
           "y": [
            148325.68
           ],
           "yaxis": "y"
          },
          {
           "hovertemplate": "<b>%{hovertext}</b><br><br>Estado=Chihuahua<br>Year=2020<br>Consumption kWhr/year=%{marker.size}<br>Radiation TWhr/year=%{y}<extra></extra>",
           "hovertext": [
            "Chihuahua"
           ],
           "ids": [
            "Chihuahua"
           ],
           "legendgroup": "Chihuahua",
           "marker": {
            "color": "#19d3f3",
            "size": [
             6113600
            ],
            "sizemode": "area",
            "sizeref": 5980.165289256199,
            "symbol": "circle"
           },
           "mode": "markers",
           "name": "Chihuahua",
           "orientation": "v",
           "showlegend": true,
           "type": "scatter",
           "x": [
            6113600
           ],
           "xaxis": "x",
           "y": [
            502440.45
           ],
           "yaxis": "y"
          },
          {
           "hovertemplate": "<b>%{hovertext}</b><br><br>Estado=Coahuila<br>Year=2020<br>Consumption kWhr/year=%{marker.size}<br>Radiation TWhr/year=%{y}<extra></extra>",
           "hovertext": [
            "Coahuila"
           ],
           "ids": [
            "Coahuila"
           ],
           "legendgroup": "Coahuila",
           "marker": {
            "color": "#FF6692",
            "size": [
             4512500
            ],
            "sizemode": "area",
            "sizeref": 5980.165289256199,
            "symbol": "circle"
           },
           "mode": "markers",
           "name": "Coahuila",
           "orientation": "v",
           "showlegend": true,
           "type": "scatter",
           "x": [
            4512500
           ],
           "xaxis": "x",
           "y": [
            307139.86
           ],
           "yaxis": "y"
          },
          {
           "hovertemplate": "<b>%{hovertext}</b><br><br>Estado=Colima<br>Year=2020<br>Consumption kWhr/year=%{marker.size}<br>Radiation TWhr/year=%{y}<extra></extra>",
           "hovertext": [
            "Colima"
           ],
           "ids": [
            "Colima"
           ],
           "legendgroup": "Colima",
           "marker": {
            "color": "#B6E880",
            "size": [
             1021500
            ],
            "sizemode": "area",
            "sizeref": 5980.165289256199,
            "symbol": "circle"
           },
           "mode": "markers",
           "name": "Colima",
           "orientation": "v",
           "showlegend": true,
           "type": "scatter",
           "x": [
            1021500
           ],
           "xaxis": "x",
           "y": [
            11584.71
           ],
           "yaxis": "y"
          },
          {
           "hovertemplate": "<b>%{hovertext}</b><br><br>Estado=Distrito Federal<br>Year=2020<br>Consumption kWhr/year=%{marker.size}<br>Radiation TWhr/year=%{y}<extra></extra>",
           "hovertext": [
            "Distrito Federal"
           ],
           "ids": [
            "Distrito Federal"
           ],
           "legendgroup": "Distrito Federal",
           "marker": {
            "color": "#FF97FF",
            "size": [
             5860300
            ],
            "sizemode": "area",
            "sizeref": 5980.165289256199,
            "symbol": "circle"
           },
           "mode": "markers",
           "name": "Distrito Federal",
           "orientation": "v",
           "showlegend": true,
           "type": "scatter",
           "x": [
            5860300
           ],
           "xaxis": "x",
           "y": [
            3076.37
           ],
           "yaxis": "y"
          },
          {
           "hovertemplate": "<b>%{hovertext}</b><br><br>Estado=Durango<br>Year=2020<br>Consumption kWhr/year=%{marker.size}<br>Radiation TWhr/year=%{y}<extra></extra>",
           "hovertext": [
            "Durango"
           ],
           "ids": [
            "Durango"
           ],
           "legendgroup": "Durango",
           "marker": {
            "color": "#FECB52",
            "size": [
             1572400
            ],
            "sizemode": "area",
            "sizeref": 5980.165289256199,
            "symbol": "circle"
           },
           "mode": "markers",
           "name": "Durango",
           "orientation": "v",
           "showlegend": true,
           "type": "scatter",
           "x": [
            1572400
           ],
           "xaxis": "x",
           "y": [
            249750.34
           ],
           "yaxis": "y"
          },
          {
           "hovertemplate": "<b>%{hovertext}</b><br><br>Estado=México<br>Year=2020<br>Consumption kWhr/year=%{marker.size}<br>Radiation TWhr/year=%{y}<extra></extra>",
           "hovertext": [
            "México"
           ],
           "ids": [
            "México"
           ],
           "legendgroup": "México",
           "marker": {
            "color": "#636efa",
            "size": [
             7936100
            ],
            "sizemode": "area",
            "sizeref": 5980.165289256199,
            "symbol": "circle"
           },
           "mode": "markers",
           "name": "México",
           "orientation": "v",
           "showlegend": true,
           "type": "scatter",
           "x": [
            7936100
           ],
           "xaxis": "x",
           "y": [
            46003.27
           ],
           "yaxis": "y"
          },
          {
           "hovertemplate": "<b>%{hovertext}</b><br><br>Estado=Guanajuato<br>Year=2020<br>Consumption kWhr/year=%{marker.size}<br>Radiation TWhr/year=%{y}<extra></extra>",
           "hovertext": [
            "Guanajuato"
           ],
           "ids": [
            "Guanajuato"
           ],
           "legendgroup": "Guanajuato",
           "marker": {
            "color": "#EF553B",
            "size": [
             5754400
            ],
            "sizemode": "area",
            "sizeref": 5980.165289256199,
            "symbol": "circle"
           },
           "mode": "markers",
           "name": "Guanajuato",
           "orientation": "v",
           "showlegend": true,
           "type": "scatter",
           "x": [
            5754400
           ],
           "xaxis": "x",
           "y": [
            63149.54
           ],
           "yaxis": "y"
          },
          {
           "hovertemplate": "<b>%{hovertext}</b><br><br>Estado=Guerrero<br>Year=2020<br>Consumption kWhr/year=%{marker.size}<br>Radiation TWhr/year=%{y}<extra></extra>",
           "hovertext": [
            "Guerrero"
           ],
           "ids": [
            "Guerrero"
           ],
           "legendgroup": "Guerrero",
           "marker": {
            "color": "#00cc96",
            "size": [
             1553100
            ],
            "sizemode": "area",
            "sizeref": 5980.165289256199,
            "symbol": "circle"
           },
           "mode": "markers",
           "name": "Guerrero",
           "orientation": "v",
           "showlegend": true,
           "type": "scatter",
           "x": [
            1553100
           ],
           "xaxis": "x",
           "y": [
            129871.13
           ],
           "yaxis": "y"
          },
          {
           "hovertemplate": "<b>%{hovertext}</b><br><br>Estado=Hidalgo<br>Year=2020<br>Consumption kWhr/year=%{marker.size}<br>Radiation TWhr/year=%{y}<extra></extra>",
           "hovertext": [
            "Hidalgo"
           ],
           "ids": [
            "Hidalgo"
           ],
           "legendgroup": "Hidalgo",
           "marker": {
            "color": "#ab63fa",
            "size": [
             1904700
            ],
            "sizemode": "area",
            "sizeref": 5980.165289256199,
            "symbol": "circle"
           },
           "mode": "markers",
           "name": "Hidalgo",
           "orientation": "v",
           "showlegend": true,
           "type": "scatter",
           "x": [
            1904700
           ],
           "xaxis": "x",
           "y": [
            42813.45
           ],
           "yaxis": "y"
          },
          {
           "hovertemplate": "<b>%{hovertext}</b><br><br>Estado=Jalisco<br>Year=2020<br>Consumption kWhr/year=%{marker.size}<br>Radiation TWhr/year=%{y}<extra></extra>",
           "hovertext": [
            "Jalisco"
           ],
           "ids": [
            "Jalisco"
           ],
           "legendgroup": "Jalisco",
           "marker": {
            "color": "#FFA15A",
            "size": [
             6502600
            ],
            "sizemode": "area",
            "sizeref": 5980.165289256199,
            "symbol": "circle"
           },
           "mode": "markers",
           "name": "Jalisco",
           "orientation": "v",
           "showlegend": true,
           "type": "scatter",
           "x": [
            6502600
           ],
           "xaxis": "x",
           "y": [
            161651.71
           ],
           "yaxis": "y"
          },
          {
           "hovertemplate": "<b>%{hovertext}</b><br><br>Estado=Michoacán<br>Year=2020<br>Consumption kWhr/year=%{marker.size}<br>Radiation TWhr/year=%{y}<extra></extra>",
           "hovertext": [
            "Michoacán"
           ],
           "ids": [
            "Michoacán"
           ],
           "legendgroup": "Michoacán",
           "marker": {
            "color": "#19d3f3",
            "size": [
             3692000
            ],
            "sizemode": "area",
            "sizeref": 5980.165289256199,
            "symbol": "circle"
           },
           "mode": "markers",
           "name": "Michoacán",
           "orientation": "v",
           "showlegend": true,
           "type": "scatter",
           "x": [
            3692000
           ],
           "xaxis": "x",
           "y": [
            120653.92
           ],
           "yaxis": "y"
          },
          {
           "hovertemplate": "<b>%{hovertext}</b><br><br>Estado=Morelos<br>Year=2020<br>Consumption kWhr/year=%{marker.size}<br>Radiation TWhr/year=%{y}<extra></extra>",
           "hovertext": [
            "Morelos"
           ],
           "ids": [
            "Morelos"
           ],
           "legendgroup": "Morelos",
           "marker": {
            "color": "#FF6692",
            "size": [
             1221400
            ],
            "sizemode": "area",
            "sizeref": 5980.165289256199,
            "symbol": "circle"
           },
           "mode": "markers",
           "name": "Morelos",
           "orientation": "v",
           "showlegend": true,
           "type": "scatter",
           "x": [
            1221400
           ],
           "xaxis": "x",
           "y": [
            10053.05
           ],
           "yaxis": "y"
          },
          {
           "hovertemplate": "<b>%{hovertext}</b><br><br>Estado=Nayarit<br>Year=2020<br>Consumption kWhr/year=%{marker.size}<br>Radiation TWhr/year=%{y}<extra></extra>",
           "hovertext": [
            "Nayarit"
           ],
           "ids": [
            "Nayarit"
           ],
           "legendgroup": "Nayarit",
           "marker": {
            "color": "#B6E880",
            "size": [
             725100
            ],
            "sizemode": "area",
            "sizeref": 5980.165289256199,
            "symbol": "circle"
           },
           "mode": "markers",
           "name": "Nayarit",
           "orientation": "v",
           "showlegend": true,
           "type": "scatter",
           "x": [
            725100
           ],
           "xaxis": "x",
           "y": [
            56518.92
           ],
           "yaxis": "y"
          },
          {
           "hovertemplate": "<b>%{hovertext}</b><br><br>Estado=Nuevo León<br>Year=2020<br>Consumption kWhr/year=%{marker.size}<br>Radiation TWhr/year=%{y}<extra></extra>",
           "hovertext": [
            "Nuevo León"
           ],
           "ids": [
            "Nuevo León"
           ],
           "legendgroup": "Nuevo León",
           "marker": {
            "color": "#FF97FF",
            "size": [
             7246900
            ],
            "sizemode": "area",
            "sizeref": 5980.165289256199,
            "symbol": "circle"
           },
           "mode": "markers",
           "name": "Nuevo León",
           "orientation": "v",
           "showlegend": true,
           "type": "scatter",
           "x": [
            7246900
           ],
           "xaxis": "x",
           "y": [
            129899.47
           ],
           "yaxis": "y"
          },
          {
           "hovertemplate": "<b>%{hovertext}</b><br><br>Estado=Oaxaca<br>Year=2020<br>Consumption kWhr/year=%{marker.size}<br>Radiation TWhr/year=%{y}<extra></extra>",
           "hovertext": [
            "Oaxaca"
           ],
           "ids": [
            "Oaxaca"
           ],
           "legendgroup": "Oaxaca",
           "marker": {
            "color": "#FECB52",
            "size": [
             1434600
            ],
            "sizemode": "area",
            "sizeref": 5980.165289256199,
            "symbol": "circle"
           },
           "mode": "markers",
           "name": "Oaxaca",
           "orientation": "v",
           "showlegend": true,
           "type": "scatter",
           "x": [
            1434600
           ],
           "xaxis": "x",
           "y": [
            191064.18
           ],
           "yaxis": "y"
          },
          {
           "hovertemplate": "<b>%{hovertext}</b><br><br>Estado=Puebla<br>Year=2020<br>Consumption kWhr/year=%{marker.size}<br>Radiation TWhr/year=%{y}<extra></extra>",
           "hovertext": [
            "Puebla"
           ],
           "ids": [
            "Puebla"
           ],
           "legendgroup": "Puebla",
           "marker": {
            "color": "#636efa",
            "size": [
             3460500
            ],
            "sizemode": "area",
            "sizeref": 5980.165289256199,
            "symbol": "circle"
           },
           "mode": "markers",
           "name": "Puebla",
           "orientation": "v",
           "showlegend": true,
           "type": "scatter",
           "x": [
            3460500
           ],
           "xaxis": "x",
           "y": [
            70279.81
           ],
           "yaxis": "y"
          },
          {
           "hovertemplate": "<b>%{hovertext}</b><br><br>Estado=Querétaro<br>Year=2020<br>Consumption kWhr/year=%{marker.size}<br>Radiation TWhr/year=%{y}<extra></extra>",
           "hovertext": [
            "Querétaro"
           ],
           "ids": [
            "Querétaro"
           ],
           "legendgroup": "Querétaro",
           "marker": {
            "color": "#EF553B",
            "size": [
             2391200
            ],
            "sizemode": "area",
            "sizeref": 5980.165289256199,
            "symbol": "circle"
           },
           "mode": "markers",
           "name": "Querétaro",
           "orientation": "v",
           "showlegend": true,
           "type": "scatter",
           "x": [
            2391200
           ],
           "xaxis": "x",
           "y": [
            24133.57
           ],
           "yaxis": "y"
          },
          {
           "hovertemplate": "<b>%{hovertext}</b><br><br>Estado=Quintana Roo<br>Year=2020<br>Consumption kWhr/year=%{marker.size}<br>Radiation TWhr/year=%{y}<extra></extra>",
           "hovertext": [
            "Quintana Roo"
           ],
           "ids": [
            "Quintana Roo"
           ],
           "legendgroup": "Quintana Roo",
           "marker": {
            "color": "#00cc96",
            "size": [
             2121300
            ],
            "sizemode": "area",
            "sizeref": 5980.165289256199,
            "symbol": "circle"
           },
           "mode": "markers",
           "name": "Quintana Roo",
           "orientation": "v",
           "showlegend": true,
           "type": "scatter",
           "x": [
            2121300
           ],
           "xaxis": "x",
           "y": [
            90878.83
           ],
           "yaxis": "y"
          },
          {
           "hovertemplate": "<b>%{hovertext}</b><br><br>Estado=San Luis Potosí<br>Year=2020<br>Consumption kWhr/year=%{marker.size}<br>Radiation TWhr/year=%{y}<extra></extra>",
           "hovertext": [
            "San Luis Potosí"
           ],
           "ids": [
            "San Luis Potosí"
           ],
           "legendgroup": "San Luis Potosí",
           "marker": {
            "color": "#ab63fa",
            "size": [
             2771200
            ],
            "sizemode": "area",
            "sizeref": 5980.165289256199,
            "symbol": "circle"
           },
           "mode": "markers",
           "name": "San Luis Potosí",
           "orientation": "v",
           "showlegend": true,
           "type": "scatter",
           "x": [
            2771200
           ],
           "xaxis": "x",
           "y": [
            124225.89
           ],
           "yaxis": "y"
          },
          {
           "hovertemplate": "<b>%{hovertext}</b><br><br>Estado=Sinaloa<br>Year=2020<br>Consumption kWhr/year=%{marker.size}<br>Radiation TWhr/year=%{y}<extra></extra>",
           "hovertext": [
            "Sinaloa"
           ],
           "ids": [
            "Sinaloa"
           ],
           "legendgroup": "Sinaloa",
           "marker": {
            "color": "#FFA15A",
            "size": [
             2603500
            ],
            "sizemode": "area",
            "sizeref": 5980.165289256199,
            "symbol": "circle"
           },
           "mode": "markers",
           "name": "Sinaloa",
           "orientation": "v",
           "showlegend": true,
           "type": "scatter",
           "x": [
            2603500
           ],
           "xaxis": "x",
           "y": [
            117886.78
           ],
           "yaxis": "y"
          },
          {
           "hovertemplate": "<b>%{hovertext}</b><br><br>Estado=Sonora<br>Year=2020<br>Consumption kWhr/year=%{marker.size}<br>Radiation TWhr/year=%{y}<extra></extra>",
           "hovertext": [
            "Sonora"
           ],
           "ids": [
            "Sonora"
           ],
           "legendgroup": "Sonora",
           "marker": {
            "color": "#19d3f3",
            "size": [
             3988700
            ],
            "sizemode": "area",
            "sizeref": 5980.165289256199,
            "symbol": "circle"
           },
           "mode": "markers",
           "name": "Sonora",
           "orientation": "v",
           "showlegend": true,
           "type": "scatter",
           "x": [
            3988700
           ],
           "xaxis": "x",
           "y": [
            363869.91
           ],
           "yaxis": "y"
          },
          {
           "hovertemplate": "<b>%{hovertext}</b><br><br>Estado=Tabasco<br>Year=2020<br>Consumption kWhr/year=%{marker.size}<br>Radiation TWhr/year=%{y}<extra></extra>",
           "hovertext": [
            "Tabasco"
           ],
           "ids": [
            "Tabasco"
           ],
           "legendgroup": "Tabasco",
           "marker": {
            "color": "#FF6692",
            "size": [
             1601200
            ],
            "sizemode": "area",
            "sizeref": 5980.165289256199,
            "symbol": "circle"
           },
           "mode": "markers",
           "name": "Tabasco",
           "orientation": "v",
           "showlegend": true,
           "type": "scatter",
           "x": [
            1601200
           ],
           "xaxis": "x",
           "y": [
            50292.63
           ],
           "yaxis": "y"
          },
          {
           "hovertemplate": "<b>%{hovertext}</b><br><br>Estado=Tamaulipas<br>Year=2020<br>Consumption kWhr/year=%{marker.size}<br>Radiation TWhr/year=%{y}<extra></extra>",
           "hovertext": [
            "Tamaulipas"
           ],
           "ids": [
            "Tamaulipas"
           ],
           "legendgroup": "Tamaulipas",
           "marker": {
            "color": "#B6E880",
            "size": [
             3752900
            ],
            "sizemode": "area",
            "sizeref": 5980.165289256199,
            "symbol": "circle"
           },
           "mode": "markers",
           "name": "Tamaulipas",
           "orientation": "v",
           "showlegend": true,
           "type": "scatter",
           "x": [
            3752900
           ],
           "xaxis": "x",
           "y": [
            161886.84
           ],
           "yaxis": "y"
          },
          {
           "hovertemplate": "<b>%{hovertext}</b><br><br>Estado=Tlaxcala<br>Year=2020<br>Consumption kWhr/year=%{marker.size}<br>Radiation TWhr/year=%{y}<extra></extra>",
           "hovertext": [
            "Tlaxcala"
           ],
           "ids": [
            "Tlaxcala"
           ],
           "legendgroup": "Tlaxcala",
           "marker": {
            "color": "#FF97FF",
            "size": [
             729400
            ],
            "sizemode": "area",
            "sizeref": 5980.165289256199,
            "symbol": "circle"
           },
           "mode": "markers",
           "name": "Tlaxcala",
           "orientation": "v",
           "showlegend": true,
           "type": "scatter",
           "x": [
            729400
           ],
           "xaxis": "x",
           "y": [
            8162.76
           ],
           "yaxis": "y"
          },
          {
           "hovertemplate": "<b>%{hovertext}</b><br><br>Estado=Veracruz<br>Year=2020<br>Consumption kWhr/year=%{marker.size}<br>Radiation TWhr/year=%{y}<extra></extra>",
           "hovertext": [
            "Veracruz"
           ],
           "ids": [
            "Veracruz"
           ],
           "legendgroup": "Veracruz",
           "marker": {
            "color": "#FECB52",
            "size": [
             4527600
            ],
            "sizemode": "area",
            "sizeref": 5980.165289256199,
            "symbol": "circle"
           },
           "mode": "markers",
           "name": "Veracruz",
           "orientation": "v",
           "showlegend": true,
           "type": "scatter",
           "x": [
            4527600
           ],
           "xaxis": "x",
           "y": [
            144215.24
           ],
           "yaxis": "y"
          },
          {
           "hovertemplate": "<b>%{hovertext}</b><br><br>Estado=Yucatán<br>Year=2020<br>Consumption kWhr/year=%{marker.size}<br>Radiation TWhr/year=%{y}<extra></extra>",
           "hovertext": [
            "Yucatán"
           ],
           "ids": [
            "Yucatán"
           ],
           "legendgroup": "Yucatán",
           "marker": {
            "color": "#636efa",
            "size": [
             1855000
            ],
            "sizemode": "area",
            "sizeref": 5980.165289256199,
            "symbol": "circle"
           },
           "mode": "markers",
           "name": "Yucatán",
           "orientation": "v",
           "showlegend": true,
           "type": "scatter",
           "x": [
            1855000
           ],
           "xaxis": "x",
           "y": [
            81226.88
           ],
           "yaxis": "y"
          },
          {
           "hovertemplate": "<b>%{hovertext}</b><br><br>Estado=Zacatecas<br>Year=2020<br>Consumption kWhr/year=%{marker.size}<br>Radiation TWhr/year=%{y}<extra></extra>",
           "hovertext": [
            "Zacatecas"
           ],
           "ids": [
            "Zacatecas"
           ],
           "legendgroup": "Zacatecas",
           "marker": {
            "color": "#EF553B",
            "size": [
             1184900
            ],
            "sizemode": "area",
            "sizeref": 5980.165289256199,
            "symbol": "circle"
           },
           "mode": "markers",
           "name": "Zacatecas",
           "orientation": "v",
           "showlegend": true,
           "type": "scatter",
           "x": [
            1184900
           ],
           "xaxis": "x",
           "y": [
            153097.54
           ],
           "yaxis": "y"
          }
         ],
         "name": "2020"
        }
       ],
       "layout": {
        "legend": {
         "itemsizing": "constant",
         "title": {
          "text": "Estado"
         },
         "tracegroupgap": 0
        },
        "margin": {
         "t": 60
        },
        "sliders": [
         {
          "active": 0,
          "currentvalue": {
           "prefix": "Year="
          },
          "len": 0.9,
          "pad": {
           "b": 10,
           "t": 60
          },
          "steps": [
           {
            "args": [
             [
              "2018"
             ],
             {
              "frame": {
               "duration": 0,
               "redraw": false
              },
              "fromcurrent": true,
              "mode": "immediate",
              "transition": {
               "duration": 0,
               "easing": "linear"
              }
             }
            ],
            "label": "2018",
            "method": "animate"
           },
           {
            "args": [
             [
              "2019"
             ],
             {
              "frame": {
               "duration": 0,
               "redraw": false
              },
              "fromcurrent": true,
              "mode": "immediate",
              "transition": {
               "duration": 0,
               "easing": "linear"
              }
             }
            ],
            "label": "2019",
            "method": "animate"
           },
           {
            "args": [
             [
              "2020"
             ],
             {
              "frame": {
               "duration": 0,
               "redraw": false
              },
              "fromcurrent": true,
              "mode": "immediate",
              "transition": {
               "duration": 0,
               "easing": "linear"
              }
             }
            ],
            "label": "2020",
            "method": "animate"
           }
          ],
          "x": 0.1,
          "xanchor": "left",
          "y": 0,
          "yanchor": "top"
         }
        ],
        "template": {
         "data": {
          "bar": [
           {
            "error_x": {
             "color": "#2a3f5f"
            },
            "error_y": {
             "color": "#2a3f5f"
            },
            "marker": {
             "line": {
              "color": "#E5ECF6",
              "width": 0.5
             },
             "pattern": {
              "fillmode": "overlay",
              "size": 10,
              "solidity": 0.2
             }
            },
            "type": "bar"
           }
          ],
          "barpolar": [
           {
            "marker": {
             "line": {
              "color": "#E5ECF6",
              "width": 0.5
             },
             "pattern": {
              "fillmode": "overlay",
              "size": 10,
              "solidity": 0.2
             }
            },
            "type": "barpolar"
           }
          ],
          "carpet": [
           {
            "aaxis": {
             "endlinecolor": "#2a3f5f",
             "gridcolor": "white",
             "linecolor": "white",
             "minorgridcolor": "white",
             "startlinecolor": "#2a3f5f"
            },
            "baxis": {
             "endlinecolor": "#2a3f5f",
             "gridcolor": "white",
             "linecolor": "white",
             "minorgridcolor": "white",
             "startlinecolor": "#2a3f5f"
            },
            "type": "carpet"
           }
          ],
          "choropleth": [
           {
            "colorbar": {
             "outlinewidth": 0,
             "ticks": ""
            },
            "type": "choropleth"
           }
          ],
          "contour": [
           {
            "colorbar": {
             "outlinewidth": 0,
             "ticks": ""
            },
            "colorscale": [
             [
              0,
              "#0d0887"
             ],
             [
              0.1111111111111111,
              "#46039f"
             ],
             [
              0.2222222222222222,
              "#7201a8"
             ],
             [
              0.3333333333333333,
              "#9c179e"
             ],
             [
              0.4444444444444444,
              "#bd3786"
             ],
             [
              0.5555555555555556,
              "#d8576b"
             ],
             [
              0.6666666666666666,
              "#ed7953"
             ],
             [
              0.7777777777777778,
              "#fb9f3a"
             ],
             [
              0.8888888888888888,
              "#fdca26"
             ],
             [
              1,
              "#f0f921"
             ]
            ],
            "type": "contour"
           }
          ],
          "contourcarpet": [
           {
            "colorbar": {
             "outlinewidth": 0,
             "ticks": ""
            },
            "type": "contourcarpet"
           }
          ],
          "heatmap": [
           {
            "colorbar": {
             "outlinewidth": 0,
             "ticks": ""
            },
            "colorscale": [
             [
              0,
              "#0d0887"
             ],
             [
              0.1111111111111111,
              "#46039f"
             ],
             [
              0.2222222222222222,
              "#7201a8"
             ],
             [
              0.3333333333333333,
              "#9c179e"
             ],
             [
              0.4444444444444444,
              "#bd3786"
             ],
             [
              0.5555555555555556,
              "#d8576b"
             ],
             [
              0.6666666666666666,
              "#ed7953"
             ],
             [
              0.7777777777777778,
              "#fb9f3a"
             ],
             [
              0.8888888888888888,
              "#fdca26"
             ],
             [
              1,
              "#f0f921"
             ]
            ],
            "type": "heatmap"
           }
          ],
          "heatmapgl": [
           {
            "colorbar": {
             "outlinewidth": 0,
             "ticks": ""
            },
            "colorscale": [
             [
              0,
              "#0d0887"
             ],
             [
              0.1111111111111111,
              "#46039f"
             ],
             [
              0.2222222222222222,
              "#7201a8"
             ],
             [
              0.3333333333333333,
              "#9c179e"
             ],
             [
              0.4444444444444444,
              "#bd3786"
             ],
             [
              0.5555555555555556,
              "#d8576b"
             ],
             [
              0.6666666666666666,
              "#ed7953"
             ],
             [
              0.7777777777777778,
              "#fb9f3a"
             ],
             [
              0.8888888888888888,
              "#fdca26"
             ],
             [
              1,
              "#f0f921"
             ]
            ],
            "type": "heatmapgl"
           }
          ],
          "histogram": [
           {
            "marker": {
             "pattern": {
              "fillmode": "overlay",
              "size": 10,
              "solidity": 0.2
             }
            },
            "type": "histogram"
           }
          ],
          "histogram2d": [
           {
            "colorbar": {
             "outlinewidth": 0,
             "ticks": ""
            },
            "colorscale": [
             [
              0,
              "#0d0887"
             ],
             [
              0.1111111111111111,
              "#46039f"
             ],
             [
              0.2222222222222222,
              "#7201a8"
             ],
             [
              0.3333333333333333,
              "#9c179e"
             ],
             [
              0.4444444444444444,
              "#bd3786"
             ],
             [
              0.5555555555555556,
              "#d8576b"
             ],
             [
              0.6666666666666666,
              "#ed7953"
             ],
             [
              0.7777777777777778,
              "#fb9f3a"
             ],
             [
              0.8888888888888888,
              "#fdca26"
             ],
             [
              1,
              "#f0f921"
             ]
            ],
            "type": "histogram2d"
           }
          ],
          "histogram2dcontour": [
           {
            "colorbar": {
             "outlinewidth": 0,
             "ticks": ""
            },
            "colorscale": [
             [
              0,
              "#0d0887"
             ],
             [
              0.1111111111111111,
              "#46039f"
             ],
             [
              0.2222222222222222,
              "#7201a8"
             ],
             [
              0.3333333333333333,
              "#9c179e"
             ],
             [
              0.4444444444444444,
              "#bd3786"
             ],
             [
              0.5555555555555556,
              "#d8576b"
             ],
             [
              0.6666666666666666,
              "#ed7953"
             ],
             [
              0.7777777777777778,
              "#fb9f3a"
             ],
             [
              0.8888888888888888,
              "#fdca26"
             ],
             [
              1,
              "#f0f921"
             ]
            ],
            "type": "histogram2dcontour"
           }
          ],
          "mesh3d": [
           {
            "colorbar": {
             "outlinewidth": 0,
             "ticks": ""
            },
            "type": "mesh3d"
           }
          ],
          "parcoords": [
           {
            "line": {
             "colorbar": {
              "outlinewidth": 0,
              "ticks": ""
             }
            },
            "type": "parcoords"
           }
          ],
          "pie": [
           {
            "automargin": true,
            "type": "pie"
           }
          ],
          "scatter": [
           {
            "marker": {
             "colorbar": {
              "outlinewidth": 0,
              "ticks": ""
             }
            },
            "type": "scatter"
           }
          ],
          "scatter3d": [
           {
            "line": {
             "colorbar": {
              "outlinewidth": 0,
              "ticks": ""
             }
            },
            "marker": {
             "colorbar": {
              "outlinewidth": 0,
              "ticks": ""
             }
            },
            "type": "scatter3d"
           }
          ],
          "scattercarpet": [
           {
            "marker": {
             "colorbar": {
              "outlinewidth": 0,
              "ticks": ""
             }
            },
            "type": "scattercarpet"
           }
          ],
          "scattergeo": [
           {
            "marker": {
             "colorbar": {
              "outlinewidth": 0,
              "ticks": ""
             }
            },
            "type": "scattergeo"
           }
          ],
          "scattergl": [
           {
            "marker": {
             "colorbar": {
              "outlinewidth": 0,
              "ticks": ""
             }
            },
            "type": "scattergl"
           }
          ],
          "scattermapbox": [
           {
            "marker": {
             "colorbar": {
              "outlinewidth": 0,
              "ticks": ""
             }
            },
            "type": "scattermapbox"
           }
          ],
          "scatterpolar": [
           {
            "marker": {
             "colorbar": {
              "outlinewidth": 0,
              "ticks": ""
             }
            },
            "type": "scatterpolar"
           }
          ],
          "scatterpolargl": [
           {
            "marker": {
             "colorbar": {
              "outlinewidth": 0,
              "ticks": ""
             }
            },
            "type": "scatterpolargl"
           }
          ],
          "scatterternary": [
           {
            "marker": {
             "colorbar": {
              "outlinewidth": 0,
              "ticks": ""
             }
            },
            "type": "scatterternary"
           }
          ],
          "surface": [
           {
            "colorbar": {
             "outlinewidth": 0,
             "ticks": ""
            },
            "colorscale": [
             [
              0,
              "#0d0887"
             ],
             [
              0.1111111111111111,
              "#46039f"
             ],
             [
              0.2222222222222222,
              "#7201a8"
             ],
             [
              0.3333333333333333,
              "#9c179e"
             ],
             [
              0.4444444444444444,
              "#bd3786"
             ],
             [
              0.5555555555555556,
              "#d8576b"
             ],
             [
              0.6666666666666666,
              "#ed7953"
             ],
             [
              0.7777777777777778,
              "#fb9f3a"
             ],
             [
              0.8888888888888888,
              "#fdca26"
             ],
             [
              1,
              "#f0f921"
             ]
            ],
            "type": "surface"
           }
          ],
          "table": [
           {
            "cells": {
             "fill": {
              "color": "#EBF0F8"
             },
             "line": {
              "color": "white"
             }
            },
            "header": {
             "fill": {
              "color": "#C8D4E3"
             },
             "line": {
              "color": "white"
             }
            },
            "type": "table"
           }
          ]
         },
         "layout": {
          "annotationdefaults": {
           "arrowcolor": "#2a3f5f",
           "arrowhead": 0,
           "arrowwidth": 1
          },
          "autotypenumbers": "strict",
          "coloraxis": {
           "colorbar": {
            "outlinewidth": 0,
            "ticks": ""
           }
          },
          "colorscale": {
           "diverging": [
            [
             0,
             "#8e0152"
            ],
            [
             0.1,
             "#c51b7d"
            ],
            [
             0.2,
             "#de77ae"
            ],
            [
             0.3,
             "#f1b6da"
            ],
            [
             0.4,
             "#fde0ef"
            ],
            [
             0.5,
             "#f7f7f7"
            ],
            [
             0.6,
             "#e6f5d0"
            ],
            [
             0.7,
             "#b8e186"
            ],
            [
             0.8,
             "#7fbc41"
            ],
            [
             0.9,
             "#4d9221"
            ],
            [
             1,
             "#276419"
            ]
           ],
           "sequential": [
            [
             0,
             "#0d0887"
            ],
            [
             0.1111111111111111,
             "#46039f"
            ],
            [
             0.2222222222222222,
             "#7201a8"
            ],
            [
             0.3333333333333333,
             "#9c179e"
            ],
            [
             0.4444444444444444,
             "#bd3786"
            ],
            [
             0.5555555555555556,
             "#d8576b"
            ],
            [
             0.6666666666666666,
             "#ed7953"
            ],
            [
             0.7777777777777778,
             "#fb9f3a"
            ],
            [
             0.8888888888888888,
             "#fdca26"
            ],
            [
             1,
             "#f0f921"
            ]
           ],
           "sequentialminus": [
            [
             0,
             "#0d0887"
            ],
            [
             0.1111111111111111,
             "#46039f"
            ],
            [
             0.2222222222222222,
             "#7201a8"
            ],
            [
             0.3333333333333333,
             "#9c179e"
            ],
            [
             0.4444444444444444,
             "#bd3786"
            ],
            [
             0.5555555555555556,
             "#d8576b"
            ],
            [
             0.6666666666666666,
             "#ed7953"
            ],
            [
             0.7777777777777778,
             "#fb9f3a"
            ],
            [
             0.8888888888888888,
             "#fdca26"
            ],
            [
             1,
             "#f0f921"
            ]
           ]
          },
          "colorway": [
           "#636efa",
           "#EF553B",
           "#00cc96",
           "#ab63fa",
           "#FFA15A",
           "#19d3f3",
           "#FF6692",
           "#B6E880",
           "#FF97FF",
           "#FECB52"
          ],
          "font": {
           "color": "#2a3f5f"
          },
          "geo": {
           "bgcolor": "white",
           "lakecolor": "white",
           "landcolor": "#E5ECF6",
           "showlakes": true,
           "showland": true,
           "subunitcolor": "white"
          },
          "hoverlabel": {
           "align": "left"
          },
          "hovermode": "closest",
          "mapbox": {
           "style": "light"
          },
          "paper_bgcolor": "white",
          "plot_bgcolor": "#E5ECF6",
          "polar": {
           "angularaxis": {
            "gridcolor": "white",
            "linecolor": "white",
            "ticks": ""
           },
           "bgcolor": "#E5ECF6",
           "radialaxis": {
            "gridcolor": "white",
            "linecolor": "white",
            "ticks": ""
           }
          },
          "scene": {
           "xaxis": {
            "backgroundcolor": "#E5ECF6",
            "gridcolor": "white",
            "gridwidth": 2,
            "linecolor": "white",
            "showbackground": true,
            "ticks": "",
            "zerolinecolor": "white"
           },
           "yaxis": {
            "backgroundcolor": "#E5ECF6",
            "gridcolor": "white",
            "gridwidth": 2,
            "linecolor": "white",
            "showbackground": true,
            "ticks": "",
            "zerolinecolor": "white"
           },
           "zaxis": {
            "backgroundcolor": "#E5ECF6",
            "gridcolor": "white",
            "gridwidth": 2,
            "linecolor": "white",
            "showbackground": true,
            "ticks": "",
            "zerolinecolor": "white"
           }
          },
          "shapedefaults": {
           "line": {
            "color": "#2a3f5f"
           }
          },
          "ternary": {
           "aaxis": {
            "gridcolor": "white",
            "linecolor": "white",
            "ticks": ""
           },
           "baxis": {
            "gridcolor": "white",
            "linecolor": "white",
            "ticks": ""
           },
           "bgcolor": "#E5ECF6",
           "caxis": {
            "gridcolor": "white",
            "linecolor": "white",
            "ticks": ""
           }
          },
          "title": {
           "x": 0.05
          },
          "xaxis": {
           "automargin": true,
           "gridcolor": "white",
           "linecolor": "white",
           "ticks": "",
           "title": {
            "standoff": 15
           },
           "zerolinecolor": "white",
           "zerolinewidth": 2
          },
          "yaxis": {
           "automargin": true,
           "gridcolor": "white",
           "linecolor": "white",
           "ticks": "",
           "title": {
            "standoff": 15
           },
           "zerolinecolor": "white",
           "zerolinewidth": 2
          }
         }
        },
        "updatemenus": [
         {
          "buttons": [
           {
            "args": [
             null,
             {
              "frame": {
               "duration": 500,
               "redraw": false
              },
              "fromcurrent": true,
              "mode": "immediate",
              "transition": {
               "duration": 500,
               "easing": "linear"
              }
             }
            ],
            "label": "&#9654;",
            "method": "animate"
           },
           {
            "args": [
             [
              null
             ],
             {
              "frame": {
               "duration": 0,
               "redraw": false
              },
              "fromcurrent": true,
              "mode": "immediate",
              "transition": {
               "duration": 0,
               "easing": "linear"
              }
             }
            ],
            "label": "&#9724;",
            "method": "animate"
           }
          ],
          "direction": "left",
          "pad": {
           "r": 10,
           "t": 70
          },
          "showactive": false,
          "type": "buttons",
          "x": 0.1,
          "xanchor": "right",
          "y": 0,
          "yanchor": "top"
         }
        ],
        "xaxis": {
         "anchor": "y",
         "domain": [
          0,
          1
         ],
         "range": [
          2,
          5
         ],
         "title": {
          "text": "Consumption kWhr/year"
         },
         "type": "log"
        },
        "yaxis": {
         "anchor": "x",
         "domain": [
          0,
          1
         ],
         "range": [
          25,
          90
         ],
         "title": {
          "text": "Radiation TWhr/year"
         }
        }
       }
      },
      "text/html": [
       "<div>                            <div id=\"39f47d82-b90d-4f9f-9108-906f273242a1\" class=\"plotly-graph-div\" style=\"height:525px; width:100%;\"></div>            <script type=\"text/javascript\">                require([\"plotly\"], function(Plotly) {                    window.PLOTLYENV=window.PLOTLYENV || {};                                    if (document.getElementById(\"39f47d82-b90d-4f9f-9108-906f273242a1\")) {                    Plotly.newPlot(                        \"39f47d82-b90d-4f9f-9108-906f273242a1\",                        [{\"hovertemplate\":\"<b>%{hovertext}</b><br><br>Estado=Aguascalientes<br>Year=2018<br>Consumption kWhr/year=%{marker.size}<br>Radiation TWhr/year=%{y}<extra></extra>\",\"hovertext\":[\"Aguascalientes\"],\"ids\":[\"Aguascalientes\"],\"legendgroup\":\"Aguascalientes\",\"marker\":{\"color\":\"#636efa\",\"size\":[2855500],\"sizemode\":\"area\",\"sizeref\":5980.165289256199,\"symbol\":\"circle\"},\"mode\":\"markers\",\"name\":\"Aguascalientes\",\"orientation\":\"v\",\"showlegend\":true,\"type\":\"scatter\",\"x\":[2855500],\"xaxis\":\"x\",\"y\":[11566.22],\"yaxis\":\"y\"},{\"hovertemplate\":\"<b>%{hovertext}</b><br><br>Estado=Baja California<br>Year=2018<br>Consumption kWhr/year=%{marker.size}<br>Radiation TWhr/year=%{y}<extra></extra>\",\"hovertext\":[\"Baja California\"],\"ids\":[\"Baja California\"],\"legendgroup\":\"Baja California\",\"marker\":{\"color\":\"#EF553B\",\"size\":[10823800],\"sizemode\":\"area\",\"sizeref\":5980.165289256199,\"symbol\":\"circle\"},\"mode\":\"markers\",\"name\":\"Baja California\",\"orientation\":\"v\",\"showlegend\":true,\"type\":\"scatter\",\"x\":[10823800],\"xaxis\":\"x\",\"y\":[139802.77],\"yaxis\":\"y\"},{\"hovertemplate\":\"<b>%{hovertext}</b><br><br>Estado=Baja California Sur<br>Year=2018<br>Consumption kWhr/year=%{marker.size}<br>Radiation TWhr/year=%{y}<extra></extra>\",\"hovertext\":[\"Baja California Sur\"],\"ids\":[\"Baja California Sur\"],\"legendgroup\":\"Baja California Sur\",\"marker\":{\"color\":\"#00cc96\",\"size\":[2561200],\"sizemode\":\"area\",\"sizeref\":5980.165289256199,\"symbol\":\"circle\"},\"mode\":\"markers\",\"name\":\"Baja California Sur\",\"orientation\":\"v\",\"showlegend\":true,\"type\":\"scatter\",\"x\":[2561200],\"xaxis\":\"x\",\"y\":[148381.95],\"yaxis\":\"y\"},{\"hovertemplate\":\"<b>%{hovertext}</b><br><br>Estado=Campeche<br>Year=2018<br>Consumption kWhr/year=%{marker.size}<br>Radiation TWhr/year=%{y}<extra></extra>\",\"hovertext\":[\"Campeche\"],\"ids\":[\"Campeche\"],\"legendgroup\":\"Campeche\",\"marker\":{\"color\":\"#ab63fa\",\"size\":[1315600],\"sizemode\":\"area\",\"sizeref\":5980.165289256199,\"symbol\":\"circle\"},\"mode\":\"markers\",\"name\":\"Campeche\",\"orientation\":\"v\",\"showlegend\":true,\"type\":\"scatter\",\"x\":[1315600],\"xaxis\":\"x\",\"y\":[117967.63],\"yaxis\":\"y\"},{\"hovertemplate\":\"<b>%{hovertext}</b><br><br>Estado=Chiapas<br>Year=2018<br>Consumption kWhr/year=%{marker.size}<br>Radiation TWhr/year=%{y}<extra></extra>\",\"hovertext\":[\"Chiapas\"],\"ids\":[\"Chiapas\"],\"legendgroup\":\"Chiapas\",\"marker\":{\"color\":\"#FFA15A\",\"size\":[3096400],\"sizemode\":\"area\",\"sizeref\":5980.165289256199,\"symbol\":\"circle\"},\"mode\":\"markers\",\"name\":\"Chiapas\",\"orientation\":\"v\",\"showlegend\":true,\"type\":\"scatter\",\"x\":[3096400],\"xaxis\":\"x\",\"y\":[148325.68],\"yaxis\":\"y\"},{\"hovertemplate\":\"<b>%{hovertext}</b><br><br>Estado=Chihuahua<br>Year=2018<br>Consumption kWhr/year=%{marker.size}<br>Radiation TWhr/year=%{y}<extra></extra>\",\"hovertext\":[\"Chihuahua\"],\"ids\":[\"Chihuahua\"],\"legendgroup\":\"Chihuahua\",\"marker\":{\"color\":\"#19d3f3\",\"size\":[12699400],\"sizemode\":\"area\",\"sizeref\":5980.165289256199,\"symbol\":\"circle\"},\"mode\":\"markers\",\"name\":\"Chihuahua\",\"orientation\":\"v\",\"showlegend\":true,\"type\":\"scatter\",\"x\":[12699400],\"xaxis\":\"x\",\"y\":[502440.45],\"yaxis\":\"y\"},{\"hovertemplate\":\"<b>%{hovertext}</b><br><br>Estado=Coahuila<br>Year=2018<br>Consumption kWhr/year=%{marker.size}<br>Radiation TWhr/year=%{y}<extra></extra>\",\"hovertext\":[\"Coahuila\"],\"ids\":[\"Coahuila\"],\"legendgroup\":\"Coahuila\",\"marker\":{\"color\":\"#FF6692\",\"size\":[10601900],\"sizemode\":\"area\",\"sizeref\":5980.165289256199,\"symbol\":\"circle\"},\"mode\":\"markers\",\"name\":\"Coahuila\",\"orientation\":\"v\",\"showlegend\":true,\"type\":\"scatter\",\"x\":[10601900],\"xaxis\":\"x\",\"y\":[307139.86],\"yaxis\":\"y\"},{\"hovertemplate\":\"<b>%{hovertext}</b><br><br>Estado=Colima<br>Year=2018<br>Consumption kWhr/year=%{marker.size}<br>Radiation TWhr/year=%{y}<extra></extra>\",\"hovertext\":[\"Colima\"],\"ids\":[\"Colima\"],\"legendgroup\":\"Colima\",\"marker\":{\"color\":\"#B6E880\",\"size\":[2025400],\"sizemode\":\"area\",\"sizeref\":5980.165289256199,\"symbol\":\"circle\"},\"mode\":\"markers\",\"name\":\"Colima\",\"orientation\":\"v\",\"showlegend\":true,\"type\":\"scatter\",\"x\":[2025400],\"xaxis\":\"x\",\"y\":[11584.71],\"yaxis\":\"y\"},{\"hovertemplate\":\"<b>%{hovertext}</b><br><br>Estado=Distrito Federal<br>Year=2018<br>Consumption kWhr/year=%{marker.size}<br>Radiation TWhr/year=%{y}<extra></extra>\",\"hovertext\":[\"Distrito Federal\"],\"ids\":[\"Distrito Federal\"],\"legendgroup\":\"Distrito Federal\",\"marker\":{\"color\":\"#FF97FF\",\"size\":[13432400],\"sizemode\":\"area\",\"sizeref\":5980.165289256199,\"symbol\":\"circle\"},\"mode\":\"markers\",\"name\":\"Distrito Federal\",\"orientation\":\"v\",\"showlegend\":true,\"type\":\"scatter\",\"x\":[13432400],\"xaxis\":\"x\",\"y\":[3076.37],\"yaxis\":\"y\"},{\"hovertemplate\":\"<b>%{hovertext}</b><br><br>Estado=Durango<br>Year=2018<br>Consumption kWhr/year=%{marker.size}<br>Radiation TWhr/year=%{y}<extra></extra>\",\"hovertext\":[\"Durango\"],\"ids\":[\"Durango\"],\"legendgroup\":\"Durango\",\"marker\":{\"color\":\"#FECB52\",\"size\":[3237700],\"sizemode\":\"area\",\"sizeref\":5980.165289256199,\"symbol\":\"circle\"},\"mode\":\"markers\",\"name\":\"Durango\",\"orientation\":\"v\",\"showlegend\":true,\"type\":\"scatter\",\"x\":[3237700],\"xaxis\":\"x\",\"y\":[249750.34],\"yaxis\":\"y\"},{\"hovertemplate\":\"<b>%{hovertext}</b><br><br>Estado=M\\u00e9xico<br>Year=2018<br>Consumption kWhr/year=%{marker.size}<br>Radiation TWhr/year=%{y}<extra></extra>\",\"hovertext\":[\"M\\u00e9xico\"],\"ids\":[\"M\\u00e9xico\"],\"legendgroup\":\"M\\u00e9xico\",\"marker\":{\"color\":\"#636efa\",\"size\":[17846900],\"sizemode\":\"area\",\"sizeref\":5980.165289256199,\"symbol\":\"circle\"},\"mode\":\"markers\",\"name\":\"M\\u00e9xico\",\"orientation\":\"v\",\"showlegend\":true,\"type\":\"scatter\",\"x\":[17846900],\"xaxis\":\"x\",\"y\":[46003.27],\"yaxis\":\"y\"},{\"hovertemplate\":\"<b>%{hovertext}</b><br><br>Estado=Guanajuato<br>Year=2018<br>Consumption kWhr/year=%{marker.size}<br>Radiation TWhr/year=%{y}<extra></extra>\",\"hovertext\":[\"Guanajuato\"],\"ids\":[\"Guanajuato\"],\"legendgroup\":\"Guanajuato\",\"marker\":{\"color\":\"#EF553B\",\"size\":[12003100],\"sizemode\":\"area\",\"sizeref\":5980.165289256199,\"symbol\":\"circle\"},\"mode\":\"markers\",\"name\":\"Guanajuato\",\"orientation\":\"v\",\"showlegend\":true,\"type\":\"scatter\",\"x\":[12003100],\"xaxis\":\"x\",\"y\":[63149.54],\"yaxis\":\"y\"},{\"hovertemplate\":\"<b>%{hovertext}</b><br><br>Estado=Guerrero<br>Year=2018<br>Consumption kWhr/year=%{marker.size}<br>Radiation TWhr/year=%{y}<extra></extra>\",\"hovertext\":[\"Guerrero\"],\"ids\":[\"Guerrero\"],\"legendgroup\":\"Guerrero\",\"marker\":{\"color\":\"#00cc96\",\"size\":[3099300],\"sizemode\":\"area\",\"sizeref\":5980.165289256199,\"symbol\":\"circle\"},\"mode\":\"markers\",\"name\":\"Guerrero\",\"orientation\":\"v\",\"showlegend\":true,\"type\":\"scatter\",\"x\":[3099300],\"xaxis\":\"x\",\"y\":[129871.13],\"yaxis\":\"y\"},{\"hovertemplate\":\"<b>%{hovertext}</b><br><br>Estado=Hidalgo<br>Year=2018<br>Consumption kWhr/year=%{marker.size}<br>Radiation TWhr/year=%{y}<extra></extra>\",\"hovertext\":[\"Hidalgo\"],\"ids\":[\"Hidalgo\"],\"legendgroup\":\"Hidalgo\",\"marker\":{\"color\":\"#ab63fa\",\"size\":[3913500],\"sizemode\":\"area\",\"sizeref\":5980.165289256199,\"symbol\":\"circle\"},\"mode\":\"markers\",\"name\":\"Hidalgo\",\"orientation\":\"v\",\"showlegend\":true,\"type\":\"scatter\",\"x\":[3913500],\"xaxis\":\"x\",\"y\":[42813.45],\"yaxis\":\"y\"},{\"hovertemplate\":\"<b>%{hovertext}</b><br><br>Estado=Jalisco<br>Year=2018<br>Consumption kWhr/year=%{marker.size}<br>Radiation TWhr/year=%{y}<extra></extra>\",\"hovertext\":[\"Jalisco\"],\"ids\":[\"Jalisco\"],\"legendgroup\":\"Jalisco\",\"marker\":{\"color\":\"#FFA15A\",\"size\":[13476200],\"sizemode\":\"area\",\"sizeref\":5980.165289256199,\"symbol\":\"circle\"},\"mode\":\"markers\",\"name\":\"Jalisco\",\"orientation\":\"v\",\"showlegend\":true,\"type\":\"scatter\",\"x\":[13476200],\"xaxis\":\"x\",\"y\":[161651.71],\"yaxis\":\"y\"},{\"hovertemplate\":\"<b>%{hovertext}</b><br><br>Estado=Michoac\\u00e1n<br>Year=2018<br>Consumption kWhr/year=%{marker.size}<br>Radiation TWhr/year=%{y}<extra></extra>\",\"hovertext\":[\"Michoac\\u00e1n\"],\"ids\":[\"Michoac\\u00e1n\"],\"legendgroup\":\"Michoac\\u00e1n\",\"marker\":{\"color\":\"#19d3f3\",\"size\":[7819200],\"sizemode\":\"area\",\"sizeref\":5980.165289256199,\"symbol\":\"circle\"},\"mode\":\"markers\",\"name\":\"Michoac\\u00e1n\",\"orientation\":\"v\",\"showlegend\":true,\"type\":\"scatter\",\"x\":[7819200],\"xaxis\":\"x\",\"y\":[120653.92],\"yaxis\":\"y\"},{\"hovertemplate\":\"<b>%{hovertext}</b><br><br>Estado=Morelos<br>Year=2018<br>Consumption kWhr/year=%{marker.size}<br>Radiation TWhr/year=%{y}<extra></extra>\",\"hovertext\":[\"Morelos\"],\"ids\":[\"Morelos\"],\"legendgroup\":\"Morelos\",\"marker\":{\"color\":\"#FF6692\",\"size\":[2788300],\"sizemode\":\"area\",\"sizeref\":5980.165289256199,\"symbol\":\"circle\"},\"mode\":\"markers\",\"name\":\"Morelos\",\"orientation\":\"v\",\"showlegend\":true,\"type\":\"scatter\",\"x\":[2788300],\"xaxis\":\"x\",\"y\":[10053.05],\"yaxis\":\"y\"},{\"hovertemplate\":\"<b>%{hovertext}</b><br><br>Estado=Nayarit<br>Year=2018<br>Consumption kWhr/year=%{marker.size}<br>Radiation TWhr/year=%{y}<extra></extra>\",\"hovertext\":[\"Nayarit\"],\"ids\":[\"Nayarit\"],\"legendgroup\":\"Nayarit\",\"marker\":{\"color\":\"#B6E880\",\"size\":[1589400],\"sizemode\":\"area\",\"sizeref\":5980.165289256199,\"symbol\":\"circle\"},\"mode\":\"markers\",\"name\":\"Nayarit\",\"orientation\":\"v\",\"showlegend\":true,\"type\":\"scatter\",\"x\":[1589400],\"xaxis\":\"x\",\"y\":[56518.92],\"yaxis\":\"y\"},{\"hovertemplate\":\"<b>%{hovertext}</b><br><br>Estado=Nuevo Le\\u00f3n<br>Year=2018<br>Consumption kWhr/year=%{marker.size}<br>Radiation TWhr/year=%{y}<extra></extra>\",\"hovertext\":[\"Nuevo Le\\u00f3n\"],\"ids\":[\"Nuevo Le\\u00f3n\"],\"legendgroup\":\"Nuevo Le\\u00f3n\",\"marker\":{\"color\":\"#FF97FF\",\"size\":[18090000],\"sizemode\":\"area\",\"sizeref\":5980.165289256199,\"symbol\":\"circle\"},\"mode\":\"markers\",\"name\":\"Nuevo Le\\u00f3n\",\"orientation\":\"v\",\"showlegend\":true,\"type\":\"scatter\",\"x\":[18090000],\"xaxis\":\"x\",\"y\":[129899.47],\"yaxis\":\"y\"},{\"hovertemplate\":\"<b>%{hovertext}</b><br><br>Estado=Oaxaca<br>Year=2018<br>Consumption kWhr/year=%{marker.size}<br>Radiation TWhr/year=%{y}<extra></extra>\",\"hovertext\":[\"Oaxaca\"],\"ids\":[\"Oaxaca\"],\"legendgroup\":\"Oaxaca\",\"marker\":{\"color\":\"#FECB52\",\"size\":[2747400],\"sizemode\":\"area\",\"sizeref\":5980.165289256199,\"symbol\":\"circle\"},\"mode\":\"markers\",\"name\":\"Oaxaca\",\"orientation\":\"v\",\"showlegend\":true,\"type\":\"scatter\",\"x\":[2747400],\"xaxis\":\"x\",\"y\":[191064.18],\"yaxis\":\"y\"},{\"hovertemplate\":\"<b>%{hovertext}</b><br><br>Estado=Puebla<br>Year=2018<br>Consumption kWhr/year=%{marker.size}<br>Radiation TWhr/year=%{y}<extra></extra>\",\"hovertext\":[\"Puebla\"],\"ids\":[\"Puebla\"],\"legendgroup\":\"Puebla\",\"marker\":{\"color\":\"#636efa\",\"size\":[7817000],\"sizemode\":\"area\",\"sizeref\":5980.165289256199,\"symbol\":\"circle\"},\"mode\":\"markers\",\"name\":\"Puebla\",\"orientation\":\"v\",\"showlegend\":true,\"type\":\"scatter\",\"x\":[7817000],\"xaxis\":\"x\",\"y\":[70279.81],\"yaxis\":\"y\"},{\"hovertemplate\":\"<b>%{hovertext}</b><br><br>Estado=Quer\\u00e9taro<br>Year=2018<br>Consumption kWhr/year=%{marker.size}<br>Radiation TWhr/year=%{y}<extra></extra>\",\"hovertext\":[\"Quer\\u00e9taro\"],\"ids\":[\"Quer\\u00e9taro\"],\"legendgroup\":\"Quer\\u00e9taro\",\"marker\":{\"color\":\"#EF553B\",\"size\":[5458800],\"sizemode\":\"area\",\"sizeref\":5980.165289256199,\"symbol\":\"circle\"},\"mode\":\"markers\",\"name\":\"Quer\\u00e9taro\",\"orientation\":\"v\",\"showlegend\":true,\"type\":\"scatter\",\"x\":[5458800],\"xaxis\":\"x\",\"y\":[24133.57],\"yaxis\":\"y\"},{\"hovertemplate\":\"<b>%{hovertext}</b><br><br>Estado=Quintana Roo<br>Year=2018<br>Consumption kWhr/year=%{marker.size}<br>Radiation TWhr/year=%{y}<extra></extra>\",\"hovertext\":[\"Quintana Roo\"],\"ids\":[\"Quintana Roo\"],\"legendgroup\":\"Quintana Roo\",\"marker\":{\"color\":\"#00cc96\",\"size\":[5012400],\"sizemode\":\"area\",\"sizeref\":5980.165289256199,\"symbol\":\"circle\"},\"mode\":\"markers\",\"name\":\"Quintana Roo\",\"orientation\":\"v\",\"showlegend\":true,\"type\":\"scatter\",\"x\":[5012400],\"xaxis\":\"x\",\"y\":[90878.83],\"yaxis\":\"y\"},{\"hovertemplate\":\"<b>%{hovertext}</b><br><br>Estado=San Luis Potos\\u00ed<br>Year=2018<br>Consumption kWhr/year=%{marker.size}<br>Radiation TWhr/year=%{y}<extra></extra>\",\"hovertext\":[\"San Luis Potos\\u00ed\"],\"ids\":[\"San Luis Potos\\u00ed\"],\"legendgroup\":\"San Luis Potos\\u00ed\",\"marker\":{\"color\":\"#ab63fa\",\"size\":[5921700],\"sizemode\":\"area\",\"sizeref\":5980.165289256199,\"symbol\":\"circle\"},\"mode\":\"markers\",\"name\":\"San Luis Potos\\u00ed\",\"orientation\":\"v\",\"showlegend\":true,\"type\":\"scatter\",\"x\":[5921700],\"xaxis\":\"x\",\"y\":[124225.89],\"yaxis\":\"y\"},{\"hovertemplate\":\"<b>%{hovertext}</b><br><br>Estado=Sinaloa<br>Year=2018<br>Consumption kWhr/year=%{marker.size}<br>Radiation TWhr/year=%{y}<extra></extra>\",\"hovertext\":[\"Sinaloa\"],\"ids\":[\"Sinaloa\"],\"legendgroup\":\"Sinaloa\",\"marker\":{\"color\":\"#FFA15A\",\"size\":[7127800],\"sizemode\":\"area\",\"sizeref\":5980.165289256199,\"symbol\":\"circle\"},\"mode\":\"markers\",\"name\":\"Sinaloa\",\"orientation\":\"v\",\"showlegend\":true,\"type\":\"scatter\",\"x\":[7127800],\"xaxis\":\"x\",\"y\":[117886.78],\"yaxis\":\"y\"},{\"hovertemplate\":\"<b>%{hovertext}</b><br><br>Estado=Sonora<br>Year=2018<br>Consumption kWhr/year=%{marker.size}<br>Radiation TWhr/year=%{y}<extra></extra>\",\"hovertext\":[\"Sonora\"],\"ids\":[\"Sonora\"],\"legendgroup\":\"Sonora\",\"marker\":{\"color\":\"#19d3f3\",\"size\":[10458400],\"sizemode\":\"area\",\"sizeref\":5980.165289256199,\"symbol\":\"circle\"},\"mode\":\"markers\",\"name\":\"Sonora\",\"orientation\":\"v\",\"showlegend\":true,\"type\":\"scatter\",\"x\":[10458400],\"xaxis\":\"x\",\"y\":[363869.91],\"yaxis\":\"y\"},{\"hovertemplate\":\"<b>%{hovertext}</b><br><br>Estado=Tabasco<br>Year=2018<br>Consumption kWhr/year=%{marker.size}<br>Radiation TWhr/year=%{y}<extra></extra>\",\"hovertext\":[\"Tabasco\"],\"ids\":[\"Tabasco\"],\"legendgroup\":\"Tabasco\",\"marker\":{\"color\":\"#FF6692\",\"size\":[3292500],\"sizemode\":\"area\",\"sizeref\":5980.165289256199,\"symbol\":\"circle\"},\"mode\":\"markers\",\"name\":\"Tabasco\",\"orientation\":\"v\",\"showlegend\":true,\"type\":\"scatter\",\"x\":[3292500],\"xaxis\":\"x\",\"y\":[50292.63],\"yaxis\":\"y\"},{\"hovertemplate\":\"<b>%{hovertext}</b><br><br>Estado=Tamaulipas<br>Year=2018<br>Consumption kWhr/year=%{marker.size}<br>Radiation TWhr/year=%{y}<extra></extra>\",\"hovertext\":[\"Tamaulipas\"],\"ids\":[\"Tamaulipas\"],\"legendgroup\":\"Tamaulipas\",\"marker\":{\"color\":\"#B6E880\",\"size\":[8941900],\"sizemode\":\"area\",\"sizeref\":5980.165289256199,\"symbol\":\"circle\"},\"mode\":\"markers\",\"name\":\"Tamaulipas\",\"orientation\":\"v\",\"showlegend\":true,\"type\":\"scatter\",\"x\":[8941900],\"xaxis\":\"x\",\"y\":[161886.84],\"yaxis\":\"y\"},{\"hovertemplate\":\"<b>%{hovertext}</b><br><br>Estado=Tlaxcala<br>Year=2018<br>Consumption kWhr/year=%{marker.size}<br>Radiation TWhr/year=%{y}<extra></extra>\",\"hovertext\":[\"Tlaxcala\"],\"ids\":[\"Tlaxcala\"],\"legendgroup\":\"Tlaxcala\",\"marker\":{\"color\":\"#FF97FF\",\"size\":[1774500],\"sizemode\":\"area\",\"sizeref\":5980.165289256199,\"symbol\":\"circle\"},\"mode\":\"markers\",\"name\":\"Tlaxcala\",\"orientation\":\"v\",\"showlegend\":true,\"type\":\"scatter\",\"x\":[1774500],\"xaxis\":\"x\",\"y\":[8162.76],\"yaxis\":\"y\"},{\"hovertemplate\":\"<b>%{hovertext}</b><br><br>Estado=Veracruz<br>Year=2018<br>Consumption kWhr/year=%{marker.size}<br>Radiation TWhr/year=%{y}<extra></extra>\",\"hovertext\":[\"Veracruz\"],\"ids\":[\"Veracruz\"],\"legendgroup\":\"Veracruz\",\"marker\":{\"color\":\"#FECB52\",\"size\":[10323400],\"sizemode\":\"area\",\"sizeref\":5980.165289256199,\"symbol\":\"circle\"},\"mode\":\"markers\",\"name\":\"Veracruz\",\"orientation\":\"v\",\"showlegend\":true,\"type\":\"scatter\",\"x\":[10323400],\"xaxis\":\"x\",\"y\":[144215.24],\"yaxis\":\"y\"},{\"hovertemplate\":\"<b>%{hovertext}</b><br><br>Estado=Yucat\\u00e1n<br>Year=2018<br>Consumption kWhr/year=%{marker.size}<br>Radiation TWhr/year=%{y}<extra></extra>\",\"hovertext\":[\"Yucat\\u00e1n\"],\"ids\":[\"Yucat\\u00e1n\"],\"legendgroup\":\"Yucat\\u00e1n\",\"marker\":{\"color\":\"#636efa\",\"size\":[3811500],\"sizemode\":\"area\",\"sizeref\":5980.165289256199,\"symbol\":\"circle\"},\"mode\":\"markers\",\"name\":\"Yucat\\u00e1n\",\"orientation\":\"v\",\"showlegend\":true,\"type\":\"scatter\",\"x\":[3811500],\"xaxis\":\"x\",\"y\":[81226.88],\"yaxis\":\"y\"},{\"hovertemplate\":\"<b>%{hovertext}</b><br><br>Estado=Zacatecas<br>Year=2018<br>Consumption kWhr/year=%{marker.size}<br>Radiation TWhr/year=%{y}<extra></extra>\",\"hovertext\":[\"Zacatecas\"],\"ids\":[\"Zacatecas\"],\"legendgroup\":\"Zacatecas\",\"marker\":{\"color\":\"#EF553B\",\"size\":[2120700],\"sizemode\":\"area\",\"sizeref\":5980.165289256199,\"symbol\":\"circle\"},\"mode\":\"markers\",\"name\":\"Zacatecas\",\"orientation\":\"v\",\"showlegend\":true,\"type\":\"scatter\",\"x\":[2120700],\"xaxis\":\"x\",\"y\":[153097.54],\"yaxis\":\"y\"}],                        {\"legend\":{\"itemsizing\":\"constant\",\"title\":{\"text\":\"Estado\"},\"tracegroupgap\":0},\"margin\":{\"t\":60},\"sliders\":[{\"active\":0,\"currentvalue\":{\"prefix\":\"Year=\"},\"len\":0.9,\"pad\":{\"b\":10,\"t\":60},\"steps\":[{\"args\":[[\"2018\"],{\"frame\":{\"duration\":0,\"redraw\":false},\"fromcurrent\":true,\"mode\":\"immediate\",\"transition\":{\"duration\":0,\"easing\":\"linear\"}}],\"label\":\"2018\",\"method\":\"animate\"},{\"args\":[[\"2019\"],{\"frame\":{\"duration\":0,\"redraw\":false},\"fromcurrent\":true,\"mode\":\"immediate\",\"transition\":{\"duration\":0,\"easing\":\"linear\"}}],\"label\":\"2019\",\"method\":\"animate\"},{\"args\":[[\"2020\"],{\"frame\":{\"duration\":0,\"redraw\":false},\"fromcurrent\":true,\"mode\":\"immediate\",\"transition\":{\"duration\":0,\"easing\":\"linear\"}}],\"label\":\"2020\",\"method\":\"animate\"}],\"x\":0.1,\"xanchor\":\"left\",\"y\":0,\"yanchor\":\"top\"}],\"template\":{\"data\":{\"bar\":[{\"error_x\":{\"color\":\"#2a3f5f\"},\"error_y\":{\"color\":\"#2a3f5f\"},\"marker\":{\"line\":{\"color\":\"#E5ECF6\",\"width\":0.5},\"pattern\":{\"fillmode\":\"overlay\",\"size\":10,\"solidity\":0.2}},\"type\":\"bar\"}],\"barpolar\":[{\"marker\":{\"line\":{\"color\":\"#E5ECF6\",\"width\":0.5},\"pattern\":{\"fillmode\":\"overlay\",\"size\":10,\"solidity\":0.2}},\"type\":\"barpolar\"}],\"carpet\":[{\"aaxis\":{\"endlinecolor\":\"#2a3f5f\",\"gridcolor\":\"white\",\"linecolor\":\"white\",\"minorgridcolor\":\"white\",\"startlinecolor\":\"#2a3f5f\"},\"baxis\":{\"endlinecolor\":\"#2a3f5f\",\"gridcolor\":\"white\",\"linecolor\":\"white\",\"minorgridcolor\":\"white\",\"startlinecolor\":\"#2a3f5f\"},\"type\":\"carpet\"}],\"choropleth\":[{\"colorbar\":{\"outlinewidth\":0,\"ticks\":\"\"},\"type\":\"choropleth\"}],\"contour\":[{\"colorbar\":{\"outlinewidth\":0,\"ticks\":\"\"},\"colorscale\":[[0.0,\"#0d0887\"],[0.1111111111111111,\"#46039f\"],[0.2222222222222222,\"#7201a8\"],[0.3333333333333333,\"#9c179e\"],[0.4444444444444444,\"#bd3786\"],[0.5555555555555556,\"#d8576b\"],[0.6666666666666666,\"#ed7953\"],[0.7777777777777778,\"#fb9f3a\"],[0.8888888888888888,\"#fdca26\"],[1.0,\"#f0f921\"]],\"type\":\"contour\"}],\"contourcarpet\":[{\"colorbar\":{\"outlinewidth\":0,\"ticks\":\"\"},\"type\":\"contourcarpet\"}],\"heatmap\":[{\"colorbar\":{\"outlinewidth\":0,\"ticks\":\"\"},\"colorscale\":[[0.0,\"#0d0887\"],[0.1111111111111111,\"#46039f\"],[0.2222222222222222,\"#7201a8\"],[0.3333333333333333,\"#9c179e\"],[0.4444444444444444,\"#bd3786\"],[0.5555555555555556,\"#d8576b\"],[0.6666666666666666,\"#ed7953\"],[0.7777777777777778,\"#fb9f3a\"],[0.8888888888888888,\"#fdca26\"],[1.0,\"#f0f921\"]],\"type\":\"heatmap\"}],\"heatmapgl\":[{\"colorbar\":{\"outlinewidth\":0,\"ticks\":\"\"},\"colorscale\":[[0.0,\"#0d0887\"],[0.1111111111111111,\"#46039f\"],[0.2222222222222222,\"#7201a8\"],[0.3333333333333333,\"#9c179e\"],[0.4444444444444444,\"#bd3786\"],[0.5555555555555556,\"#d8576b\"],[0.6666666666666666,\"#ed7953\"],[0.7777777777777778,\"#fb9f3a\"],[0.8888888888888888,\"#fdca26\"],[1.0,\"#f0f921\"]],\"type\":\"heatmapgl\"}],\"histogram\":[{\"marker\":{\"pattern\":{\"fillmode\":\"overlay\",\"size\":10,\"solidity\":0.2}},\"type\":\"histogram\"}],\"histogram2d\":[{\"colorbar\":{\"outlinewidth\":0,\"ticks\":\"\"},\"colorscale\":[[0.0,\"#0d0887\"],[0.1111111111111111,\"#46039f\"],[0.2222222222222222,\"#7201a8\"],[0.3333333333333333,\"#9c179e\"],[0.4444444444444444,\"#bd3786\"],[0.5555555555555556,\"#d8576b\"],[0.6666666666666666,\"#ed7953\"],[0.7777777777777778,\"#fb9f3a\"],[0.8888888888888888,\"#fdca26\"],[1.0,\"#f0f921\"]],\"type\":\"histogram2d\"}],\"histogram2dcontour\":[{\"colorbar\":{\"outlinewidth\":0,\"ticks\":\"\"},\"colorscale\":[[0.0,\"#0d0887\"],[0.1111111111111111,\"#46039f\"],[0.2222222222222222,\"#7201a8\"],[0.3333333333333333,\"#9c179e\"],[0.4444444444444444,\"#bd3786\"],[0.5555555555555556,\"#d8576b\"],[0.6666666666666666,\"#ed7953\"],[0.7777777777777778,\"#fb9f3a\"],[0.8888888888888888,\"#fdca26\"],[1.0,\"#f0f921\"]],\"type\":\"histogram2dcontour\"}],\"mesh3d\":[{\"colorbar\":{\"outlinewidth\":0,\"ticks\":\"\"},\"type\":\"mesh3d\"}],\"parcoords\":[{\"line\":{\"colorbar\":{\"outlinewidth\":0,\"ticks\":\"\"}},\"type\":\"parcoords\"}],\"pie\":[{\"automargin\":true,\"type\":\"pie\"}],\"scatter\":[{\"marker\":{\"colorbar\":{\"outlinewidth\":0,\"ticks\":\"\"}},\"type\":\"scatter\"}],\"scatter3d\":[{\"line\":{\"colorbar\":{\"outlinewidth\":0,\"ticks\":\"\"}},\"marker\":{\"colorbar\":{\"outlinewidth\":0,\"ticks\":\"\"}},\"type\":\"scatter3d\"}],\"scattercarpet\":[{\"marker\":{\"colorbar\":{\"outlinewidth\":0,\"ticks\":\"\"}},\"type\":\"scattercarpet\"}],\"scattergeo\":[{\"marker\":{\"colorbar\":{\"outlinewidth\":0,\"ticks\":\"\"}},\"type\":\"scattergeo\"}],\"scattergl\":[{\"marker\":{\"colorbar\":{\"outlinewidth\":0,\"ticks\":\"\"}},\"type\":\"scattergl\"}],\"scattermapbox\":[{\"marker\":{\"colorbar\":{\"outlinewidth\":0,\"ticks\":\"\"}},\"type\":\"scattermapbox\"}],\"scatterpolar\":[{\"marker\":{\"colorbar\":{\"outlinewidth\":0,\"ticks\":\"\"}},\"type\":\"scatterpolar\"}],\"scatterpolargl\":[{\"marker\":{\"colorbar\":{\"outlinewidth\":0,\"ticks\":\"\"}},\"type\":\"scatterpolargl\"}],\"scatterternary\":[{\"marker\":{\"colorbar\":{\"outlinewidth\":0,\"ticks\":\"\"}},\"type\":\"scatterternary\"}],\"surface\":[{\"colorbar\":{\"outlinewidth\":0,\"ticks\":\"\"},\"colorscale\":[[0.0,\"#0d0887\"],[0.1111111111111111,\"#46039f\"],[0.2222222222222222,\"#7201a8\"],[0.3333333333333333,\"#9c179e\"],[0.4444444444444444,\"#bd3786\"],[0.5555555555555556,\"#d8576b\"],[0.6666666666666666,\"#ed7953\"],[0.7777777777777778,\"#fb9f3a\"],[0.8888888888888888,\"#fdca26\"],[1.0,\"#f0f921\"]],\"type\":\"surface\"}],\"table\":[{\"cells\":{\"fill\":{\"color\":\"#EBF0F8\"},\"line\":{\"color\":\"white\"}},\"header\":{\"fill\":{\"color\":\"#C8D4E3\"},\"line\":{\"color\":\"white\"}},\"type\":\"table\"}]},\"layout\":{\"annotationdefaults\":{\"arrowcolor\":\"#2a3f5f\",\"arrowhead\":0,\"arrowwidth\":1},\"autotypenumbers\":\"strict\",\"coloraxis\":{\"colorbar\":{\"outlinewidth\":0,\"ticks\":\"\"}},\"colorscale\":{\"diverging\":[[0,\"#8e0152\"],[0.1,\"#c51b7d\"],[0.2,\"#de77ae\"],[0.3,\"#f1b6da\"],[0.4,\"#fde0ef\"],[0.5,\"#f7f7f7\"],[0.6,\"#e6f5d0\"],[0.7,\"#b8e186\"],[0.8,\"#7fbc41\"],[0.9,\"#4d9221\"],[1,\"#276419\"]],\"sequential\":[[0.0,\"#0d0887\"],[0.1111111111111111,\"#46039f\"],[0.2222222222222222,\"#7201a8\"],[0.3333333333333333,\"#9c179e\"],[0.4444444444444444,\"#bd3786\"],[0.5555555555555556,\"#d8576b\"],[0.6666666666666666,\"#ed7953\"],[0.7777777777777778,\"#fb9f3a\"],[0.8888888888888888,\"#fdca26\"],[1.0,\"#f0f921\"]],\"sequentialminus\":[[0.0,\"#0d0887\"],[0.1111111111111111,\"#46039f\"],[0.2222222222222222,\"#7201a8\"],[0.3333333333333333,\"#9c179e\"],[0.4444444444444444,\"#bd3786\"],[0.5555555555555556,\"#d8576b\"],[0.6666666666666666,\"#ed7953\"],[0.7777777777777778,\"#fb9f3a\"],[0.8888888888888888,\"#fdca26\"],[1.0,\"#f0f921\"]]},\"colorway\":[\"#636efa\",\"#EF553B\",\"#00cc96\",\"#ab63fa\",\"#FFA15A\",\"#19d3f3\",\"#FF6692\",\"#B6E880\",\"#FF97FF\",\"#FECB52\"],\"font\":{\"color\":\"#2a3f5f\"},\"geo\":{\"bgcolor\":\"white\",\"lakecolor\":\"white\",\"landcolor\":\"#E5ECF6\",\"showlakes\":true,\"showland\":true,\"subunitcolor\":\"white\"},\"hoverlabel\":{\"align\":\"left\"},\"hovermode\":\"closest\",\"mapbox\":{\"style\":\"light\"},\"paper_bgcolor\":\"white\",\"plot_bgcolor\":\"#E5ECF6\",\"polar\":{\"angularaxis\":{\"gridcolor\":\"white\",\"linecolor\":\"white\",\"ticks\":\"\"},\"bgcolor\":\"#E5ECF6\",\"radialaxis\":{\"gridcolor\":\"white\",\"linecolor\":\"white\",\"ticks\":\"\"}},\"scene\":{\"xaxis\":{\"backgroundcolor\":\"#E5ECF6\",\"gridcolor\":\"white\",\"gridwidth\":2,\"linecolor\":\"white\",\"showbackground\":true,\"ticks\":\"\",\"zerolinecolor\":\"white\"},\"yaxis\":{\"backgroundcolor\":\"#E5ECF6\",\"gridcolor\":\"white\",\"gridwidth\":2,\"linecolor\":\"white\",\"showbackground\":true,\"ticks\":\"\",\"zerolinecolor\":\"white\"},\"zaxis\":{\"backgroundcolor\":\"#E5ECF6\",\"gridcolor\":\"white\",\"gridwidth\":2,\"linecolor\":\"white\",\"showbackground\":true,\"ticks\":\"\",\"zerolinecolor\":\"white\"}},\"shapedefaults\":{\"line\":{\"color\":\"#2a3f5f\"}},\"ternary\":{\"aaxis\":{\"gridcolor\":\"white\",\"linecolor\":\"white\",\"ticks\":\"\"},\"baxis\":{\"gridcolor\":\"white\",\"linecolor\":\"white\",\"ticks\":\"\"},\"bgcolor\":\"#E5ECF6\",\"caxis\":{\"gridcolor\":\"white\",\"linecolor\":\"white\",\"ticks\":\"\"}},\"title\":{\"x\":0.05},\"xaxis\":{\"automargin\":true,\"gridcolor\":\"white\",\"linecolor\":\"white\",\"ticks\":\"\",\"title\":{\"standoff\":15},\"zerolinecolor\":\"white\",\"zerolinewidth\":2},\"yaxis\":{\"automargin\":true,\"gridcolor\":\"white\",\"linecolor\":\"white\",\"ticks\":\"\",\"title\":{\"standoff\":15},\"zerolinecolor\":\"white\",\"zerolinewidth\":2}}},\"updatemenus\":[{\"buttons\":[{\"args\":[null,{\"frame\":{\"duration\":500,\"redraw\":false},\"fromcurrent\":true,\"mode\":\"immediate\",\"transition\":{\"duration\":500,\"easing\":\"linear\"}}],\"label\":\"&#9654;\",\"method\":\"animate\"},{\"args\":[[null],{\"frame\":{\"duration\":0,\"redraw\":false},\"fromcurrent\":true,\"mode\":\"immediate\",\"transition\":{\"duration\":0,\"easing\":\"linear\"}}],\"label\":\"&#9724;\",\"method\":\"animate\"}],\"direction\":\"left\",\"pad\":{\"r\":10,\"t\":70},\"showactive\":false,\"type\":\"buttons\",\"x\":0.1,\"xanchor\":\"right\",\"y\":0,\"yanchor\":\"top\"}],\"xaxis\":{\"anchor\":\"y\",\"domain\":[0.0,1.0],\"range\":[2.0,5.0],\"title\":{\"text\":\"Consumption kWhr/year\"},\"type\":\"log\"},\"yaxis\":{\"anchor\":\"x\",\"domain\":[0.0,1.0],\"range\":[25,90],\"title\":{\"text\":\"Radiation TWhr/year\"}}},                        {\"responsive\": true}                    ).then(function(){\n",
       "                            Plotly.addFrames('39f47d82-b90d-4f9f-9108-906f273242a1', [{\"data\":[{\"hovertemplate\":\"<b>%{hovertext}</b><br><br>Estado=Aguascalientes<br>Year=2018<br>Consumption kWhr/year=%{marker.size}<br>Radiation TWhr/year=%{y}<extra></extra>\",\"hovertext\":[\"Aguascalientes\"],\"ids\":[\"Aguascalientes\"],\"legendgroup\":\"Aguascalientes\",\"marker\":{\"color\":\"#636efa\",\"size\":[2855500],\"sizemode\":\"area\",\"sizeref\":5980.165289256199,\"symbol\":\"circle\"},\"mode\":\"markers\",\"name\":\"Aguascalientes\",\"orientation\":\"v\",\"showlegend\":true,\"type\":\"scatter\",\"x\":[2855500],\"xaxis\":\"x\",\"y\":[11566.22],\"yaxis\":\"y\"},{\"hovertemplate\":\"<b>%{hovertext}</b><br><br>Estado=Baja California<br>Year=2018<br>Consumption kWhr/year=%{marker.size}<br>Radiation TWhr/year=%{y}<extra></extra>\",\"hovertext\":[\"Baja California\"],\"ids\":[\"Baja California\"],\"legendgroup\":\"Baja California\",\"marker\":{\"color\":\"#EF553B\",\"size\":[10823800],\"sizemode\":\"area\",\"sizeref\":5980.165289256199,\"symbol\":\"circle\"},\"mode\":\"markers\",\"name\":\"Baja California\",\"orientation\":\"v\",\"showlegend\":true,\"type\":\"scatter\",\"x\":[10823800],\"xaxis\":\"x\",\"y\":[139802.77],\"yaxis\":\"y\"},{\"hovertemplate\":\"<b>%{hovertext}</b><br><br>Estado=Baja California Sur<br>Year=2018<br>Consumption kWhr/year=%{marker.size}<br>Radiation TWhr/year=%{y}<extra></extra>\",\"hovertext\":[\"Baja California Sur\"],\"ids\":[\"Baja California Sur\"],\"legendgroup\":\"Baja California Sur\",\"marker\":{\"color\":\"#00cc96\",\"size\":[2561200],\"sizemode\":\"area\",\"sizeref\":5980.165289256199,\"symbol\":\"circle\"},\"mode\":\"markers\",\"name\":\"Baja California Sur\",\"orientation\":\"v\",\"showlegend\":true,\"type\":\"scatter\",\"x\":[2561200],\"xaxis\":\"x\",\"y\":[148381.95],\"yaxis\":\"y\"},{\"hovertemplate\":\"<b>%{hovertext}</b><br><br>Estado=Campeche<br>Year=2018<br>Consumption kWhr/year=%{marker.size}<br>Radiation TWhr/year=%{y}<extra></extra>\",\"hovertext\":[\"Campeche\"],\"ids\":[\"Campeche\"],\"legendgroup\":\"Campeche\",\"marker\":{\"color\":\"#ab63fa\",\"size\":[1315600],\"sizemode\":\"area\",\"sizeref\":5980.165289256199,\"symbol\":\"circle\"},\"mode\":\"markers\",\"name\":\"Campeche\",\"orientation\":\"v\",\"showlegend\":true,\"type\":\"scatter\",\"x\":[1315600],\"xaxis\":\"x\",\"y\":[117967.63],\"yaxis\":\"y\"},{\"hovertemplate\":\"<b>%{hovertext}</b><br><br>Estado=Chiapas<br>Year=2018<br>Consumption kWhr/year=%{marker.size}<br>Radiation TWhr/year=%{y}<extra></extra>\",\"hovertext\":[\"Chiapas\"],\"ids\":[\"Chiapas\"],\"legendgroup\":\"Chiapas\",\"marker\":{\"color\":\"#FFA15A\",\"size\":[3096400],\"sizemode\":\"area\",\"sizeref\":5980.165289256199,\"symbol\":\"circle\"},\"mode\":\"markers\",\"name\":\"Chiapas\",\"orientation\":\"v\",\"showlegend\":true,\"type\":\"scatter\",\"x\":[3096400],\"xaxis\":\"x\",\"y\":[148325.68],\"yaxis\":\"y\"},{\"hovertemplate\":\"<b>%{hovertext}</b><br><br>Estado=Chihuahua<br>Year=2018<br>Consumption kWhr/year=%{marker.size}<br>Radiation TWhr/year=%{y}<extra></extra>\",\"hovertext\":[\"Chihuahua\"],\"ids\":[\"Chihuahua\"],\"legendgroup\":\"Chihuahua\",\"marker\":{\"color\":\"#19d3f3\",\"size\":[12699400],\"sizemode\":\"area\",\"sizeref\":5980.165289256199,\"symbol\":\"circle\"},\"mode\":\"markers\",\"name\":\"Chihuahua\",\"orientation\":\"v\",\"showlegend\":true,\"type\":\"scatter\",\"x\":[12699400],\"xaxis\":\"x\",\"y\":[502440.45],\"yaxis\":\"y\"},{\"hovertemplate\":\"<b>%{hovertext}</b><br><br>Estado=Coahuila<br>Year=2018<br>Consumption kWhr/year=%{marker.size}<br>Radiation TWhr/year=%{y}<extra></extra>\",\"hovertext\":[\"Coahuila\"],\"ids\":[\"Coahuila\"],\"legendgroup\":\"Coahuila\",\"marker\":{\"color\":\"#FF6692\",\"size\":[10601900],\"sizemode\":\"area\",\"sizeref\":5980.165289256199,\"symbol\":\"circle\"},\"mode\":\"markers\",\"name\":\"Coahuila\",\"orientation\":\"v\",\"showlegend\":true,\"type\":\"scatter\",\"x\":[10601900],\"xaxis\":\"x\",\"y\":[307139.86],\"yaxis\":\"y\"},{\"hovertemplate\":\"<b>%{hovertext}</b><br><br>Estado=Colima<br>Year=2018<br>Consumption kWhr/year=%{marker.size}<br>Radiation TWhr/year=%{y}<extra></extra>\",\"hovertext\":[\"Colima\"],\"ids\":[\"Colima\"],\"legendgroup\":\"Colima\",\"marker\":{\"color\":\"#B6E880\",\"size\":[2025400],\"sizemode\":\"area\",\"sizeref\":5980.165289256199,\"symbol\":\"circle\"},\"mode\":\"markers\",\"name\":\"Colima\",\"orientation\":\"v\",\"showlegend\":true,\"type\":\"scatter\",\"x\":[2025400],\"xaxis\":\"x\",\"y\":[11584.71],\"yaxis\":\"y\"},{\"hovertemplate\":\"<b>%{hovertext}</b><br><br>Estado=Distrito Federal<br>Year=2018<br>Consumption kWhr/year=%{marker.size}<br>Radiation TWhr/year=%{y}<extra></extra>\",\"hovertext\":[\"Distrito Federal\"],\"ids\":[\"Distrito Federal\"],\"legendgroup\":\"Distrito Federal\",\"marker\":{\"color\":\"#FF97FF\",\"size\":[13432400],\"sizemode\":\"area\",\"sizeref\":5980.165289256199,\"symbol\":\"circle\"},\"mode\":\"markers\",\"name\":\"Distrito Federal\",\"orientation\":\"v\",\"showlegend\":true,\"type\":\"scatter\",\"x\":[13432400],\"xaxis\":\"x\",\"y\":[3076.37],\"yaxis\":\"y\"},{\"hovertemplate\":\"<b>%{hovertext}</b><br><br>Estado=Durango<br>Year=2018<br>Consumption kWhr/year=%{marker.size}<br>Radiation TWhr/year=%{y}<extra></extra>\",\"hovertext\":[\"Durango\"],\"ids\":[\"Durango\"],\"legendgroup\":\"Durango\",\"marker\":{\"color\":\"#FECB52\",\"size\":[3237700],\"sizemode\":\"area\",\"sizeref\":5980.165289256199,\"symbol\":\"circle\"},\"mode\":\"markers\",\"name\":\"Durango\",\"orientation\":\"v\",\"showlegend\":true,\"type\":\"scatter\",\"x\":[3237700],\"xaxis\":\"x\",\"y\":[249750.34],\"yaxis\":\"y\"},{\"hovertemplate\":\"<b>%{hovertext}</b><br><br>Estado=M\\u00e9xico<br>Year=2018<br>Consumption kWhr/year=%{marker.size}<br>Radiation TWhr/year=%{y}<extra></extra>\",\"hovertext\":[\"M\\u00e9xico\"],\"ids\":[\"M\\u00e9xico\"],\"legendgroup\":\"M\\u00e9xico\",\"marker\":{\"color\":\"#636efa\",\"size\":[17846900],\"sizemode\":\"area\",\"sizeref\":5980.165289256199,\"symbol\":\"circle\"},\"mode\":\"markers\",\"name\":\"M\\u00e9xico\",\"orientation\":\"v\",\"showlegend\":true,\"type\":\"scatter\",\"x\":[17846900],\"xaxis\":\"x\",\"y\":[46003.27],\"yaxis\":\"y\"},{\"hovertemplate\":\"<b>%{hovertext}</b><br><br>Estado=Guanajuato<br>Year=2018<br>Consumption kWhr/year=%{marker.size}<br>Radiation TWhr/year=%{y}<extra></extra>\",\"hovertext\":[\"Guanajuato\"],\"ids\":[\"Guanajuato\"],\"legendgroup\":\"Guanajuato\",\"marker\":{\"color\":\"#EF553B\",\"size\":[12003100],\"sizemode\":\"area\",\"sizeref\":5980.165289256199,\"symbol\":\"circle\"},\"mode\":\"markers\",\"name\":\"Guanajuato\",\"orientation\":\"v\",\"showlegend\":true,\"type\":\"scatter\",\"x\":[12003100],\"xaxis\":\"x\",\"y\":[63149.54],\"yaxis\":\"y\"},{\"hovertemplate\":\"<b>%{hovertext}</b><br><br>Estado=Guerrero<br>Year=2018<br>Consumption kWhr/year=%{marker.size}<br>Radiation TWhr/year=%{y}<extra></extra>\",\"hovertext\":[\"Guerrero\"],\"ids\":[\"Guerrero\"],\"legendgroup\":\"Guerrero\",\"marker\":{\"color\":\"#00cc96\",\"size\":[3099300],\"sizemode\":\"area\",\"sizeref\":5980.165289256199,\"symbol\":\"circle\"},\"mode\":\"markers\",\"name\":\"Guerrero\",\"orientation\":\"v\",\"showlegend\":true,\"type\":\"scatter\",\"x\":[3099300],\"xaxis\":\"x\",\"y\":[129871.13],\"yaxis\":\"y\"},{\"hovertemplate\":\"<b>%{hovertext}</b><br><br>Estado=Hidalgo<br>Year=2018<br>Consumption kWhr/year=%{marker.size}<br>Radiation TWhr/year=%{y}<extra></extra>\",\"hovertext\":[\"Hidalgo\"],\"ids\":[\"Hidalgo\"],\"legendgroup\":\"Hidalgo\",\"marker\":{\"color\":\"#ab63fa\",\"size\":[3913500],\"sizemode\":\"area\",\"sizeref\":5980.165289256199,\"symbol\":\"circle\"},\"mode\":\"markers\",\"name\":\"Hidalgo\",\"orientation\":\"v\",\"showlegend\":true,\"type\":\"scatter\",\"x\":[3913500],\"xaxis\":\"x\",\"y\":[42813.45],\"yaxis\":\"y\"},{\"hovertemplate\":\"<b>%{hovertext}</b><br><br>Estado=Jalisco<br>Year=2018<br>Consumption kWhr/year=%{marker.size}<br>Radiation TWhr/year=%{y}<extra></extra>\",\"hovertext\":[\"Jalisco\"],\"ids\":[\"Jalisco\"],\"legendgroup\":\"Jalisco\",\"marker\":{\"color\":\"#FFA15A\",\"size\":[13476200],\"sizemode\":\"area\",\"sizeref\":5980.165289256199,\"symbol\":\"circle\"},\"mode\":\"markers\",\"name\":\"Jalisco\",\"orientation\":\"v\",\"showlegend\":true,\"type\":\"scatter\",\"x\":[13476200],\"xaxis\":\"x\",\"y\":[161651.71],\"yaxis\":\"y\"},{\"hovertemplate\":\"<b>%{hovertext}</b><br><br>Estado=Michoac\\u00e1n<br>Year=2018<br>Consumption kWhr/year=%{marker.size}<br>Radiation TWhr/year=%{y}<extra></extra>\",\"hovertext\":[\"Michoac\\u00e1n\"],\"ids\":[\"Michoac\\u00e1n\"],\"legendgroup\":\"Michoac\\u00e1n\",\"marker\":{\"color\":\"#19d3f3\",\"size\":[7819200],\"sizemode\":\"area\",\"sizeref\":5980.165289256199,\"symbol\":\"circle\"},\"mode\":\"markers\",\"name\":\"Michoac\\u00e1n\",\"orientation\":\"v\",\"showlegend\":true,\"type\":\"scatter\",\"x\":[7819200],\"xaxis\":\"x\",\"y\":[120653.92],\"yaxis\":\"y\"},{\"hovertemplate\":\"<b>%{hovertext}</b><br><br>Estado=Morelos<br>Year=2018<br>Consumption kWhr/year=%{marker.size}<br>Radiation TWhr/year=%{y}<extra></extra>\",\"hovertext\":[\"Morelos\"],\"ids\":[\"Morelos\"],\"legendgroup\":\"Morelos\",\"marker\":{\"color\":\"#FF6692\",\"size\":[2788300],\"sizemode\":\"area\",\"sizeref\":5980.165289256199,\"symbol\":\"circle\"},\"mode\":\"markers\",\"name\":\"Morelos\",\"orientation\":\"v\",\"showlegend\":true,\"type\":\"scatter\",\"x\":[2788300],\"xaxis\":\"x\",\"y\":[10053.05],\"yaxis\":\"y\"},{\"hovertemplate\":\"<b>%{hovertext}</b><br><br>Estado=Nayarit<br>Year=2018<br>Consumption kWhr/year=%{marker.size}<br>Radiation TWhr/year=%{y}<extra></extra>\",\"hovertext\":[\"Nayarit\"],\"ids\":[\"Nayarit\"],\"legendgroup\":\"Nayarit\",\"marker\":{\"color\":\"#B6E880\",\"size\":[1589400],\"sizemode\":\"area\",\"sizeref\":5980.165289256199,\"symbol\":\"circle\"},\"mode\":\"markers\",\"name\":\"Nayarit\",\"orientation\":\"v\",\"showlegend\":true,\"type\":\"scatter\",\"x\":[1589400],\"xaxis\":\"x\",\"y\":[56518.92],\"yaxis\":\"y\"},{\"hovertemplate\":\"<b>%{hovertext}</b><br><br>Estado=Nuevo Le\\u00f3n<br>Year=2018<br>Consumption kWhr/year=%{marker.size}<br>Radiation TWhr/year=%{y}<extra></extra>\",\"hovertext\":[\"Nuevo Le\\u00f3n\"],\"ids\":[\"Nuevo Le\\u00f3n\"],\"legendgroup\":\"Nuevo Le\\u00f3n\",\"marker\":{\"color\":\"#FF97FF\",\"size\":[18090000],\"sizemode\":\"area\",\"sizeref\":5980.165289256199,\"symbol\":\"circle\"},\"mode\":\"markers\",\"name\":\"Nuevo Le\\u00f3n\",\"orientation\":\"v\",\"showlegend\":true,\"type\":\"scatter\",\"x\":[18090000],\"xaxis\":\"x\",\"y\":[129899.47],\"yaxis\":\"y\"},{\"hovertemplate\":\"<b>%{hovertext}</b><br><br>Estado=Oaxaca<br>Year=2018<br>Consumption kWhr/year=%{marker.size}<br>Radiation TWhr/year=%{y}<extra></extra>\",\"hovertext\":[\"Oaxaca\"],\"ids\":[\"Oaxaca\"],\"legendgroup\":\"Oaxaca\",\"marker\":{\"color\":\"#FECB52\",\"size\":[2747400],\"sizemode\":\"area\",\"sizeref\":5980.165289256199,\"symbol\":\"circle\"},\"mode\":\"markers\",\"name\":\"Oaxaca\",\"orientation\":\"v\",\"showlegend\":true,\"type\":\"scatter\",\"x\":[2747400],\"xaxis\":\"x\",\"y\":[191064.18],\"yaxis\":\"y\"},{\"hovertemplate\":\"<b>%{hovertext}</b><br><br>Estado=Puebla<br>Year=2018<br>Consumption kWhr/year=%{marker.size}<br>Radiation TWhr/year=%{y}<extra></extra>\",\"hovertext\":[\"Puebla\"],\"ids\":[\"Puebla\"],\"legendgroup\":\"Puebla\",\"marker\":{\"color\":\"#636efa\",\"size\":[7817000],\"sizemode\":\"area\",\"sizeref\":5980.165289256199,\"symbol\":\"circle\"},\"mode\":\"markers\",\"name\":\"Puebla\",\"orientation\":\"v\",\"showlegend\":true,\"type\":\"scatter\",\"x\":[7817000],\"xaxis\":\"x\",\"y\":[70279.81],\"yaxis\":\"y\"},{\"hovertemplate\":\"<b>%{hovertext}</b><br><br>Estado=Quer\\u00e9taro<br>Year=2018<br>Consumption kWhr/year=%{marker.size}<br>Radiation TWhr/year=%{y}<extra></extra>\",\"hovertext\":[\"Quer\\u00e9taro\"],\"ids\":[\"Quer\\u00e9taro\"],\"legendgroup\":\"Quer\\u00e9taro\",\"marker\":{\"color\":\"#EF553B\",\"size\":[5458800],\"sizemode\":\"area\",\"sizeref\":5980.165289256199,\"symbol\":\"circle\"},\"mode\":\"markers\",\"name\":\"Quer\\u00e9taro\",\"orientation\":\"v\",\"showlegend\":true,\"type\":\"scatter\",\"x\":[5458800],\"xaxis\":\"x\",\"y\":[24133.57],\"yaxis\":\"y\"},{\"hovertemplate\":\"<b>%{hovertext}</b><br><br>Estado=Quintana Roo<br>Year=2018<br>Consumption kWhr/year=%{marker.size}<br>Radiation TWhr/year=%{y}<extra></extra>\",\"hovertext\":[\"Quintana Roo\"],\"ids\":[\"Quintana Roo\"],\"legendgroup\":\"Quintana Roo\",\"marker\":{\"color\":\"#00cc96\",\"size\":[5012400],\"sizemode\":\"area\",\"sizeref\":5980.165289256199,\"symbol\":\"circle\"},\"mode\":\"markers\",\"name\":\"Quintana Roo\",\"orientation\":\"v\",\"showlegend\":true,\"type\":\"scatter\",\"x\":[5012400],\"xaxis\":\"x\",\"y\":[90878.83],\"yaxis\":\"y\"},{\"hovertemplate\":\"<b>%{hovertext}</b><br><br>Estado=San Luis Potos\\u00ed<br>Year=2018<br>Consumption kWhr/year=%{marker.size}<br>Radiation TWhr/year=%{y}<extra></extra>\",\"hovertext\":[\"San Luis Potos\\u00ed\"],\"ids\":[\"San Luis Potos\\u00ed\"],\"legendgroup\":\"San Luis Potos\\u00ed\",\"marker\":{\"color\":\"#ab63fa\",\"size\":[5921700],\"sizemode\":\"area\",\"sizeref\":5980.165289256199,\"symbol\":\"circle\"},\"mode\":\"markers\",\"name\":\"San Luis Potos\\u00ed\",\"orientation\":\"v\",\"showlegend\":true,\"type\":\"scatter\",\"x\":[5921700],\"xaxis\":\"x\",\"y\":[124225.89],\"yaxis\":\"y\"},{\"hovertemplate\":\"<b>%{hovertext}</b><br><br>Estado=Sinaloa<br>Year=2018<br>Consumption kWhr/year=%{marker.size}<br>Radiation TWhr/year=%{y}<extra></extra>\",\"hovertext\":[\"Sinaloa\"],\"ids\":[\"Sinaloa\"],\"legendgroup\":\"Sinaloa\",\"marker\":{\"color\":\"#FFA15A\",\"size\":[7127800],\"sizemode\":\"area\",\"sizeref\":5980.165289256199,\"symbol\":\"circle\"},\"mode\":\"markers\",\"name\":\"Sinaloa\",\"orientation\":\"v\",\"showlegend\":true,\"type\":\"scatter\",\"x\":[7127800],\"xaxis\":\"x\",\"y\":[117886.78],\"yaxis\":\"y\"},{\"hovertemplate\":\"<b>%{hovertext}</b><br><br>Estado=Sonora<br>Year=2018<br>Consumption kWhr/year=%{marker.size}<br>Radiation TWhr/year=%{y}<extra></extra>\",\"hovertext\":[\"Sonora\"],\"ids\":[\"Sonora\"],\"legendgroup\":\"Sonora\",\"marker\":{\"color\":\"#19d3f3\",\"size\":[10458400],\"sizemode\":\"area\",\"sizeref\":5980.165289256199,\"symbol\":\"circle\"},\"mode\":\"markers\",\"name\":\"Sonora\",\"orientation\":\"v\",\"showlegend\":true,\"type\":\"scatter\",\"x\":[10458400],\"xaxis\":\"x\",\"y\":[363869.91],\"yaxis\":\"y\"},{\"hovertemplate\":\"<b>%{hovertext}</b><br><br>Estado=Tabasco<br>Year=2018<br>Consumption kWhr/year=%{marker.size}<br>Radiation TWhr/year=%{y}<extra></extra>\",\"hovertext\":[\"Tabasco\"],\"ids\":[\"Tabasco\"],\"legendgroup\":\"Tabasco\",\"marker\":{\"color\":\"#FF6692\",\"size\":[3292500],\"sizemode\":\"area\",\"sizeref\":5980.165289256199,\"symbol\":\"circle\"},\"mode\":\"markers\",\"name\":\"Tabasco\",\"orientation\":\"v\",\"showlegend\":true,\"type\":\"scatter\",\"x\":[3292500],\"xaxis\":\"x\",\"y\":[50292.63],\"yaxis\":\"y\"},{\"hovertemplate\":\"<b>%{hovertext}</b><br><br>Estado=Tamaulipas<br>Year=2018<br>Consumption kWhr/year=%{marker.size}<br>Radiation TWhr/year=%{y}<extra></extra>\",\"hovertext\":[\"Tamaulipas\"],\"ids\":[\"Tamaulipas\"],\"legendgroup\":\"Tamaulipas\",\"marker\":{\"color\":\"#B6E880\",\"size\":[8941900],\"sizemode\":\"area\",\"sizeref\":5980.165289256199,\"symbol\":\"circle\"},\"mode\":\"markers\",\"name\":\"Tamaulipas\",\"orientation\":\"v\",\"showlegend\":true,\"type\":\"scatter\",\"x\":[8941900],\"xaxis\":\"x\",\"y\":[161886.84],\"yaxis\":\"y\"},{\"hovertemplate\":\"<b>%{hovertext}</b><br><br>Estado=Tlaxcala<br>Year=2018<br>Consumption kWhr/year=%{marker.size}<br>Radiation TWhr/year=%{y}<extra></extra>\",\"hovertext\":[\"Tlaxcala\"],\"ids\":[\"Tlaxcala\"],\"legendgroup\":\"Tlaxcala\",\"marker\":{\"color\":\"#FF97FF\",\"size\":[1774500],\"sizemode\":\"area\",\"sizeref\":5980.165289256199,\"symbol\":\"circle\"},\"mode\":\"markers\",\"name\":\"Tlaxcala\",\"orientation\":\"v\",\"showlegend\":true,\"type\":\"scatter\",\"x\":[1774500],\"xaxis\":\"x\",\"y\":[8162.76],\"yaxis\":\"y\"},{\"hovertemplate\":\"<b>%{hovertext}</b><br><br>Estado=Veracruz<br>Year=2018<br>Consumption kWhr/year=%{marker.size}<br>Radiation TWhr/year=%{y}<extra></extra>\",\"hovertext\":[\"Veracruz\"],\"ids\":[\"Veracruz\"],\"legendgroup\":\"Veracruz\",\"marker\":{\"color\":\"#FECB52\",\"size\":[10323400],\"sizemode\":\"area\",\"sizeref\":5980.165289256199,\"symbol\":\"circle\"},\"mode\":\"markers\",\"name\":\"Veracruz\",\"orientation\":\"v\",\"showlegend\":true,\"type\":\"scatter\",\"x\":[10323400],\"xaxis\":\"x\",\"y\":[144215.24],\"yaxis\":\"y\"},{\"hovertemplate\":\"<b>%{hovertext}</b><br><br>Estado=Yucat\\u00e1n<br>Year=2018<br>Consumption kWhr/year=%{marker.size}<br>Radiation TWhr/year=%{y}<extra></extra>\",\"hovertext\":[\"Yucat\\u00e1n\"],\"ids\":[\"Yucat\\u00e1n\"],\"legendgroup\":\"Yucat\\u00e1n\",\"marker\":{\"color\":\"#636efa\",\"size\":[3811500],\"sizemode\":\"area\",\"sizeref\":5980.165289256199,\"symbol\":\"circle\"},\"mode\":\"markers\",\"name\":\"Yucat\\u00e1n\",\"orientation\":\"v\",\"showlegend\":true,\"type\":\"scatter\",\"x\":[3811500],\"xaxis\":\"x\",\"y\":[81226.88],\"yaxis\":\"y\"},{\"hovertemplate\":\"<b>%{hovertext}</b><br><br>Estado=Zacatecas<br>Year=2018<br>Consumption kWhr/year=%{marker.size}<br>Radiation TWhr/year=%{y}<extra></extra>\",\"hovertext\":[\"Zacatecas\"],\"ids\":[\"Zacatecas\"],\"legendgroup\":\"Zacatecas\",\"marker\":{\"color\":\"#EF553B\",\"size\":[2120700],\"sizemode\":\"area\",\"sizeref\":5980.165289256199,\"symbol\":\"circle\"},\"mode\":\"markers\",\"name\":\"Zacatecas\",\"orientation\":\"v\",\"showlegend\":true,\"type\":\"scatter\",\"x\":[2120700],\"xaxis\":\"x\",\"y\":[153097.54],\"yaxis\":\"y\"}],\"name\":\"2018\"},{\"data\":[{\"hovertemplate\":\"<b>%{hovertext}</b><br><br>Estado=Aguascalientes<br>Year=2019<br>Consumption kWhr/year=%{marker.size}<br>Radiation TWhr/year=%{y}<extra></extra>\",\"hovertext\":[\"Aguascalientes\"],\"ids\":[\"Aguascalientes\"],\"legendgroup\":\"Aguascalientes\",\"marker\":{\"color\":\"#636efa\",\"size\":[2911300],\"sizemode\":\"area\",\"sizeref\":5980.165289256199,\"symbol\":\"circle\"},\"mode\":\"markers\",\"name\":\"Aguascalientes\",\"orientation\":\"v\",\"showlegend\":true,\"type\":\"scatter\",\"x\":[2911300],\"xaxis\":\"x\",\"y\":[11566.22],\"yaxis\":\"y\"},{\"hovertemplate\":\"<b>%{hovertext}</b><br><br>Estado=Baja California<br>Year=2019<br>Consumption kWhr/year=%{marker.size}<br>Radiation TWhr/year=%{y}<extra></extra>\",\"hovertext\":[\"Baja California\"],\"ids\":[\"Baja California\"],\"legendgroup\":\"Baja California\",\"marker\":{\"color\":\"#EF553B\",\"size\":[10489800],\"sizemode\":\"area\",\"sizeref\":5980.165289256199,\"symbol\":\"circle\"},\"mode\":\"markers\",\"name\":\"Baja California\",\"orientation\":\"v\",\"showlegend\":true,\"type\":\"scatter\",\"x\":[10489800],\"xaxis\":\"x\",\"y\":[139802.77],\"yaxis\":\"y\"},{\"hovertemplate\":\"<b>%{hovertext}</b><br><br>Estado=Baja California Sur<br>Year=2019<br>Consumption kWhr/year=%{marker.size}<br>Radiation TWhr/year=%{y}<extra></extra>\",\"hovertext\":[\"Baja California Sur\"],\"ids\":[\"Baja California Sur\"],\"legendgroup\":\"Baja California Sur\",\"marker\":{\"color\":\"#00cc96\",\"size\":[2595900],\"sizemode\":\"area\",\"sizeref\":5980.165289256199,\"symbol\":\"circle\"},\"mode\":\"markers\",\"name\":\"Baja California Sur\",\"orientation\":\"v\",\"showlegend\":true,\"type\":\"scatter\",\"x\":[2595900],\"xaxis\":\"x\",\"y\":[148381.95],\"yaxis\":\"y\"},{\"hovertemplate\":\"<b>%{hovertext}</b><br><br>Estado=Campeche<br>Year=2019<br>Consumption kWhr/year=%{marker.size}<br>Radiation TWhr/year=%{y}<extra></extra>\",\"hovertext\":[\"Campeche\"],\"ids\":[\"Campeche\"],\"legendgroup\":\"Campeche\",\"marker\":{\"color\":\"#ab63fa\",\"size\":[1388300],\"sizemode\":\"area\",\"sizeref\":5980.165289256199,\"symbol\":\"circle\"},\"mode\":\"markers\",\"name\":\"Campeche\",\"orientation\":\"v\",\"showlegend\":true,\"type\":\"scatter\",\"x\":[1388300],\"xaxis\":\"x\",\"y\":[117967.63],\"yaxis\":\"y\"},{\"hovertemplate\":\"<b>%{hovertext}</b><br><br>Estado=Chiapas<br>Year=2019<br>Consumption kWhr/year=%{marker.size}<br>Radiation TWhr/year=%{y}<extra></extra>\",\"hovertext\":[\"Chiapas\"],\"ids\":[\"Chiapas\"],\"legendgroup\":\"Chiapas\",\"marker\":{\"color\":\"#FFA15A\",\"size\":[3339700],\"sizemode\":\"area\",\"sizeref\":5980.165289256199,\"symbol\":\"circle\"},\"mode\":\"markers\",\"name\":\"Chiapas\",\"orientation\":\"v\",\"showlegend\":true,\"type\":\"scatter\",\"x\":[3339700],\"xaxis\":\"x\",\"y\":[148325.68],\"yaxis\":\"y\"},{\"hovertemplate\":\"<b>%{hovertext}</b><br><br>Estado=Chihuahua<br>Year=2019<br>Consumption kWhr/year=%{marker.size}<br>Radiation TWhr/year=%{y}<extra></extra>\",\"hovertext\":[\"Chihuahua\"],\"ids\":[\"Chihuahua\"],\"legendgroup\":\"Chihuahua\",\"marker\":{\"color\":\"#19d3f3\",\"size\":[12949700],\"sizemode\":\"area\",\"sizeref\":5980.165289256199,\"symbol\":\"circle\"},\"mode\":\"markers\",\"name\":\"Chihuahua\",\"orientation\":\"v\",\"showlegend\":true,\"type\":\"scatter\",\"x\":[12949700],\"xaxis\":\"x\",\"y\":[502440.45],\"yaxis\":\"y\"},{\"hovertemplate\":\"<b>%{hovertext}</b><br><br>Estado=Coahuila<br>Year=2019<br>Consumption kWhr/year=%{marker.size}<br>Radiation TWhr/year=%{y}<extra></extra>\",\"hovertext\":[\"Coahuila\"],\"ids\":[\"Coahuila\"],\"legendgroup\":\"Coahuila\",\"marker\":{\"color\":\"#FF6692\",\"size\":[10920200],\"sizemode\":\"area\",\"sizeref\":5980.165289256199,\"symbol\":\"circle\"},\"mode\":\"markers\",\"name\":\"Coahuila\",\"orientation\":\"v\",\"showlegend\":true,\"type\":\"scatter\",\"x\":[10920200],\"xaxis\":\"x\",\"y\":[307139.86],\"yaxis\":\"y\"},{\"hovertemplate\":\"<b>%{hovertext}</b><br><br>Estado=Colima<br>Year=2019<br>Consumption kWhr/year=%{marker.size}<br>Radiation TWhr/year=%{y}<extra></extra>\",\"hovertext\":[\"Colima\"],\"ids\":[\"Colima\"],\"legendgroup\":\"Colima\",\"marker\":{\"color\":\"#B6E880\",\"size\":[2058500],\"sizemode\":\"area\",\"sizeref\":5980.165289256199,\"symbol\":\"circle\"},\"mode\":\"markers\",\"name\":\"Colima\",\"orientation\":\"v\",\"showlegend\":true,\"type\":\"scatter\",\"x\":[2058500],\"xaxis\":\"x\",\"y\":[11584.71],\"yaxis\":\"y\"},{\"hovertemplate\":\"<b>%{hovertext}</b><br><br>Estado=Distrito Federal<br>Year=2019<br>Consumption kWhr/year=%{marker.size}<br>Radiation TWhr/year=%{y}<extra></extra>\",\"hovertext\":[\"Distrito Federal\"],\"ids\":[\"Distrito Federal\"],\"legendgroup\":\"Distrito Federal\",\"marker\":{\"color\":\"#FF97FF\",\"size\":[12910500],\"sizemode\":\"area\",\"sizeref\":5980.165289256199,\"symbol\":\"circle\"},\"mode\":\"markers\",\"name\":\"Distrito Federal\",\"orientation\":\"v\",\"showlegend\":true,\"type\":\"scatter\",\"x\":[12910500],\"xaxis\":\"x\",\"y\":[3076.37],\"yaxis\":\"y\"},{\"hovertemplate\":\"<b>%{hovertext}</b><br><br>Estado=Durango<br>Year=2019<br>Consumption kWhr/year=%{marker.size}<br>Radiation TWhr/year=%{y}<extra></extra>\",\"hovertext\":[\"Durango\"],\"ids\":[\"Durango\"],\"legendgroup\":\"Durango\",\"marker\":{\"color\":\"#FECB52\",\"size\":[3383100],\"sizemode\":\"area\",\"sizeref\":5980.165289256199,\"symbol\":\"circle\"},\"mode\":\"markers\",\"name\":\"Durango\",\"orientation\":\"v\",\"showlegend\":true,\"type\":\"scatter\",\"x\":[3383100],\"xaxis\":\"x\",\"y\":[249750.34],\"yaxis\":\"y\"},{\"hovertemplate\":\"<b>%{hovertext}</b><br><br>Estado=M\\u00e9xico<br>Year=2019<br>Consumption kWhr/year=%{marker.size}<br>Radiation TWhr/year=%{y}<extra></extra>\",\"hovertext\":[\"M\\u00e9xico\"],\"ids\":[\"M\\u00e9xico\"],\"legendgroup\":\"M\\u00e9xico\",\"marker\":{\"color\":\"#636efa\",\"size\":[17489400],\"sizemode\":\"area\",\"sizeref\":5980.165289256199,\"symbol\":\"circle\"},\"mode\":\"markers\",\"name\":\"M\\u00e9xico\",\"orientation\":\"v\",\"showlegend\":true,\"type\":\"scatter\",\"x\":[17489400],\"xaxis\":\"x\",\"y\":[46003.27],\"yaxis\":\"y\"},{\"hovertemplate\":\"<b>%{hovertext}</b><br><br>Estado=Guanajuato<br>Year=2019<br>Consumption kWhr/year=%{marker.size}<br>Radiation TWhr/year=%{y}<extra></extra>\",\"hovertext\":[\"Guanajuato\"],\"ids\":[\"Guanajuato\"],\"legendgroup\":\"Guanajuato\",\"marker\":{\"color\":\"#EF553B\",\"size\":[12033900],\"sizemode\":\"area\",\"sizeref\":5980.165289256199,\"symbol\":\"circle\"},\"mode\":\"markers\",\"name\":\"Guanajuato\",\"orientation\":\"v\",\"showlegend\":true,\"type\":\"scatter\",\"x\":[12033900],\"xaxis\":\"x\",\"y\":[63149.54],\"yaxis\":\"y\"},{\"hovertemplate\":\"<b>%{hovertext}</b><br><br>Estado=Guerrero<br>Year=2019<br>Consumption kWhr/year=%{marker.size}<br>Radiation TWhr/year=%{y}<extra></extra>\",\"hovertext\":[\"Guerrero\"],\"ids\":[\"Guerrero\"],\"legendgroup\":\"Guerrero\",\"marker\":{\"color\":\"#00cc96\",\"size\":[3177000],\"sizemode\":\"area\",\"sizeref\":5980.165289256199,\"symbol\":\"circle\"},\"mode\":\"markers\",\"name\":\"Guerrero\",\"orientation\":\"v\",\"showlegend\":true,\"type\":\"scatter\",\"x\":[3177000],\"xaxis\":\"x\",\"y\":[129871.13],\"yaxis\":\"y\"},{\"hovertemplate\":\"<b>%{hovertext}</b><br><br>Estado=Hidalgo<br>Year=2019<br>Consumption kWhr/year=%{marker.size}<br>Radiation TWhr/year=%{y}<extra></extra>\",\"hovertext\":[\"Hidalgo\"],\"ids\":[\"Hidalgo\"],\"legendgroup\":\"Hidalgo\",\"marker\":{\"color\":\"#ab63fa\",\"size\":[3919800],\"sizemode\":\"area\",\"sizeref\":5980.165289256199,\"symbol\":\"circle\"},\"mode\":\"markers\",\"name\":\"Hidalgo\",\"orientation\":\"v\",\"showlegend\":true,\"type\":\"scatter\",\"x\":[3919800],\"xaxis\":\"x\",\"y\":[42813.45],\"yaxis\":\"y\"},{\"hovertemplate\":\"<b>%{hovertext}</b><br><br>Estado=Jalisco<br>Year=2019<br>Consumption kWhr/year=%{marker.size}<br>Radiation TWhr/year=%{y}<extra></extra>\",\"hovertext\":[\"Jalisco\"],\"ids\":[\"Jalisco\"],\"legendgroup\":\"Jalisco\",\"marker\":{\"color\":\"#FFA15A\",\"size\":[13851200],\"sizemode\":\"area\",\"sizeref\":5980.165289256199,\"symbol\":\"circle\"},\"mode\":\"markers\",\"name\":\"Jalisco\",\"orientation\":\"v\",\"showlegend\":true,\"type\":\"scatter\",\"x\":[13851200],\"xaxis\":\"x\",\"y\":[161651.71],\"yaxis\":\"y\"},{\"hovertemplate\":\"<b>%{hovertext}</b><br><br>Estado=Michoac\\u00e1n<br>Year=2019<br>Consumption kWhr/year=%{marker.size}<br>Radiation TWhr/year=%{y}<extra></extra>\",\"hovertext\":[\"Michoac\\u00e1n\"],\"ids\":[\"Michoac\\u00e1n\"],\"legendgroup\":\"Michoac\\u00e1n\",\"marker\":{\"color\":\"#19d3f3\",\"size\":[7807700],\"sizemode\":\"area\",\"sizeref\":5980.165289256199,\"symbol\":\"circle\"},\"mode\":\"markers\",\"name\":\"Michoac\\u00e1n\",\"orientation\":\"v\",\"showlegend\":true,\"type\":\"scatter\",\"x\":[7807700],\"xaxis\":\"x\",\"y\":[120653.92],\"yaxis\":\"y\"},{\"hovertemplate\":\"<b>%{hovertext}</b><br><br>Estado=Morelos<br>Year=2019<br>Consumption kWhr/year=%{marker.size}<br>Radiation TWhr/year=%{y}<extra></extra>\",\"hovertext\":[\"Morelos\"],\"ids\":[\"Morelos\"],\"legendgroup\":\"Morelos\",\"marker\":{\"color\":\"#FF6692\",\"size\":[2553200],\"sizemode\":\"area\",\"sizeref\":5980.165289256199,\"symbol\":\"circle\"},\"mode\":\"markers\",\"name\":\"Morelos\",\"orientation\":\"v\",\"showlegend\":true,\"type\":\"scatter\",\"x\":[2553200],\"xaxis\":\"x\",\"y\":[10053.05],\"yaxis\":\"y\"},{\"hovertemplate\":\"<b>%{hovertext}</b><br><br>Estado=Nayarit<br>Year=2019<br>Consumption kWhr/year=%{marker.size}<br>Radiation TWhr/year=%{y}<extra></extra>\",\"hovertext\":[\"Nayarit\"],\"ids\":[\"Nayarit\"],\"legendgroup\":\"Nayarit\",\"marker\":{\"color\":\"#B6E880\",\"size\":[1656000],\"sizemode\":\"area\",\"sizeref\":5980.165289256199,\"symbol\":\"circle\"},\"mode\":\"markers\",\"name\":\"Nayarit\",\"orientation\":\"v\",\"showlegend\":true,\"type\":\"scatter\",\"x\":[1656000],\"xaxis\":\"x\",\"y\":[56518.92],\"yaxis\":\"y\"},{\"hovertemplate\":\"<b>%{hovertext}</b><br><br>Estado=Nuevo Le\\u00f3n<br>Year=2019<br>Consumption kWhr/year=%{marker.size}<br>Radiation TWhr/year=%{y}<extra></extra>\",\"hovertext\":[\"Nuevo Le\\u00f3n\"],\"ids\":[\"Nuevo Le\\u00f3n\"],\"legendgroup\":\"Nuevo Le\\u00f3n\",\"marker\":{\"color\":\"#FF97FF\",\"size\":[17655400],\"sizemode\":\"area\",\"sizeref\":5980.165289256199,\"symbol\":\"circle\"},\"mode\":\"markers\",\"name\":\"Nuevo Le\\u00f3n\",\"orientation\":\"v\",\"showlegend\":true,\"type\":\"scatter\",\"x\":[17655400],\"xaxis\":\"x\",\"y\":[129899.47],\"yaxis\":\"y\"},{\"hovertemplate\":\"<b>%{hovertext}</b><br><br>Estado=Oaxaca<br>Year=2019<br>Consumption kWhr/year=%{marker.size}<br>Radiation TWhr/year=%{y}<extra></extra>\",\"hovertext\":[\"Oaxaca\"],\"ids\":[\"Oaxaca\"],\"legendgroup\":\"Oaxaca\",\"marker\":{\"color\":\"#FECB52\",\"size\":[2900100],\"sizemode\":\"area\",\"sizeref\":5980.165289256199,\"symbol\":\"circle\"},\"mode\":\"markers\",\"name\":\"Oaxaca\",\"orientation\":\"v\",\"showlegend\":true,\"type\":\"scatter\",\"x\":[2900100],\"xaxis\":\"x\",\"y\":[191064.18],\"yaxis\":\"y\"},{\"hovertemplate\":\"<b>%{hovertext}</b><br><br>Estado=Puebla<br>Year=2019<br>Consumption kWhr/year=%{marker.size}<br>Radiation TWhr/year=%{y}<extra></extra>\",\"hovertext\":[\"Puebla\"],\"ids\":[\"Puebla\"],\"legendgroup\":\"Puebla\",\"marker\":{\"color\":\"#636efa\",\"size\":[7610500],\"sizemode\":\"area\",\"sizeref\":5980.165289256199,\"symbol\":\"circle\"},\"mode\":\"markers\",\"name\":\"Puebla\",\"orientation\":\"v\",\"showlegend\":true,\"type\":\"scatter\",\"x\":[7610500],\"xaxis\":\"x\",\"y\":[70279.81],\"yaxis\":\"y\"},{\"hovertemplate\":\"<b>%{hovertext}</b><br><br>Estado=Quer\\u00e9taro<br>Year=2019<br>Consumption kWhr/year=%{marker.size}<br>Radiation TWhr/year=%{y}<extra></extra>\",\"hovertext\":[\"Quer\\u00e9taro\"],\"ids\":[\"Quer\\u00e9taro\"],\"legendgroup\":\"Quer\\u00e9taro\",\"marker\":{\"color\":\"#EF553B\",\"size\":[5543900],\"sizemode\":\"area\",\"sizeref\":5980.165289256199,\"symbol\":\"circle\"},\"mode\":\"markers\",\"name\":\"Quer\\u00e9taro\",\"orientation\":\"v\",\"showlegend\":true,\"type\":\"scatter\",\"x\":[5543900],\"xaxis\":\"x\",\"y\":[24133.57],\"yaxis\":\"y\"},{\"hovertemplate\":\"<b>%{hovertext}</b><br><br>Estado=Quintana Roo<br>Year=2019<br>Consumption kWhr/year=%{marker.size}<br>Radiation TWhr/year=%{y}<extra></extra>\",\"hovertext\":[\"Quintana Roo\"],\"ids\":[\"Quintana Roo\"],\"legendgroup\":\"Quintana Roo\",\"marker\":{\"color\":\"#00cc96\",\"size\":[5297400],\"sizemode\":\"area\",\"sizeref\":5980.165289256199,\"symbol\":\"circle\"},\"mode\":\"markers\",\"name\":\"Quintana Roo\",\"orientation\":\"v\",\"showlegend\":true,\"type\":\"scatter\",\"x\":[5297400],\"xaxis\":\"x\",\"y\":[90878.83],\"yaxis\":\"y\"},{\"hovertemplate\":\"<b>%{hovertext}</b><br><br>Estado=San Luis Potos\\u00ed<br>Year=2019<br>Consumption kWhr/year=%{marker.size}<br>Radiation TWhr/year=%{y}<extra></extra>\",\"hovertext\":[\"San Luis Potos\\u00ed\"],\"ids\":[\"San Luis Potos\\u00ed\"],\"legendgroup\":\"San Luis Potos\\u00ed\",\"marker\":{\"color\":\"#ab63fa\",\"size\":[5982900],\"sizemode\":\"area\",\"sizeref\":5980.165289256199,\"symbol\":\"circle\"},\"mode\":\"markers\",\"name\":\"San Luis Potos\\u00ed\",\"orientation\":\"v\",\"showlegend\":true,\"type\":\"scatter\",\"x\":[5982900],\"xaxis\":\"x\",\"y\":[124225.89],\"yaxis\":\"y\"},{\"hovertemplate\":\"<b>%{hovertext}</b><br><br>Estado=Sinaloa<br>Year=2019<br>Consumption kWhr/year=%{marker.size}<br>Radiation TWhr/year=%{y}<extra></extra>\",\"hovertext\":[\"Sinaloa\"],\"ids\":[\"Sinaloa\"],\"legendgroup\":\"Sinaloa\",\"marker\":{\"color\":\"#FFA15A\",\"size\":[7256100],\"sizemode\":\"area\",\"sizeref\":5980.165289256199,\"symbol\":\"circle\"},\"mode\":\"markers\",\"name\":\"Sinaloa\",\"orientation\":\"v\",\"showlegend\":true,\"type\":\"scatter\",\"x\":[7256100],\"xaxis\":\"x\",\"y\":[117886.78],\"yaxis\":\"y\"},{\"hovertemplate\":\"<b>%{hovertext}</b><br><br>Estado=Sonora<br>Year=2019<br>Consumption kWhr/year=%{marker.size}<br>Radiation TWhr/year=%{y}<extra></extra>\",\"hovertext\":[\"Sonora\"],\"ids\":[\"Sonora\"],\"legendgroup\":\"Sonora\",\"marker\":{\"color\":\"#19d3f3\",\"size\":[10553500],\"sizemode\":\"area\",\"sizeref\":5980.165289256199,\"symbol\":\"circle\"},\"mode\":\"markers\",\"name\":\"Sonora\",\"orientation\":\"v\",\"showlegend\":true,\"type\":\"scatter\",\"x\":[10553500],\"xaxis\":\"x\",\"y\":[363869.91],\"yaxis\":\"y\"},{\"hovertemplate\":\"<b>%{hovertext}</b><br><br>Estado=Tabasco<br>Year=2019<br>Consumption kWhr/year=%{marker.size}<br>Radiation TWhr/year=%{y}<extra></extra>\",\"hovertext\":[\"Tabasco\"],\"ids\":[\"Tabasco\"],\"legendgroup\":\"Tabasco\",\"marker\":{\"color\":\"#FF6692\",\"size\":[3336100],\"sizemode\":\"area\",\"sizeref\":5980.165289256199,\"symbol\":\"circle\"},\"mode\":\"markers\",\"name\":\"Tabasco\",\"orientation\":\"v\",\"showlegend\":true,\"type\":\"scatter\",\"x\":[3336100],\"xaxis\":\"x\",\"y\":[50292.63],\"yaxis\":\"y\"},{\"hovertemplate\":\"<b>%{hovertext}</b><br><br>Estado=Tamaulipas<br>Year=2019<br>Consumption kWhr/year=%{marker.size}<br>Radiation TWhr/year=%{y}<extra></extra>\",\"hovertext\":[\"Tamaulipas\"],\"ids\":[\"Tamaulipas\"],\"legendgroup\":\"Tamaulipas\",\"marker\":{\"color\":\"#B6E880\",\"size\":[9100700],\"sizemode\":\"area\",\"sizeref\":5980.165289256199,\"symbol\":\"circle\"},\"mode\":\"markers\",\"name\":\"Tamaulipas\",\"orientation\":\"v\",\"showlegend\":true,\"type\":\"scatter\",\"x\":[9100700],\"xaxis\":\"x\",\"y\":[161886.84],\"yaxis\":\"y\"},{\"hovertemplate\":\"<b>%{hovertext}</b><br><br>Estado=Tlaxcala<br>Year=2019<br>Consumption kWhr/year=%{marker.size}<br>Radiation TWhr/year=%{y}<extra></extra>\",\"hovertext\":[\"Tlaxcala\"],\"ids\":[\"Tlaxcala\"],\"legendgroup\":\"Tlaxcala\",\"marker\":{\"color\":\"#FF97FF\",\"size\":[1625400],\"sizemode\":\"area\",\"sizeref\":5980.165289256199,\"symbol\":\"circle\"},\"mode\":\"markers\",\"name\":\"Tlaxcala\",\"orientation\":\"v\",\"showlegend\":true,\"type\":\"scatter\",\"x\":[1625400],\"xaxis\":\"x\",\"y\":[8162.76],\"yaxis\":\"y\"},{\"hovertemplate\":\"<b>%{hovertext}</b><br><br>Estado=Veracruz<br>Year=2019<br>Consumption kWhr/year=%{marker.size}<br>Radiation TWhr/year=%{y}<extra></extra>\",\"hovertext\":[\"Veracruz\"],\"ids\":[\"Veracruz\"],\"legendgroup\":\"Veracruz\",\"marker\":{\"color\":\"#FECB52\",\"size\":[10112000],\"sizemode\":\"area\",\"sizeref\":5980.165289256199,\"symbol\":\"circle\"},\"mode\":\"markers\",\"name\":\"Veracruz\",\"orientation\":\"v\",\"showlegend\":true,\"type\":\"scatter\",\"x\":[10112000],\"xaxis\":\"x\",\"y\":[144215.24],\"yaxis\":\"y\"},{\"hovertemplate\":\"<b>%{hovertext}</b><br><br>Estado=Yucat\\u00e1n<br>Year=2019<br>Consumption kWhr/year=%{marker.size}<br>Radiation TWhr/year=%{y}<extra></extra>\",\"hovertext\":[\"Yucat\\u00e1n\"],\"ids\":[\"Yucat\\u00e1n\"],\"legendgroup\":\"Yucat\\u00e1n\",\"marker\":{\"color\":\"#636efa\",\"size\":[4107800],\"sizemode\":\"area\",\"sizeref\":5980.165289256199,\"symbol\":\"circle\"},\"mode\":\"markers\",\"name\":\"Yucat\\u00e1n\",\"orientation\":\"v\",\"showlegend\":true,\"type\":\"scatter\",\"x\":[4107800],\"xaxis\":\"x\",\"y\":[81226.88],\"yaxis\":\"y\"},{\"hovertemplate\":\"<b>%{hovertext}</b><br><br>Estado=Zacatecas<br>Year=2019<br>Consumption kWhr/year=%{marker.size}<br>Radiation TWhr/year=%{y}<extra></extra>\",\"hovertext\":[\"Zacatecas\"],\"ids\":[\"Zacatecas\"],\"legendgroup\":\"Zacatecas\",\"marker\":{\"color\":\"#EF553B\",\"size\":[2418600],\"sizemode\":\"area\",\"sizeref\":5980.165289256199,\"symbol\":\"circle\"},\"mode\":\"markers\",\"name\":\"Zacatecas\",\"orientation\":\"v\",\"showlegend\":true,\"type\":\"scatter\",\"x\":[2418600],\"xaxis\":\"x\",\"y\":[153097.54],\"yaxis\":\"y\"}],\"name\":\"2019\"},{\"data\":[{\"hovertemplate\":\"<b>%{hovertext}</b><br><br>Estado=Aguascalientes<br>Year=2020<br>Consumption kWhr/year=%{marker.size}<br>Radiation TWhr/year=%{y}<extra></extra>\",\"hovertext\":[\"Aguascalientes\"],\"ids\":[\"Aguascalientes\"],\"legendgroup\":\"Aguascalientes\",\"marker\":{\"color\":\"#636efa\",\"size\":[1302600],\"sizemode\":\"area\",\"sizeref\":5980.165289256199,\"symbol\":\"circle\"},\"mode\":\"markers\",\"name\":\"Aguascalientes\",\"orientation\":\"v\",\"showlegend\":true,\"type\":\"scatter\",\"x\":[1302600],\"xaxis\":\"x\",\"y\":[11566.22],\"yaxis\":\"y\"},{\"hovertemplate\":\"<b>%{hovertext}</b><br><br>Estado=Baja California<br>Year=2020<br>Consumption kWhr/year=%{marker.size}<br>Radiation TWhr/year=%{y}<extra></extra>\",\"hovertext\":[\"Baja California\"],\"ids\":[\"Baja California\"],\"legendgroup\":\"Baja California\",\"marker\":{\"color\":\"#EF553B\",\"size\":[4469800],\"sizemode\":\"area\",\"sizeref\":5980.165289256199,\"symbol\":\"circle\"},\"mode\":\"markers\",\"name\":\"Baja California\",\"orientation\":\"v\",\"showlegend\":true,\"type\":\"scatter\",\"x\":[4469800],\"xaxis\":\"x\",\"y\":[139802.77],\"yaxis\":\"y\"},{\"hovertemplate\":\"<b>%{hovertext}</b><br><br>Estado=Baja California Sur<br>Year=2020<br>Consumption kWhr/year=%{marker.size}<br>Radiation TWhr/year=%{y}<extra></extra>\",\"hovertext\":[\"Baja California Sur\"],\"ids\":[\"Baja California Sur\"],\"legendgroup\":\"Baja California Sur\",\"marker\":{\"color\":\"#00cc96\",\"size\":[1010600],\"sizemode\":\"area\",\"sizeref\":5980.165289256199,\"symbol\":\"circle\"},\"mode\":\"markers\",\"name\":\"Baja California Sur\",\"orientation\":\"v\",\"showlegend\":true,\"type\":\"scatter\",\"x\":[1010600],\"xaxis\":\"x\",\"y\":[148381.95],\"yaxis\":\"y\"},{\"hovertemplate\":\"<b>%{hovertext}</b><br><br>Estado=Campeche<br>Year=2020<br>Consumption kWhr/year=%{marker.size}<br>Radiation TWhr/year=%{y}<extra></extra>\",\"hovertext\":[\"Campeche\"],\"ids\":[\"Campeche\"],\"legendgroup\":\"Campeche\",\"marker\":{\"color\":\"#ab63fa\",\"size\":[650000],\"sizemode\":\"area\",\"sizeref\":5980.165289256199,\"symbol\":\"circle\"},\"mode\":\"markers\",\"name\":\"Campeche\",\"orientation\":\"v\",\"showlegend\":true,\"type\":\"scatter\",\"x\":[650000],\"xaxis\":\"x\",\"y\":[117967.63],\"yaxis\":\"y\"},{\"hovertemplate\":\"<b>%{hovertext}</b><br><br>Estado=Chiapas<br>Year=2020<br>Consumption kWhr/year=%{marker.size}<br>Radiation TWhr/year=%{y}<extra></extra>\",\"hovertext\":[\"Chiapas\"],\"ids\":[\"Chiapas\"],\"legendgroup\":\"Chiapas\",\"marker\":{\"color\":\"#FFA15A\",\"size\":[1636100],\"sizemode\":\"area\",\"sizeref\":5980.165289256199,\"symbol\":\"circle\"},\"mode\":\"markers\",\"name\":\"Chiapas\",\"orientation\":\"v\",\"showlegend\":true,\"type\":\"scatter\",\"x\":[1636100],\"xaxis\":\"x\",\"y\":[148325.68],\"yaxis\":\"y\"},{\"hovertemplate\":\"<b>%{hovertext}</b><br><br>Estado=Chihuahua<br>Year=2020<br>Consumption kWhr/year=%{marker.size}<br>Radiation TWhr/year=%{y}<extra></extra>\",\"hovertext\":[\"Chihuahua\"],\"ids\":[\"Chihuahua\"],\"legendgroup\":\"Chihuahua\",\"marker\":{\"color\":\"#19d3f3\",\"size\":[6113600],\"sizemode\":\"area\",\"sizeref\":5980.165289256199,\"symbol\":\"circle\"},\"mode\":\"markers\",\"name\":\"Chihuahua\",\"orientation\":\"v\",\"showlegend\":true,\"type\":\"scatter\",\"x\":[6113600],\"xaxis\":\"x\",\"y\":[502440.45],\"yaxis\":\"y\"},{\"hovertemplate\":\"<b>%{hovertext}</b><br><br>Estado=Coahuila<br>Year=2020<br>Consumption kWhr/year=%{marker.size}<br>Radiation TWhr/year=%{y}<extra></extra>\",\"hovertext\":[\"Coahuila\"],\"ids\":[\"Coahuila\"],\"legendgroup\":\"Coahuila\",\"marker\":{\"color\":\"#FF6692\",\"size\":[4512500],\"sizemode\":\"area\",\"sizeref\":5980.165289256199,\"symbol\":\"circle\"},\"mode\":\"markers\",\"name\":\"Coahuila\",\"orientation\":\"v\",\"showlegend\":true,\"type\":\"scatter\",\"x\":[4512500],\"xaxis\":\"x\",\"y\":[307139.86],\"yaxis\":\"y\"},{\"hovertemplate\":\"<b>%{hovertext}</b><br><br>Estado=Colima<br>Year=2020<br>Consumption kWhr/year=%{marker.size}<br>Radiation TWhr/year=%{y}<extra></extra>\",\"hovertext\":[\"Colima\"],\"ids\":[\"Colima\"],\"legendgroup\":\"Colima\",\"marker\":{\"color\":\"#B6E880\",\"size\":[1021500],\"sizemode\":\"area\",\"sizeref\":5980.165289256199,\"symbol\":\"circle\"},\"mode\":\"markers\",\"name\":\"Colima\",\"orientation\":\"v\",\"showlegend\":true,\"type\":\"scatter\",\"x\":[1021500],\"xaxis\":\"x\",\"y\":[11584.71],\"yaxis\":\"y\"},{\"hovertemplate\":\"<b>%{hovertext}</b><br><br>Estado=Distrito Federal<br>Year=2020<br>Consumption kWhr/year=%{marker.size}<br>Radiation TWhr/year=%{y}<extra></extra>\",\"hovertext\":[\"Distrito Federal\"],\"ids\":[\"Distrito Federal\"],\"legendgroup\":\"Distrito Federal\",\"marker\":{\"color\":\"#FF97FF\",\"size\":[5860300],\"sizemode\":\"area\",\"sizeref\":5980.165289256199,\"symbol\":\"circle\"},\"mode\":\"markers\",\"name\":\"Distrito Federal\",\"orientation\":\"v\",\"showlegend\":true,\"type\":\"scatter\",\"x\":[5860300],\"xaxis\":\"x\",\"y\":[3076.37],\"yaxis\":\"y\"},{\"hovertemplate\":\"<b>%{hovertext}</b><br><br>Estado=Durango<br>Year=2020<br>Consumption kWhr/year=%{marker.size}<br>Radiation TWhr/year=%{y}<extra></extra>\",\"hovertext\":[\"Durango\"],\"ids\":[\"Durango\"],\"legendgroup\":\"Durango\",\"marker\":{\"color\":\"#FECB52\",\"size\":[1572400],\"sizemode\":\"area\",\"sizeref\":5980.165289256199,\"symbol\":\"circle\"},\"mode\":\"markers\",\"name\":\"Durango\",\"orientation\":\"v\",\"showlegend\":true,\"type\":\"scatter\",\"x\":[1572400],\"xaxis\":\"x\",\"y\":[249750.34],\"yaxis\":\"y\"},{\"hovertemplate\":\"<b>%{hovertext}</b><br><br>Estado=M\\u00e9xico<br>Year=2020<br>Consumption kWhr/year=%{marker.size}<br>Radiation TWhr/year=%{y}<extra></extra>\",\"hovertext\":[\"M\\u00e9xico\"],\"ids\":[\"M\\u00e9xico\"],\"legendgroup\":\"M\\u00e9xico\",\"marker\":{\"color\":\"#636efa\",\"size\":[7936100],\"sizemode\":\"area\",\"sizeref\":5980.165289256199,\"symbol\":\"circle\"},\"mode\":\"markers\",\"name\":\"M\\u00e9xico\",\"orientation\":\"v\",\"showlegend\":true,\"type\":\"scatter\",\"x\":[7936100],\"xaxis\":\"x\",\"y\":[46003.27],\"yaxis\":\"y\"},{\"hovertemplate\":\"<b>%{hovertext}</b><br><br>Estado=Guanajuato<br>Year=2020<br>Consumption kWhr/year=%{marker.size}<br>Radiation TWhr/year=%{y}<extra></extra>\",\"hovertext\":[\"Guanajuato\"],\"ids\":[\"Guanajuato\"],\"legendgroup\":\"Guanajuato\",\"marker\":{\"color\":\"#EF553B\",\"size\":[5754400],\"sizemode\":\"area\",\"sizeref\":5980.165289256199,\"symbol\":\"circle\"},\"mode\":\"markers\",\"name\":\"Guanajuato\",\"orientation\":\"v\",\"showlegend\":true,\"type\":\"scatter\",\"x\":[5754400],\"xaxis\":\"x\",\"y\":[63149.54],\"yaxis\":\"y\"},{\"hovertemplate\":\"<b>%{hovertext}</b><br><br>Estado=Guerrero<br>Year=2020<br>Consumption kWhr/year=%{marker.size}<br>Radiation TWhr/year=%{y}<extra></extra>\",\"hovertext\":[\"Guerrero\"],\"ids\":[\"Guerrero\"],\"legendgroup\":\"Guerrero\",\"marker\":{\"color\":\"#00cc96\",\"size\":[1553100],\"sizemode\":\"area\",\"sizeref\":5980.165289256199,\"symbol\":\"circle\"},\"mode\":\"markers\",\"name\":\"Guerrero\",\"orientation\":\"v\",\"showlegend\":true,\"type\":\"scatter\",\"x\":[1553100],\"xaxis\":\"x\",\"y\":[129871.13],\"yaxis\":\"y\"},{\"hovertemplate\":\"<b>%{hovertext}</b><br><br>Estado=Hidalgo<br>Year=2020<br>Consumption kWhr/year=%{marker.size}<br>Radiation TWhr/year=%{y}<extra></extra>\",\"hovertext\":[\"Hidalgo\"],\"ids\":[\"Hidalgo\"],\"legendgroup\":\"Hidalgo\",\"marker\":{\"color\":\"#ab63fa\",\"size\":[1904700],\"sizemode\":\"area\",\"sizeref\":5980.165289256199,\"symbol\":\"circle\"},\"mode\":\"markers\",\"name\":\"Hidalgo\",\"orientation\":\"v\",\"showlegend\":true,\"type\":\"scatter\",\"x\":[1904700],\"xaxis\":\"x\",\"y\":[42813.45],\"yaxis\":\"y\"},{\"hovertemplate\":\"<b>%{hovertext}</b><br><br>Estado=Jalisco<br>Year=2020<br>Consumption kWhr/year=%{marker.size}<br>Radiation TWhr/year=%{y}<extra></extra>\",\"hovertext\":[\"Jalisco\"],\"ids\":[\"Jalisco\"],\"legendgroup\":\"Jalisco\",\"marker\":{\"color\":\"#FFA15A\",\"size\":[6502600],\"sizemode\":\"area\",\"sizeref\":5980.165289256199,\"symbol\":\"circle\"},\"mode\":\"markers\",\"name\":\"Jalisco\",\"orientation\":\"v\",\"showlegend\":true,\"type\":\"scatter\",\"x\":[6502600],\"xaxis\":\"x\",\"y\":[161651.71],\"yaxis\":\"y\"},{\"hovertemplate\":\"<b>%{hovertext}</b><br><br>Estado=Michoac\\u00e1n<br>Year=2020<br>Consumption kWhr/year=%{marker.size}<br>Radiation TWhr/year=%{y}<extra></extra>\",\"hovertext\":[\"Michoac\\u00e1n\"],\"ids\":[\"Michoac\\u00e1n\"],\"legendgroup\":\"Michoac\\u00e1n\",\"marker\":{\"color\":\"#19d3f3\",\"size\":[3692000],\"sizemode\":\"area\",\"sizeref\":5980.165289256199,\"symbol\":\"circle\"},\"mode\":\"markers\",\"name\":\"Michoac\\u00e1n\",\"orientation\":\"v\",\"showlegend\":true,\"type\":\"scatter\",\"x\":[3692000],\"xaxis\":\"x\",\"y\":[120653.92],\"yaxis\":\"y\"},{\"hovertemplate\":\"<b>%{hovertext}</b><br><br>Estado=Morelos<br>Year=2020<br>Consumption kWhr/year=%{marker.size}<br>Radiation TWhr/year=%{y}<extra></extra>\",\"hovertext\":[\"Morelos\"],\"ids\":[\"Morelos\"],\"legendgroup\":\"Morelos\",\"marker\":{\"color\":\"#FF6692\",\"size\":[1221400],\"sizemode\":\"area\",\"sizeref\":5980.165289256199,\"symbol\":\"circle\"},\"mode\":\"markers\",\"name\":\"Morelos\",\"orientation\":\"v\",\"showlegend\":true,\"type\":\"scatter\",\"x\":[1221400],\"xaxis\":\"x\",\"y\":[10053.05],\"yaxis\":\"y\"},{\"hovertemplate\":\"<b>%{hovertext}</b><br><br>Estado=Nayarit<br>Year=2020<br>Consumption kWhr/year=%{marker.size}<br>Radiation TWhr/year=%{y}<extra></extra>\",\"hovertext\":[\"Nayarit\"],\"ids\":[\"Nayarit\"],\"legendgroup\":\"Nayarit\",\"marker\":{\"color\":\"#B6E880\",\"size\":[725100],\"sizemode\":\"area\",\"sizeref\":5980.165289256199,\"symbol\":\"circle\"},\"mode\":\"markers\",\"name\":\"Nayarit\",\"orientation\":\"v\",\"showlegend\":true,\"type\":\"scatter\",\"x\":[725100],\"xaxis\":\"x\",\"y\":[56518.92],\"yaxis\":\"y\"},{\"hovertemplate\":\"<b>%{hovertext}</b><br><br>Estado=Nuevo Le\\u00f3n<br>Year=2020<br>Consumption kWhr/year=%{marker.size}<br>Radiation TWhr/year=%{y}<extra></extra>\",\"hovertext\":[\"Nuevo Le\\u00f3n\"],\"ids\":[\"Nuevo Le\\u00f3n\"],\"legendgroup\":\"Nuevo Le\\u00f3n\",\"marker\":{\"color\":\"#FF97FF\",\"size\":[7246900],\"sizemode\":\"area\",\"sizeref\":5980.165289256199,\"symbol\":\"circle\"},\"mode\":\"markers\",\"name\":\"Nuevo Le\\u00f3n\",\"orientation\":\"v\",\"showlegend\":true,\"type\":\"scatter\",\"x\":[7246900],\"xaxis\":\"x\",\"y\":[129899.47],\"yaxis\":\"y\"},{\"hovertemplate\":\"<b>%{hovertext}</b><br><br>Estado=Oaxaca<br>Year=2020<br>Consumption kWhr/year=%{marker.size}<br>Radiation TWhr/year=%{y}<extra></extra>\",\"hovertext\":[\"Oaxaca\"],\"ids\":[\"Oaxaca\"],\"legendgroup\":\"Oaxaca\",\"marker\":{\"color\":\"#FECB52\",\"size\":[1434600],\"sizemode\":\"area\",\"sizeref\":5980.165289256199,\"symbol\":\"circle\"},\"mode\":\"markers\",\"name\":\"Oaxaca\",\"orientation\":\"v\",\"showlegend\":true,\"type\":\"scatter\",\"x\":[1434600],\"xaxis\":\"x\",\"y\":[191064.18],\"yaxis\":\"y\"},{\"hovertemplate\":\"<b>%{hovertext}</b><br><br>Estado=Puebla<br>Year=2020<br>Consumption kWhr/year=%{marker.size}<br>Radiation TWhr/year=%{y}<extra></extra>\",\"hovertext\":[\"Puebla\"],\"ids\":[\"Puebla\"],\"legendgroup\":\"Puebla\",\"marker\":{\"color\":\"#636efa\",\"size\":[3460500],\"sizemode\":\"area\",\"sizeref\":5980.165289256199,\"symbol\":\"circle\"},\"mode\":\"markers\",\"name\":\"Puebla\",\"orientation\":\"v\",\"showlegend\":true,\"type\":\"scatter\",\"x\":[3460500],\"xaxis\":\"x\",\"y\":[70279.81],\"yaxis\":\"y\"},{\"hovertemplate\":\"<b>%{hovertext}</b><br><br>Estado=Quer\\u00e9taro<br>Year=2020<br>Consumption kWhr/year=%{marker.size}<br>Radiation TWhr/year=%{y}<extra></extra>\",\"hovertext\":[\"Quer\\u00e9taro\"],\"ids\":[\"Quer\\u00e9taro\"],\"legendgroup\":\"Quer\\u00e9taro\",\"marker\":{\"color\":\"#EF553B\",\"size\":[2391200],\"sizemode\":\"area\",\"sizeref\":5980.165289256199,\"symbol\":\"circle\"},\"mode\":\"markers\",\"name\":\"Quer\\u00e9taro\",\"orientation\":\"v\",\"showlegend\":true,\"type\":\"scatter\",\"x\":[2391200],\"xaxis\":\"x\",\"y\":[24133.57],\"yaxis\":\"y\"},{\"hovertemplate\":\"<b>%{hovertext}</b><br><br>Estado=Quintana Roo<br>Year=2020<br>Consumption kWhr/year=%{marker.size}<br>Radiation TWhr/year=%{y}<extra></extra>\",\"hovertext\":[\"Quintana Roo\"],\"ids\":[\"Quintana Roo\"],\"legendgroup\":\"Quintana Roo\",\"marker\":{\"color\":\"#00cc96\",\"size\":[2121300],\"sizemode\":\"area\",\"sizeref\":5980.165289256199,\"symbol\":\"circle\"},\"mode\":\"markers\",\"name\":\"Quintana Roo\",\"orientation\":\"v\",\"showlegend\":true,\"type\":\"scatter\",\"x\":[2121300],\"xaxis\":\"x\",\"y\":[90878.83],\"yaxis\":\"y\"},{\"hovertemplate\":\"<b>%{hovertext}</b><br><br>Estado=San Luis Potos\\u00ed<br>Year=2020<br>Consumption kWhr/year=%{marker.size}<br>Radiation TWhr/year=%{y}<extra></extra>\",\"hovertext\":[\"San Luis Potos\\u00ed\"],\"ids\":[\"San Luis Potos\\u00ed\"],\"legendgroup\":\"San Luis Potos\\u00ed\",\"marker\":{\"color\":\"#ab63fa\",\"size\":[2771200],\"sizemode\":\"area\",\"sizeref\":5980.165289256199,\"symbol\":\"circle\"},\"mode\":\"markers\",\"name\":\"San Luis Potos\\u00ed\",\"orientation\":\"v\",\"showlegend\":true,\"type\":\"scatter\",\"x\":[2771200],\"xaxis\":\"x\",\"y\":[124225.89],\"yaxis\":\"y\"},{\"hovertemplate\":\"<b>%{hovertext}</b><br><br>Estado=Sinaloa<br>Year=2020<br>Consumption kWhr/year=%{marker.size}<br>Radiation TWhr/year=%{y}<extra></extra>\",\"hovertext\":[\"Sinaloa\"],\"ids\":[\"Sinaloa\"],\"legendgroup\":\"Sinaloa\",\"marker\":{\"color\":\"#FFA15A\",\"size\":[2603500],\"sizemode\":\"area\",\"sizeref\":5980.165289256199,\"symbol\":\"circle\"},\"mode\":\"markers\",\"name\":\"Sinaloa\",\"orientation\":\"v\",\"showlegend\":true,\"type\":\"scatter\",\"x\":[2603500],\"xaxis\":\"x\",\"y\":[117886.78],\"yaxis\":\"y\"},{\"hovertemplate\":\"<b>%{hovertext}</b><br><br>Estado=Sonora<br>Year=2020<br>Consumption kWhr/year=%{marker.size}<br>Radiation TWhr/year=%{y}<extra></extra>\",\"hovertext\":[\"Sonora\"],\"ids\":[\"Sonora\"],\"legendgroup\":\"Sonora\",\"marker\":{\"color\":\"#19d3f3\",\"size\":[3988700],\"sizemode\":\"area\",\"sizeref\":5980.165289256199,\"symbol\":\"circle\"},\"mode\":\"markers\",\"name\":\"Sonora\",\"orientation\":\"v\",\"showlegend\":true,\"type\":\"scatter\",\"x\":[3988700],\"xaxis\":\"x\",\"y\":[363869.91],\"yaxis\":\"y\"},{\"hovertemplate\":\"<b>%{hovertext}</b><br><br>Estado=Tabasco<br>Year=2020<br>Consumption kWhr/year=%{marker.size}<br>Radiation TWhr/year=%{y}<extra></extra>\",\"hovertext\":[\"Tabasco\"],\"ids\":[\"Tabasco\"],\"legendgroup\":\"Tabasco\",\"marker\":{\"color\":\"#FF6692\",\"size\":[1601200],\"sizemode\":\"area\",\"sizeref\":5980.165289256199,\"symbol\":\"circle\"},\"mode\":\"markers\",\"name\":\"Tabasco\",\"orientation\":\"v\",\"showlegend\":true,\"type\":\"scatter\",\"x\":[1601200],\"xaxis\":\"x\",\"y\":[50292.63],\"yaxis\":\"y\"},{\"hovertemplate\":\"<b>%{hovertext}</b><br><br>Estado=Tamaulipas<br>Year=2020<br>Consumption kWhr/year=%{marker.size}<br>Radiation TWhr/year=%{y}<extra></extra>\",\"hovertext\":[\"Tamaulipas\"],\"ids\":[\"Tamaulipas\"],\"legendgroup\":\"Tamaulipas\",\"marker\":{\"color\":\"#B6E880\",\"size\":[3752900],\"sizemode\":\"area\",\"sizeref\":5980.165289256199,\"symbol\":\"circle\"},\"mode\":\"markers\",\"name\":\"Tamaulipas\",\"orientation\":\"v\",\"showlegend\":true,\"type\":\"scatter\",\"x\":[3752900],\"xaxis\":\"x\",\"y\":[161886.84],\"yaxis\":\"y\"},{\"hovertemplate\":\"<b>%{hovertext}</b><br><br>Estado=Tlaxcala<br>Year=2020<br>Consumption kWhr/year=%{marker.size}<br>Radiation TWhr/year=%{y}<extra></extra>\",\"hovertext\":[\"Tlaxcala\"],\"ids\":[\"Tlaxcala\"],\"legendgroup\":\"Tlaxcala\",\"marker\":{\"color\":\"#FF97FF\",\"size\":[729400],\"sizemode\":\"area\",\"sizeref\":5980.165289256199,\"symbol\":\"circle\"},\"mode\":\"markers\",\"name\":\"Tlaxcala\",\"orientation\":\"v\",\"showlegend\":true,\"type\":\"scatter\",\"x\":[729400],\"xaxis\":\"x\",\"y\":[8162.76],\"yaxis\":\"y\"},{\"hovertemplate\":\"<b>%{hovertext}</b><br><br>Estado=Veracruz<br>Year=2020<br>Consumption kWhr/year=%{marker.size}<br>Radiation TWhr/year=%{y}<extra></extra>\",\"hovertext\":[\"Veracruz\"],\"ids\":[\"Veracruz\"],\"legendgroup\":\"Veracruz\",\"marker\":{\"color\":\"#FECB52\",\"size\":[4527600],\"sizemode\":\"area\",\"sizeref\":5980.165289256199,\"symbol\":\"circle\"},\"mode\":\"markers\",\"name\":\"Veracruz\",\"orientation\":\"v\",\"showlegend\":true,\"type\":\"scatter\",\"x\":[4527600],\"xaxis\":\"x\",\"y\":[144215.24],\"yaxis\":\"y\"},{\"hovertemplate\":\"<b>%{hovertext}</b><br><br>Estado=Yucat\\u00e1n<br>Year=2020<br>Consumption kWhr/year=%{marker.size}<br>Radiation TWhr/year=%{y}<extra></extra>\",\"hovertext\":[\"Yucat\\u00e1n\"],\"ids\":[\"Yucat\\u00e1n\"],\"legendgroup\":\"Yucat\\u00e1n\",\"marker\":{\"color\":\"#636efa\",\"size\":[1855000],\"sizemode\":\"area\",\"sizeref\":5980.165289256199,\"symbol\":\"circle\"},\"mode\":\"markers\",\"name\":\"Yucat\\u00e1n\",\"orientation\":\"v\",\"showlegend\":true,\"type\":\"scatter\",\"x\":[1855000],\"xaxis\":\"x\",\"y\":[81226.88],\"yaxis\":\"y\"},{\"hovertemplate\":\"<b>%{hovertext}</b><br><br>Estado=Zacatecas<br>Year=2020<br>Consumption kWhr/year=%{marker.size}<br>Radiation TWhr/year=%{y}<extra></extra>\",\"hovertext\":[\"Zacatecas\"],\"ids\":[\"Zacatecas\"],\"legendgroup\":\"Zacatecas\",\"marker\":{\"color\":\"#EF553B\",\"size\":[1184900],\"sizemode\":\"area\",\"sizeref\":5980.165289256199,\"symbol\":\"circle\"},\"mode\":\"markers\",\"name\":\"Zacatecas\",\"orientation\":\"v\",\"showlegend\":true,\"type\":\"scatter\",\"x\":[1184900],\"xaxis\":\"x\",\"y\":[153097.54],\"yaxis\":\"y\"}],\"name\":\"2020\"}]);\n",
       "                        }).then(function(){\n",
       "                            \n",
       "var gd = document.getElementById('39f47d82-b90d-4f9f-9108-906f273242a1');\n",
       "var x = new MutationObserver(function (mutations, observer) {{\n",
       "        var display = window.getComputedStyle(gd).display;\n",
       "        if (!display || display === 'none') {{\n",
       "            console.log([gd, 'removed!']);\n",
       "            Plotly.purge(gd);\n",
       "            observer.disconnect();\n",
       "        }}\n",
       "}});\n",
       "\n",
       "// Listen for the removal of the full notebook cells\n",
       "var notebookContainer = gd.closest('#notebook-container');\n",
       "if (notebookContainer) {{\n",
       "    x.observe(notebookContainer, {childList: true});\n",
       "}}\n",
       "\n",
       "// Listen for the clearing of the current output cell\n",
       "var outputEl = gd.closest('.output');\n",
       "if (outputEl) {{\n",
       "    x.observe(outputEl, {childList: true});\n",
       "}}\n",
       "\n",
       "                        })                };                });            </script>        </div>"
      ]
     },
     "metadata": {},
     "output_type": "display_data"
    }
   ],
   "source": [
    "#Plotting interactive scatter plot. Click \"Autoscale\" on the plot menu after plotting to see the graph.\n",
    "fig = px.scatter(yearly_consumption, x='Consumption', y=\"Radiation\", animation_frame=\"Year\", \n",
    "                 animation_group=yearly_consumption.index, size=\"Consumption\", \n",
    "                 color=yearly_consumption.index, hover_name=yearly_consumption.index,\n",
    "                 log_x=True, size_max=55, range_x=[100,100000], range_y=[25,90],\n",
    "                labels=dict(Consumption='Consumption kWhr/year', Radiation=\"Radiation TWhr/year\"))\n",
    "fig.show()"
   ]
  }
 ],
 "metadata": {
  "kernelspec": {
   "display_name": "Python 3",
   "language": "python",
   "name": "python3"
  },
  "language_info": {
   "codemirror_mode": {
    "name": "ipython",
    "version": 3
   },
   "file_extension": ".py",
   "mimetype": "text/x-python",
   "name": "python",
   "nbconvert_exporter": "python",
   "pygments_lexer": "ipython3",
   "version": "3.9.7"
  }
 },
 "nbformat": 4,
 "nbformat_minor": 5
}
